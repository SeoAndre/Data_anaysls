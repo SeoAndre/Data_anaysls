{
 "cells": [
  {
   "cell_type": "code",
   "execution_count": 1,
   "id": "85b9ec5d",
   "metadata": {},
   "outputs": [],
   "source": [
    "# !pip install selenium\n",
    "# !pip install bs4\n",
    "# chromedriver download link : https://chromedriver.chromium.org/downloads"
   ]
  },
  {
   "cell_type": "code",
   "execution_count": 2,
   "id": "fa986282",
   "metadata": {},
   "outputs": [],
   "source": [
    "import requests\n",
    "import time\n",
    "import pandas as pd\n",
    "from bs4 import BeautifulSoup\n",
    "from selenium import webdriver\n",
    "from selenium.webdriver.support.ui import Select"
   ]
  },
  {
   "cell_type": "code",
   "execution_count": 3,
   "id": "93395d96",
   "metadata": {},
   "outputs": [],
   "source": [
    "# 확인하고 싶은 아이디 입력\n",
    "summoner_name = 'bbo bbo'"
   ]
  },
  {
   "cell_type": "code",
   "execution_count": 4,
   "id": "7a6dc608",
   "metadata": {},
   "outputs": [],
   "source": [
    "Damage = []\n",
    "CS = []\n",
    "Tower = []\n",
    "Wardplaced = []\n",
    "visionWardplaced = []\n",
    "WardKilled = []\n",
    "Kill = []\n",
    "Death = []\n",
    "Assist = []\n",
    "Level = []\n",
    "Gold = []"
   ]
  },
  {
   "cell_type": "code",
   "execution_count": 5,
   "id": "4cd86c90",
   "metadata": {},
   "outputs": [],
   "source": [
    "# selenium을 백그라운드로 실행하기 위해 옵션 설정\n",
    "options = webdriver.ChromeOptions()\n",
    "options.add_argument('headless')\n",
    "options.add_argument('window-size=1920x1080')"
   ]
  },
  {
   "cell_type": "code",
   "execution_count": 6,
   "id": "acbce3b9",
   "metadata": {},
   "outputs": [
    {
     "name": "stderr",
     "output_type": "stream",
     "text": [
      "<ipython-input-6-a920032345d3>:3: DeprecationWarning: executable_path has been deprecated, please pass in a Service object\n",
      "  driver = webdriver.Chrome(chrome_driver_path)\n"
     ]
    }
   ],
   "source": [
    "summoner_url = 'https://poro.gg/summoner/kr/' + summoner_name\n",
    "chrome_driver_path = \"C:/Users/Brena-30/Desktop/[opgg데이터분석가]/chromedriver\"\n",
    "driver = webdriver.Chrome(chrome_driver_path)\n",
    "\n",
    "driver.get(summoner_url)"
   ]
  },
  {
   "cell_type": "code",
   "execution_count": 7,
   "id": "e8a41e14",
   "metadata": {
    "scrolled": true
   },
   "outputs": [
    {
     "name": "stderr",
     "output_type": "stream",
     "text": [
      "<ipython-input-7-ffc1771d7fd9>:1: DeprecationWarning: find_element_by_* commands are deprecated. Please use find_element() instead\n",
      "  solo_rank_button = driver.find_element_by_css_selector(\"#vue-profile > div.match-history-container.mt-3 > div:nth-child(1) > div.summoner-box__content > div > div.match-history-filter__queue-types > button:nth-child(2)\")\n"
     ]
    }
   ],
   "source": [
    "solo_rank_button = driver.find_element_by_css_selector(\"#vue-profile > div.match-history-container.mt-3 > div:nth-child(1) > div.summoner-box__content > div > div.match-history-filter__queue-types > button:nth-child(2)\")\n",
    "solo_rank_button.click()\n",
    "time.sleep(2)"
   ]
  },
  {
   "cell_type": "code",
   "execution_count": 8,
   "id": "62da2f9c",
   "metadata": {},
   "outputs": [],
   "source": [
    "# click_count = 0\n",
    "# while True:\n",
    "# #     if click_count == 3:\n",
    "# #         break \n",
    "        \n",
    "#     try:   \n",
    "#         #더보기 클릭\n",
    "#         driver.find_element_by_css_selector(\"#vue-profile > div.match-history-container.mt-3 > button\").click()\n",
    "#         time.sleep(1)\n",
    "#         click_count += 1\n",
    "\n",
    "#     except Exception as e:\n",
    "#         pass\n",
    "#         break"
   ]
  },
  {
   "cell_type": "code",
   "execution_count": 9,
   "id": "6f826e70",
   "metadata": {},
   "outputs": [
    {
     "name": "stderr",
     "output_type": "stream",
     "text": [
      "<ipython-input-9-f884d88b72ee>:4: DeprecationWarning: find_element_by_* commands are deprecated. Please use find_element() instead\n",
      "  driver.find_element_by_css_selector(\"#vue-profile > div.match-history-container.mt-3 > div:nth-child(\" + str(start) + \") > div > div.match-history__expand-toggle\").click()\n"
     ]
    }
   ],
   "source": [
    "start = 3\n",
    "while True:\n",
    "    try:\n",
    "        driver.find_element_by_css_selector(\"#vue-profile > div.match-history-container.mt-3 > div:nth-child(\" + str(start) + \") > div > div.match-history__expand-toggle\").click()\n",
    "        time.sleep(0.5)\n",
    "        start += 1\n",
    "    \n",
    "    except Exception as e:\n",
    "        pass\n",
    "        break"
   ]
  },
  {
   "cell_type": "code",
   "execution_count": 10,
   "id": "80d6cc7b",
   "metadata": {},
   "outputs": [],
   "source": [
    "# 전체 펼친 html\n",
    "summoner_html = driver.page_source\n",
    "summoner_soup = BeautifulSoup(summoner_html, 'html.parser')"
   ]
  },
  {
   "cell_type": "code",
   "execution_count": 11,
   "id": "b0d1f057",
   "metadata": {},
   "outputs": [],
   "source": [
    "driver.quit()"
   ]
  },
  {
   "cell_type": "code",
   "execution_count": 12,
   "id": "c379cff7",
   "metadata": {},
   "outputs": [],
   "source": [
    "summoner_games_html = summoner_soup.select('div.match-history__content')"
   ]
  },
  {
   "cell_type": "code",
   "execution_count": 13,
   "id": "77a5883b",
   "metadata": {},
   "outputs": [],
   "source": [
    "# 불러오는 게임의 수\n",
    "# games_len = len(summoner_games_html)\n",
    "games_len = 13"
   ]
  },
  {
   "cell_type": "code",
   "execution_count": 14,
   "id": "90817225",
   "metadata": {},
   "outputs": [],
   "source": [
    "for i in range(games_len):\n",
    "    Level.append(int(list(summoner_games_html[i].select_one('div.champion').stripped_strings)[0]))\n",
    "    CS.append(int(list(summoner_games_html[i].select_one('div.info').stripped_strings)[3]))\n",
    "    Kill.append(int(list(summoner_games_html[i].select_one('div.kda').stripped_strings)[0]))\n",
    "    Death.append(int(list(summoner_games_html[i].select_one('div.kda').stripped_strings)[2]))\n",
    "    Assist.append(int(list(summoner_games_html[i].select_one('div.kda').stripped_strings)[4]))\n",
    "    Wardplaced.append(int(list(summoner_games_html[i].select_one(' div.wards.mt-1').stripped_strings)[1]))\n",
    "    visionWardplaced.append(int(list(summoner_games_html[i].select_one(' div.wards.mt-1').stripped_strings)[0]))\n",
    "    WardKilled.append(int(list(summoner_games_html[i].select_one(' div.wards.mt-1').stripped_strings)[2]))"
   ]
  },
  {
   "cell_type": "code",
   "execution_count": 15,
   "id": "6faa7f2c",
   "metadata": {},
   "outputs": [],
   "source": [
    "# 게임의 결과가 승리인지 패배인지 알려주는 html\n",
    "# 각 게임의 '자세히보기' 버튼을 눌러야 나오는 정보들을 담는 코드\n",
    "\n",
    "for i in range(games_len):\n",
    "    summoner_games_html = summoner_soup.select('div.match-history__result')\n",
    "    if list(summoner_games_html[i].stripped_strings)[0] == '패배':\n",
    "        summoner_games_html = summoner_soup.select('div.match-history-detail__content')\n",
    "        selector1 = '#vue-profile > div.match-history-container.mt-3 > div:nth-child(' + str(i+3) + ') > div.match-history-detail > div.match-history-detail__content > div > div > div.col-12.col-lg-6.border-e6-left-md > div > div.match-detail-overview__summoners > div.match-detail-overview__summoner.match-detail-overview__summoner--me > div > div.match-detail-overview__summoner__column.stats > div.wards > div:nth-child(2) > span'\n",
    "        selector2 = '#vue-profile > div.match-history-container.mt-3 > div:nth-child(' + str(i+3) + ') > div.match-history-detail > div.match-history-detail__content > div > div > div.col-12.col-lg-6.border-e6-left-md > div > div.match-detail-overview__summoners > div.match-detail-overview__summoner.match-detail-overview__summoner--me > div > div.match-detail-overview__summoner__column.stats > div.graph > span'\n",
    "    elif list(summoner_games_html[i].stripped_strings)[0] == '승리':\n",
    "        summoner_games_html = summoner_soup.select('div.match-history-detail__content')\n",
    "        selector1 = '#vue-profile > div.match-history-container.mt-3 > div:nth-child(' + str(i+3) + ') > div.match-history-detail > div.match-history-detail__content > div > div > div:nth-child(1) > div > div.match-detail-overview__summoners > div.match-detail-overview__summoner.match-detail-overview__summoner--me > div > div.match-detail-overview__summoner__column.stats > div.wards > div:nth-child(2) > span'\n",
    "        selector2 = '#vue-profile > div.match-history-container.mt-3 > div:nth-child(' + str(i+3) + ') > div.match-history-detail > div.match-history-detail__content > div > div > div:nth-child(1) > div > div.match-detail-overview__summoners > div.match-detail-overview__summoner.match-detail-overview__summoner--me > div > div.match-detail-overview__summoner__column.stats > div.graph > span'\n",
    "        \n",
    "    gold = list(summoner_games_html[i].select_one(selector1).stripped_strings)[0]\n",
    "    damage = list(summoner_games_html[i].select_one(selector2).stripped_strings)[0]\n",
    "    if gold[-1] == '천':\n",
    "        g = float(gold[:-1])\n",
    "        g = int(g * 1000)\n",
    "        Gold.append(g)\n",
    "        \n",
    "    elif gold[-1] == '만':\n",
    "        g = float(gold[:-1])\n",
    "        g = int(g * 10000)\n",
    "        Gold.append(g)\n",
    "        \n",
    "    if ',' in damage:\n",
    "        damage = damage.replace(',', '')\n",
    "        damage = int(damage)\n",
    "        Damage.append(damage)\n",
    "    \n",
    "    time.sleep(0.5)"
   ]
  },
  {
   "cell_type": "code",
   "execution_count": 16,
   "id": "4406ca4e",
   "metadata": {},
   "outputs": [],
   "source": [
    "my_average_cs = round((sum(CS) / games_len), 1)\n",
    "my_average_kill = round((sum(Kill) / games_len), 1)\n",
    "my_average_death = round((sum(Death) / games_len), 1)\n",
    "my_average_Assist = round((sum(Assist) / games_len), 1)\n",
    "my_level = round((sum(Level) / games_len), 1)\n",
    "my_wardplaced = round((sum(Wardplaced) / games_len), 1)\n",
    "my_visionWardplaced = round((sum(visionWardplaced) / games_len), 1)\n",
    "my_wardkilled = round((sum(WardKilled) / games_len), 1)\n",
    "my_gold = round((sum(Gold) / games_len), 1)\n",
    "my_damage = round((sum(Damage) / games_len), 1)"
   ]
  },
  {
   "cell_type": "code",
   "execution_count": 17,
   "id": "95b1c14a",
   "metadata": {},
   "outputs": [],
   "source": [
    "df = pd.DataFrame([my_level, my_average_cs, my_average_kill, my_average_death, \n",
    "                   my_average_Assist, my_wardplaced, my_visionWardplaced, my_wardkilled,\n",
    "                  my_gold, my_damage],\n",
    "                 index = [\"Level\", \"CS\", \"Kill\", \"Death\", \"Assist\", \n",
    "                          \"wardPlaced\", \"visionwardPlaced\", \"wardkilled\",\n",
    "                         \"Gold\", \"Damage\"]).T"
   ]
  },
  {
   "cell_type": "code",
   "execution_count": 18,
   "id": "9024ba65",
   "metadata": {},
   "outputs": [
    {
     "data": {
      "text/html": [
       "<div>\n",
       "<style scoped>\n",
       "    .dataframe tbody tr th:only-of-type {\n",
       "        vertical-align: middle;\n",
       "    }\n",
       "\n",
       "    .dataframe tbody tr th {\n",
       "        vertical-align: top;\n",
       "    }\n",
       "\n",
       "    .dataframe thead th {\n",
       "        text-align: right;\n",
       "    }\n",
       "</style>\n",
       "<table border=\"1\" class=\"dataframe\">\n",
       "  <thead>\n",
       "    <tr style=\"text-align: right;\">\n",
       "      <th></th>\n",
       "      <th>Level</th>\n",
       "      <th>CS</th>\n",
       "      <th>Kill</th>\n",
       "      <th>Death</th>\n",
       "      <th>Assist</th>\n",
       "      <th>wardPlaced</th>\n",
       "      <th>visionwardPlaced</th>\n",
       "      <th>wardkilled</th>\n",
       "      <th>Gold</th>\n",
       "      <th>Damage</th>\n",
       "    </tr>\n",
       "  </thead>\n",
       "  <tbody>\n",
       "    <tr>\n",
       "      <th>0</th>\n",
       "      <td>14.2</td>\n",
       "      <td>152.4</td>\n",
       "      <td>7.2</td>\n",
       "      <td>5.2</td>\n",
       "      <td>9.9</td>\n",
       "      <td>9.0</td>\n",
       "      <td>5.2</td>\n",
       "      <td>4.2</td>\n",
       "      <td>11961.5</td>\n",
       "      <td>19860.4</td>\n",
       "    </tr>\n",
       "  </tbody>\n",
       "</table>\n",
       "</div>"
      ],
      "text/plain": [
       "   Level     CS  Kill  Death  Assist  wardPlaced  visionwardPlaced  \\\n",
       "0   14.2  152.4   7.2    5.2     9.9         9.0               5.2   \n",
       "\n",
       "   wardkilled     Gold   Damage  \n",
       "0         4.2  11961.5  19860.4  "
      ]
     },
     "execution_count": 18,
     "metadata": {},
     "output_type": "execute_result"
    }
   ],
   "source": [
    "df"
   ]
  }
 ],
 "metadata": {
  "kernelspec": {
   "display_name": "Python 3 (ipykernel)",
   "language": "python",
   "name": "python3"
  },
  "language_info": {
   "codemirror_mode": {
    "name": "ipython",
    "version": 3
   },
   "file_extension": ".py",
   "mimetype": "text/x-python",
   "name": "python",
   "nbconvert_exporter": "python",
   "pygments_lexer": "ipython3",
   "version": "3.8.11"
  }
 },
 "nbformat": 4,
 "nbformat_minor": 5
}
