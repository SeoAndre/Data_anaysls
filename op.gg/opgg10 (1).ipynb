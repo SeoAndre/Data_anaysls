{
 "cells": [
  {
   "cell_type": "code",
   "execution_count": null,
   "metadata": {
    "id": "KGVxLTWoOtpR"
   },
   "outputs": [],
   "source": [
    "!pip install selenium\n",
    "!apt-get update\n",
    "!apt install chromium-chromedriver"
   ]
  },
  {
   "cell_type": "code",
   "execution_count": null,
   "metadata": {
    "id": "CazjlXg72oJ2"
   },
   "outputs": [],
   "source": [
    "import requests\n",
    "import time\n",
    "import pandas as pd\n",
    "import numpy as np\n",
    "import matplotlib.pyplot as plt\n",
    "import seaborn as sns\n",
    "from scipy.stats import norm\n",
    "import math\n",
    "from bs4 import BeautifulSoup\n",
    "from selenium import webdriver\n",
    "from selenium.webdriver.support.ui import Select"
   ]
  },
  {
   "cell_type": "code",
   "execution_count": null,
   "metadata": {
    "colab": {
     "base_uri": "https://localhost:8080/"
    },
    "executionInfo": {
     "elapsed": 24616,
     "status": "ok",
     "timestamp": 1638869505827,
     "user": {
      "displayName": "정현준",
      "photoUrl": "https://lh3.googleusercontent.com/a-/AOh14GjblSrmpHoQbtrPVJi5oCCrPNEqYZxMhuA8MFP_sw=s64",
      "userId": "17851274337180756350"
     },
     "user_tz": -540
    },
    "id": "abVi65Ps3hsJ",
    "outputId": "fa018e50-5dd4-41b5-883b-6dfff5602315"
   },
   "outputs": [
    {
     "name": "stdout",
     "output_type": "stream",
     "text": [
      "Mounted at ./mount\n"
     ]
    }
   ],
   "source": [
    "from google.colab import drive\n",
    "drive.mount('./mount')"
   ]
  },
  {
   "cell_type": "code",
   "execution_count": null,
   "metadata": {
    "id": "6I1CV1S93iDu"
   },
   "outputs": [],
   "source": [
    "data = pd.read_csv('mount/My Drive/esport/6+7/BIPA_data.csv',index_col = 0)\n",
    "champStat = pd.read_csv('mount/MyDrive/esport/6+7/champ_stats.csv',index_col=0)\n",
    "\n",
    "#data = pd.read_csv('C:/Users/a/Desktop/BIPA_data.csv',index_col = 0)\n",
    "#champStat = pd.read_csv('C:/Users/a/Desktop/champ_stats.csv',index_col=0)"
   ]
  },
  {
   "cell_type": "code",
   "execution_count": null,
   "metadata": {
    "colab": {
     "base_uri": "https://localhost:8080/"
    },
    "executionInfo": {
     "elapsed": 12,
     "status": "ok",
     "timestamp": 1638875597123,
     "user": {
      "displayName": "정현준",
      "photoUrl": "https://lh3.googleusercontent.com/a-/AOh14GjblSrmpHoQbtrPVJi5oCCrPNEqYZxMhuA8MFP_sw=s64",
      "userId": "17851274337180756350"
     },
     "user_tz": -540
    },
    "id": "2MuGyXgztXgC",
    "outputId": "708246cc-68a6-43b5-fec9-c1a1e2363b74"
   },
   "outputs": [
    {
     "data": {
      "text/plain": [
       "1000000"
      ]
     },
     "execution_count": 281,
     "metadata": {},
     "output_type": "execute_result"
    }
   ],
   "source": [
    "data.shape[0]"
   ]
  },
  {
   "cell_type": "code",
   "execution_count": null,
   "metadata": {
    "colab": {
     "base_uri": "https://localhost:8080/"
    },
    "executionInfo": {
     "elapsed": 9,
     "status": "ok",
     "timestamp": 1638875597124,
     "user": {
      "displayName": "정현준",
      "photoUrl": "https://lh3.googleusercontent.com/a-/AOh14GjblSrmpHoQbtrPVJi5oCCrPNEqYZxMhuA8MFP_sw=s64",
      "userId": "17851274337180756350"
     },
     "user_tz": -540
    },
    "id": "22H1EcV-Ob1p",
    "outputId": "a09aa019-ced6-432b-d9c5-d02441d7d5e6"
   },
   "outputs": [
    {
     "data": {
      "text/plain": [
       "Index(['gameId', 'createDate', 'tierRank', 'position', 'teamId', 'summonerId',\n",
       "       'championId', 'result', 'level', 'championsKilled', 'numDeaths',\n",
       "       'assists', 'neutralMinionsKilled', 'turretsKilled', 'barracksKilled',\n",
       "       'minionsKilled', 'goldEarned', 'physicalDamageDealtToChampions',\n",
       "       'magicDamageDealtPlayer', 'physicalDamageTaken',\n",
       "       'sightWardsBoughtInGame', 'visionWardsBoughtInGame', 'wardKilled',\n",
       "       'wardPlaced', 'totalHeal', 'totalDamageDealtToChampions',\n",
       "       'totalDamageDealt', 'totalDamageTaken',\n",
       "       'neutralMinionsKilledEnemyJungle', 'neutralMinionsKilledTeamJungle',\n",
       "       'visionScore', 'damageSelfMitigated', 'damageDealtToObjectives',\n",
       "       'damageDealtToTurrets', 'lane', 'gameLength', 'version'],\n",
       "      dtype='object')"
      ]
     },
     "execution_count": 282,
     "metadata": {},
     "output_type": "execute_result"
    }
   ],
   "source": [
    "data.columns"
   ]
  },
  {
   "cell_type": "code",
   "execution_count": null,
   "metadata": {
    "id": "xkw7dwmjOb1q"
   },
   "outputs": [],
   "source": []
  },
  {
   "cell_type": "code",
   "execution_count": null,
   "metadata": {
    "colab": {
     "base_uri": "https://localhost:8080/"
    },
    "executionInfo": {
     "elapsed": 885,
     "status": "ok",
     "timestamp": 1638869521744,
     "user": {
      "displayName": "정현준",
      "photoUrl": "https://lh3.googleusercontent.com/a-/AOh14GjblSrmpHoQbtrPVJi5oCCrPNEqYZxMhuA8MFP_sw=s64",
      "userId": "17851274337180756350"
     },
     "user_tz": -540
    },
    "id": "fZ2XuuCTOb1r",
    "outputId": "02755de5-b204-4ae9-e78c-9d8e708208a2"
   },
   "outputs": [
    {
     "name": "stdout",
     "output_type": "stream",
     "text": [
      "200000\n",
      "200000\n",
      "200000\n",
      "200000\n",
      "200000\n"
     ]
    }
   ],
   "source": [
    "for i in data['position'].unique():\n",
    "    print(len(data[data['position']==i]))"
   ]
  },
  {
   "cell_type": "code",
   "execution_count": null,
   "metadata": {
    "id": "apY-_Dk1iGqq"
   },
   "outputs": [],
   "source": [
    "tierPoint = {'I':0 , 'B':400, 'S':800, 'G':1200, 'P':1600, 'D':2000, 'M':2400, 'R':2800, 'C':3200}\n",
    "inv_tierPoint = {0:'I',  1:'B', 2:'S', 3:'G', 4:'P', 5:'D', 6:'M', 7:'R', 8:'C'}"
   ]
  },
  {
   "cell_type": "code",
   "execution_count": null,
   "metadata": {
    "id": "QevThse5byAS"
   },
   "outputs": [],
   "source": [
    "def get_meanTier(gameId):\n",
    "    \n",
    "    summonerRank = data[data['gameId']==gameId]['tierRank']\n",
    "    cnt = 0\n",
    "    pointSum = 0\n",
    "    \n",
    "    for tier in summonerRank:\n",
    "        try:\n",
    "            pointSum += tierPoint[tier[0]]\n",
    "            pointSum += (4-int(tier[1]))*100\n",
    "            cnt += 1\n",
    "        except:\n",
    "            pass\n",
    "    \n",
    "    if cnt == 0:\n",
    "        return \"0000\"\n",
    "        \n",
    "    pointSum /= cnt\n",
    "    tier = inv_tierPoint[int(pointSum/400)]\n",
    "    division = math.ceil((400-pointSum%400)/100)\n",
    "    temp = tier + str(division)\n",
    "\n",
    "    return temp"
   ]
  },
  {
   "cell_type": "code",
   "execution_count": null,
   "metadata": {
    "id": "9TFTN0n9cLhW"
   },
   "outputs": [],
   "source": [
    "nanTierList_idx = data[data['tierRank'].isnull()].index"
   ]
  },
  {
   "cell_type": "code",
   "execution_count": null,
   "metadata": {
    "id": "GSPmti9KeE5l"
   },
   "outputs": [],
   "source": [
    "for idx in nanTierList_idx:\n",
    "    data.at[idx, 'tierRank'] = get_meanTier(data.iloc[idx]['gameId'])"
   ]
  },
  {
   "cell_type": "code",
   "execution_count": null,
   "metadata": {
    "colab": {
     "base_uri": "https://localhost:8080/"
    },
    "executionInfo": {
     "elapsed": 323,
     "status": "ok",
     "timestamp": 1638875822079,
     "user": {
      "displayName": "정현준",
      "photoUrl": "https://lh3.googleusercontent.com/a-/AOh14GjblSrmpHoQbtrPVJi5oCCrPNEqYZxMhuA8MFP_sw=s64",
      "userId": "17851274337180756350"
     },
     "user_tz": -540
    },
    "id": "3WNfv3atmVcL",
    "outputId": "9a01df3a-882a-48e1-f113-045ea8c2d4bf"
   },
   "outputs": [
    {
     "data": {
      "text/plain": [
       "13970"
      ]
     },
     "execution_count": 293,
     "metadata": {},
     "output_type": "execute_result"
    }
   ],
   "source": [
    "data[data['result']=='UNKNOWN'].shape[0]"
   ]
  },
  {
   "cell_type": "code",
   "execution_count": null,
   "metadata": {
    "id": "WYtKoiTgmVga"
   },
   "outputs": [],
   "source": [
    "unknown_result_idx = data[data['result']=='UNKNOWN'].index\n",
    "data = data.drop(unknown_result_idx)"
   ]
  },
  {
   "cell_type": "code",
   "execution_count": null,
   "metadata": {
    "colab": {
     "base_uri": "https://localhost:8080/"
    },
    "executionInfo": {
     "elapsed": 286,
     "status": "ok",
     "timestamp": 1638875851476,
     "user": {
      "displayName": "정현준",
      "photoUrl": "https://lh3.googleusercontent.com/a-/AOh14GjblSrmpHoQbtrPVJi5oCCrPNEqYZxMhuA8MFP_sw=s64",
      "userId": "17851274337180756350"
     },
     "user_tz": -540
    },
    "id": "FyGfMEs9mVkS",
    "outputId": "dc00a340-cba7-461e-c200-8ef69c61f9bf"
   },
   "outputs": [
    {
     "data": {
      "text/plain": [
       "986030"
      ]
     },
     "execution_count": 297,
     "metadata": {},
     "output_type": "execute_result"
    }
   ],
   "source": [
    "data.shape[0]"
   ]
  },
  {
   "cell_type": "code",
   "execution_count": null,
   "metadata": {
    "id": "wfl-Rb1MmVmw"
   },
   "outputs": [],
   "source": []
  },
  {
   "cell_type": "code",
   "execution_count": null,
   "metadata": {
    "id": "JUz_7fbzkRH-"
   },
   "outputs": [],
   "source": [
    "data['tier'] = data['tierRank'].str[0]\n",
    "data['division'] = data['tierRank'].str[1]\n",
    "data = data.drop(['tierRank'], axis=1)"
   ]
  },
  {
   "cell_type": "code",
   "execution_count": null,
   "metadata": {
    "id": "umRR8Uzicbn0"
   },
   "outputs": [],
   "source": [
    "for i in tierPoint.keys():\n",
    "    data.loc[data['tier']==i,'mmr'] = tierPoint[i] + (4 - pd.to_numeric(data['division'])) * 100"
   ]
  },
  {
   "cell_type": "code",
   "execution_count": null,
   "metadata": {
    "colab": {
     "base_uri": "https://localhost:8080/",
     "height": 163
    },
    "executionInfo": {
     "elapsed": 13,
     "status": "ok",
     "timestamp": 1638875872837,
     "user": {
      "displayName": "정현준",
      "photoUrl": "https://lh3.googleusercontent.com/a-/AOh14GjblSrmpHoQbtrPVJi5oCCrPNEqYZxMhuA8MFP_sw=s64",
      "userId": "17851274337180756350"
     },
     "user_tz": -540
    },
    "id": "zYSQYyBJSayP",
    "outputId": "eb72c8cd-60cb-4651-e6d7-59de2a260695"
   },
   "outputs": [
    {
     "data": {
      "text/html": [
       "<div>\n",
       "<style scoped>\n",
       "    .dataframe tbody tr th:only-of-type {\n",
       "        vertical-align: middle;\n",
       "    }\n",
       "\n",
       "    .dataframe tbody tr th {\n",
       "        vertical-align: top;\n",
       "    }\n",
       "\n",
       "    .dataframe thead th {\n",
       "        text-align: right;\n",
       "    }\n",
       "</style>\n",
       "<table border=\"1\" class=\"dataframe\">\n",
       "  <thead>\n",
       "    <tr style=\"text-align: right;\">\n",
       "      <th></th>\n",
       "      <th>tier</th>\n",
       "      <th>division</th>\n",
       "      <th>mmr</th>\n",
       "      <th>position</th>\n",
       "      <th>level</th>\n",
       "      <th>minionsKilled</th>\n",
       "      <th>championsKilled</th>\n",
       "      <th>numDeaths</th>\n",
       "      <th>assists</th>\n",
       "      <th>wardPlaced</th>\n",
       "      <th>visionWardsBoughtInGame</th>\n",
       "      <th>wardKilled</th>\n",
       "      <th>goldEarned</th>\n",
       "      <th>totalDamageDealtToChampions</th>\n",
       "      <th>gameLength</th>\n",
       "    </tr>\n",
       "  </thead>\n",
       "  <tbody>\n",
       "    <tr>\n",
       "      <th>0</th>\n",
       "      <td>P</td>\n",
       "      <td>3</td>\n",
       "      <td>1700.0</td>\n",
       "      <td>S</td>\n",
       "      <td>10</td>\n",
       "      <td>15</td>\n",
       "      <td>4</td>\n",
       "      <td>1</td>\n",
       "      <td>5</td>\n",
       "      <td>5</td>\n",
       "      <td>1</td>\n",
       "      <td>1</td>\n",
       "      <td>6083</td>\n",
       "      <td>5590</td>\n",
       "      <td>972</td>\n",
       "    </tr>\n",
       "    <tr>\n",
       "      <th>1</th>\n",
       "      <td>P</td>\n",
       "      <td>4</td>\n",
       "      <td>1600.0</td>\n",
       "      <td>S</td>\n",
       "      <td>8</td>\n",
       "      <td>7</td>\n",
       "      <td>1</td>\n",
       "      <td>3</td>\n",
       "      <td>3</td>\n",
       "      <td>6</td>\n",
       "      <td>3</td>\n",
       "      <td>3</td>\n",
       "      <td>4118</td>\n",
       "      <td>3827</td>\n",
       "      <td>972</td>\n",
       "    </tr>\n",
       "    <tr>\n",
       "      <th>2</th>\n",
       "      <td>P</td>\n",
       "      <td>3</td>\n",
       "      <td>1700.0</td>\n",
       "      <td>M</td>\n",
       "      <td>11</td>\n",
       "      <td>100</td>\n",
       "      <td>5</td>\n",
       "      <td>1</td>\n",
       "      <td>5</td>\n",
       "      <td>7</td>\n",
       "      <td>4</td>\n",
       "      <td>5</td>\n",
       "      <td>6769</td>\n",
       "      <td>9467</td>\n",
       "      <td>972</td>\n",
       "    </tr>\n",
       "  </tbody>\n",
       "</table>\n",
       "</div>"
      ],
      "text/plain": [
       "  tier division     mmr  ... goldEarned  totalDamageDealtToChampions  gameLength\n",
       "0    P        3  1700.0  ...       6083                         5590         972\n",
       "1    P        4  1600.0  ...       4118                         3827         972\n",
       "2    P        3  1700.0  ...       6769                         9467         972\n",
       "\n",
       "[3 rows x 15 columns]"
      ]
     },
     "execution_count": 300,
     "metadata": {},
     "output_type": "execute_result"
    }
   ],
   "source": [
    "data = data[['tier', 'division', 'mmr', 'position', 'level', 'minionsKilled', 'championsKilled', 'numDeaths', 'assists', 'wardPlaced', 'visionWardsBoughtInGame', 'wardKilled', 'goldEarned', 'totalDamageDealtToChampions', 'gameLength']]\n",
    "data.head(3)"
   ]
  },
  {
   "cell_type": "code",
   "execution_count": null,
   "metadata": {
    "colab": {
     "base_uri": "https://localhost:8080/"
    },
    "executionInfo": {
     "elapsed": 7,
     "status": "ok",
     "timestamp": 1638875873164,
     "user": {
      "displayName": "정현준",
      "photoUrl": "https://lh3.googleusercontent.com/a-/AOh14GjblSrmpHoQbtrPVJi5oCCrPNEqYZxMhuA8MFP_sw=s64",
      "userId": "17851274337180756350"
     },
     "user_tz": -540
    },
    "id": "_hXbV29FnKd6",
    "outputId": "21865801-2077-4ca4-d281-90c64eb240e0"
   },
   "outputs": [
    {
     "data": {
      "text/plain": [
       "986030"
      ]
     },
     "execution_count": 301,
     "metadata": {},
     "output_type": "execute_result"
    }
   ],
   "source": [
    "data.shape[0]"
   ]
  },
  {
   "cell_type": "code",
   "execution_count": null,
   "metadata": {
    "colab": {
     "base_uri": "https://localhost:8080/"
    },
    "executionInfo": {
     "elapsed": 3,
     "status": "ok",
     "timestamp": 1638875873477,
     "user": {
      "displayName": "정현준",
      "photoUrl": "https://lh3.googleusercontent.com/a-/AOh14GjblSrmpHoQbtrPVJi5oCCrPNEqYZxMhuA8MFP_sw=s64",
      "userId": "17851274337180756350"
     },
     "user_tz": -540
    },
    "id": "V7w889y4nh2A",
    "outputId": "1d6148e9-b3e7-4ae2-e141-4e4e9c60350b"
   },
   "outputs": [
    {
     "name": "stdout",
     "output_type": "stream",
     "text": [
      "1950\n"
     ]
    }
   ],
   "source": [
    "print(data[data['tier']=='0'].shape[0])\n",
    "nanidx = data[data['tier']=='0'].index"
   ]
  },
  {
   "cell_type": "code",
   "execution_count": null,
   "metadata": {
    "id": "peAm_3yikRKQ"
   },
   "outputs": [],
   "source": [
    "data = data.drop(nanidx)"
   ]
  },
  {
   "cell_type": "code",
   "execution_count": null,
   "metadata": {
    "colab": {
     "base_uri": "https://localhost:8080/"
    },
    "executionInfo": {
     "elapsed": 4,
     "status": "ok",
     "timestamp": 1638875876720,
     "user": {
      "displayName": "정현준",
      "photoUrl": "https://lh3.googleusercontent.com/a-/AOh14GjblSrmpHoQbtrPVJi5oCCrPNEqYZxMhuA8MFP_sw=s64",
      "userId": "17851274337180756350"
     },
     "user_tz": -540
    },
    "id": "OLesYA3pegKN",
    "outputId": "b70927ac-58e4-480d-f0e1-fb93973f814d"
   },
   "outputs": [
    {
     "data": {
      "text/plain": [
       "984080"
      ]
     },
     "execution_count": 304,
     "metadata": {},
     "output_type": "execute_result"
    }
   ],
   "source": [
    "data.shape[0]"
   ]
  },
  {
   "cell_type": "code",
   "execution_count": null,
   "metadata": {
    "id": "YHDh6p7bkle7"
   },
   "outputs": [],
   "source": [
    "################################################################"
   ]
  },
  {
   "cell_type": "code",
   "execution_count": null,
   "metadata": {
    "id": "jtXxmzPmkmf_"
   },
   "outputs": [],
   "source": [
    "temp = data"
   ]
  },
  {
   "cell_type": "code",
   "execution_count": null,
   "metadata": {
    "id": "fpbPeteQneKA"
   },
   "outputs": [],
   "source": []
  },
  {
   "cell_type": "code",
   "execution_count": null,
   "metadata": {
    "colab": {
     "base_uri": "https://localhost:8080/"
    },
    "executionInfo": {
     "elapsed": 294,
     "status": "ok",
     "timestamp": 1638875960906,
     "user": {
      "displayName": "정현준",
      "photoUrl": "https://lh3.googleusercontent.com/a-/AOh14GjblSrmpHoQbtrPVJi5oCCrPNEqYZxMhuA8MFP_sw=s64",
      "userId": "17851274337180756350"
     },
     "user_tz": -540
    },
    "id": "7noY9c3rnmIg",
    "outputId": "7ae1c5ec-49b8-4339-86d7-fe209d6abada"
   },
   "outputs": [
    {
     "data": {
      "text/plain": [
       "984080"
      ]
     },
     "execution_count": 306,
     "metadata": {},
     "output_type": "execute_result"
    }
   ],
   "source": [
    "data.shape[0]"
   ]
  },
  {
   "cell_type": "code",
   "execution_count": null,
   "metadata": {
    "id": "HJKO3b0XneHs"
   },
   "outputs": [],
   "source": [
    "data = data[data['gameLength'] >= 600]"
   ]
  },
  {
   "cell_type": "code",
   "execution_count": null,
   "metadata": {
    "colab": {
     "base_uri": "https://localhost:8080/"
    },
    "executionInfo": {
     "elapsed": 309,
     "status": "ok",
     "timestamp": 1638875968798,
     "user": {
      "displayName": "정현준",
      "photoUrl": "https://lh3.googleusercontent.com/a-/AOh14GjblSrmpHoQbtrPVJi5oCCrPNEqYZxMhuA8MFP_sw=s64",
      "userId": "17851274337180756350"
     },
     "user_tz": -540
    },
    "id": "DwIM4n8rnptp",
    "outputId": "a2d250a3-e3a5-41da-d02a-b13cf0d5de04"
   },
   "outputs": [
    {
     "data": {
      "text/plain": [
       "983960"
      ]
     },
     "execution_count": 308,
     "metadata": {},
     "output_type": "execute_result"
    }
   ],
   "source": [
    "data.shape[0]"
   ]
  },
  {
   "cell_type": "code",
   "execution_count": null,
   "metadata": {
    "colab": {
     "base_uri": "https://localhost:8080/",
     "height": 729
    },
    "executionInfo": {
     "elapsed": 6780,
     "status": "ok",
     "timestamp": 1638876030406,
     "user": {
      "displayName": "정현준",
      "photoUrl": "https://lh3.googleusercontent.com/a-/AOh14GjblSrmpHoQbtrPVJi5oCCrPNEqYZxMhuA8MFP_sw=s64",
      "userId": "17851274337180756350"
     },
     "user_tz": -540
    },
    "id": "2tGfjZPBnsgy",
    "outputId": "b0ec53c4-a883-4904-ce57-5cf66bc5f2ed"
   },
   "outputs": [
    {
     "data": {
      "image/png": "[encoded data removed]",
      "text/plain": [
       "<Figure size 1152x1152 with 8 Axes>"
      ]
     },
     "metadata": {
      "needs_background": "light"
     },
     "output_type": "display_data"
    }
   ],
   "source": [
    "# 이상치 제거 전 그래프\n",
    "\n",
    "ind = 1\n",
    "plt.figure(figsize=(16,16))\n",
    "plt.subplots_adjust(bottom=0.001)\n",
    "\n",
    "for col in ['level', 'minionsKilled', 'championsKilled', 'numDeaths', 'assists', 'wardPlaced','visionWardsBoughtInGame', 'wardKilled']: \n",
    "    plt.subplot(6, 2, ind)\n",
    "    plt.title(col)\n",
    "    \n",
    "    d = data[col]\n",
    "    \n",
    "    uniquelist = sorted(list(d.unique()))\n",
    "    length = len(uniquelist)\n",
    "\n",
    "    y = [0 for _ in range(length)]\n",
    "    for i in range(length):\n",
    "        y[i] = len(d[d == uniquelist[i]])\n",
    "\n",
    "\n",
    "    x = range(len(d.unique()))\n",
    "    plt.bar(x, y)\n",
    "    plt.xticks(x, uniquelist)\n",
    "    plt.locator_params(axis='x', nbins=20)\n",
    "    ind += 1"
   ]
  },
  {
   "cell_type": "code",
   "execution_count": null,
   "metadata": {
    "colab": {
     "base_uri": "https://localhost:8080/",
     "height": 499
    },
    "executionInfo": {
     "elapsed": 7434,
     "status": "ok",
     "timestamp": 1638876050165,
     "user": {
      "displayName": "정현준",
      "photoUrl": "https://lh3.googleusercontent.com/a-/AOh14GjblSrmpHoQbtrPVJi5oCCrPNEqYZxMhuA8MFP_sw=s64",
      "userId": "17851274337180756350"
     },
     "user_tz": -540
    },
    "id": "DIWN0P_ensjJ",
    "outputId": "ec02816a-6b37-45be-9a3c-d32989ee4e2d"
   },
   "outputs": [
    {
     "data": {
      "image/png": "[encoded data removed]",
      "text/plain": [
       "<Figure size 1152x576 with 3 Axes>"
      ]
     },
     "metadata": {
      "needs_background": "light"
     },
     "output_type": "display_data"
    }
   ],
   "source": [
    "# 이상치 제거 전 그래프\n",
    "ind = 1\n",
    "plt.figure(figsize=(16, 8))\n",
    "\n",
    "for col in ['goldEarned', 'totalDamageDealtToChampions', 'gameLength']:\n",
    "    plt.subplot(1, 3, ind)\n",
    "    plt.title(col)\n",
    "\n",
    "    d = data[col]\n",
    "    d = round(d//100, 2) * 100\n",
    "\n",
    "    uniquelist = sorted(list(d.unique()))\n",
    "    length = len(uniquelist)\n",
    "\n",
    "    y = [0 for _ in range(length)]\n",
    "    for i in range(length):\n",
    "        y[i] = len(d[d == uniquelist[i]])\n",
    "\n",
    "\n",
    "    x = range(len(d.unique()))\n",
    "    plt.bar(x, y)\n",
    "    plt.xticks(x, uniquelist)\n",
    "    plt.locator_params(axis='x', nbins=6)\n",
    "    ind += 1"
   ]
  },
  {
   "cell_type": "code",
   "execution_count": null,
   "metadata": {
    "id": "tOv79i7ZnsnI"
   },
   "outputs": [],
   "source": [
    "# 위에 그래프들을 통해서 --> 이상치 제거 기준을 세울 수 있다\n",
    "# level : 하위 0.3퍼 제거\n",
    "# 'minionsKilled', 'championsKilled', 'numDeaths', 'assists', 'wardPlaced','visionWardsBoughtInGame', 'wardKilled' : 상위 0.3퍼 제거\n",
    "# 'goldEarned', 'totalDamageDealtToChampions', 'gameLength' : 하위, 상위 0.3퍼 제거"
   ]
  },
  {
   "cell_type": "code",
   "execution_count": null,
   "metadata": {
    "colab": {
     "base_uri": "https://localhost:8080/"
    },
    "executionInfo": {
     "elapsed": 1784,
     "status": "ok",
     "timestamp": 1638879241492,
     "user": {
      "displayName": "정현준",
      "photoUrl": "https://lh3.googleusercontent.com/a-/AOh14GjblSrmpHoQbtrPVJi5oCCrPNEqYZxMhuA8MFP_sw=s64",
      "userId": "17851274337180756350"
     },
     "user_tz": -540
    },
    "id": "KU0yhq5Cnspg",
    "outputId": "dd152496-cf7b-44b9-836c-4d73504425cd"
   },
   "outputs": [
    {
     "name": "stderr",
     "output_type": "stream",
     "text": [
      "/usr/local/lib/python3.7/dist-packages/ipykernel_launcher.py:13: UserWarning: Boolean Series key will be reindexed to match DataFrame index.\n",
      "  del sys.path[0]\n",
      "/usr/local/lib/python3.7/dist-packages/ipykernel_launcher.py:13: UserWarning: Boolean Series key will be reindexed to match DataFrame index.\n",
      "  del sys.path[0]\n",
      "/usr/local/lib/python3.7/dist-packages/ipykernel_launcher.py:13: UserWarning: Boolean Series key will be reindexed to match DataFrame index.\n",
      "  del sys.path[0]\n",
      "/usr/local/lib/python3.7/dist-packages/ipykernel_launcher.py:13: UserWarning: Boolean Series key will be reindexed to match DataFrame index.\n",
      "  del sys.path[0]\n",
      "/usr/local/lib/python3.7/dist-packages/ipykernel_launcher.py:13: UserWarning: Boolean Series key will be reindexed to match DataFrame index.\n",
      "  del sys.path[0]\n",
      "/usr/local/lib/python3.7/dist-packages/ipykernel_launcher.py:13: UserWarning: Boolean Series key will be reindexed to match DataFrame index.\n",
      "  del sys.path[0]\n",
      "/usr/local/lib/python3.7/dist-packages/ipykernel_launcher.py:13: UserWarning: Boolean Series key will be reindexed to match DataFrame index.\n",
      "  del sys.path[0]\n"
     ]
    }
   ],
   "source": [
    "# processed_data : 이상치가 제거된 데이터 \n",
    "\n",
    "processed_data = data\n",
    "want_data = ['level', 'minionsKilled', 'championsKilled', 'numDeaths', 'assists', 'wardPlaced', 'visionWardsBoughtInGame', 'wardKilled', 'goldEarned', 'totalDamageDealtToChampions', 'gameLength']\n",
    "# 하위 0.3퍼, 상위 0.3퍼 데이터를 제거한다\n",
    "for col in want_data:\n",
    "    minimum = data[col].quantile(0.003)\n",
    "    maximum = data[col].quantile(0.997)\n",
    "    if col == 'level':\n",
    "        processed_data = processed_data[data[col] > minimum]\n",
    "    \n",
    "    elif col in ['minionsKilled', 'championsKilled', 'numDeaths', 'assists', 'wardPlaced','visionWardsBoughtInGame', 'wardKilled']:\n",
    "        processed_data = processed_data[data[col] < maximum]\n",
    "    \n",
    "    else:\n",
    "         processed_data = processed_data[processed_data[col] < maximum]\n",
    "         processed_data = processed_data[processed_data[col] > minimum]   "
   ]
  },
  {
   "cell_type": "code",
   "execution_count": null,
   "metadata": {
    "colab": {
     "base_uri": "https://localhost:8080/",
     "height": 729
    },
    "executionInfo": {
     "elapsed": 4992,
     "status": "ok",
     "timestamp": 1638879256448,
     "user": {
      "displayName": "정현준",
      "photoUrl": "https://lh3.googleusercontent.com/a-/AOh14GjblSrmpHoQbtrPVJi5oCCrPNEqYZxMhuA8MFP_sw=s64",
      "userId": "17851274337180756350"
     },
     "user_tz": -540
    },
    "id": "nzMkmiW_nstg",
    "outputId": "735702e7-28af-4312-c90c-017eb80b7e2c"
   },
   "outputs": [
    {
     "data": {
      "image/png": "[encoded data removed]",
      "text/plain": [
       "<Figure size 1152x1152 with 8 Axes>"
      ]
     },
     "metadata": {
      "needs_background": "light"
     },
     "output_type": "display_data"
    }
   ],
   "source": [
    "# 이상치 제거 후 그래프\n",
    "\n",
    "ind = 1\n",
    "plt.figure(figsize=(16,16))\n",
    "plt.subplots_adjust(bottom=0.001)\n",
    "\n",
    "for col in ['level', 'minionsKilled', 'championsKilled', 'numDeaths', 'assists', 'wardPlaced','visionWardsBoughtInGame', 'wardKilled']: \n",
    "    plt.subplot(6, 2, ind)\n",
    "    plt.title(col)\n",
    "    \n",
    "    d = processed_data[col]\n",
    "    \n",
    "    uniquelist = sorted(list(d.unique()))\n",
    "    length = len(uniquelist)\n",
    "\n",
    "    y = [0 for _ in range(length)]\n",
    "    for i in range(length):\n",
    "        y[i] = len(d[d == uniquelist[i]])\n",
    "\n",
    "\n",
    "    x = range(len(d.unique()))\n",
    "    plt.bar(x, y)\n",
    "    plt.xticks(x, uniquelist)\n",
    "    plt.locator_params(axis='x', nbins=20)\n",
    "    ind += 1"
   ]
  },
  {
   "cell_type": "code",
   "execution_count": null,
   "metadata": {
    "colab": {
     "base_uri": "https://localhost:8080/",
     "height": 499
    },
    "executionInfo": {
     "elapsed": 4914,
     "status": "ok",
     "timestamp": 1638879262312,
     "user": {
      "displayName": "정현준",
      "photoUrl": "https://lh3.googleusercontent.com/a-/AOh14GjblSrmpHoQbtrPVJi5oCCrPNEqYZxMhuA8MFP_sw=s64",
      "userId": "17851274337180756350"
     },
     "user_tz": -540
    },
    "id": "FPoycydBnsv1",
    "outputId": "e0ec0dde-d314-422d-eee2-123c04b76ec5"
   },
   "outputs": [
    {
     "data": {
      "image/png": "[encoded data removed]",
      "text/plain": [
       "<Figure size 1152x576 with 3 Axes>"
      ]
     },
     "metadata": {
      "needs_background": "light"
     },
     "output_type": "display_data"
    }
   ],
   "source": [
    "# 이상치 제거 후 그래프\n",
    "\n",
    "ind = 1\n",
    "plt.figure(figsize=(16, 8))\n",
    "\n",
    "for col in ['goldEarned', 'totalDamageDealtToChampions', 'gameLength']:\n",
    "    plt.subplot(1, 3, ind)\n",
    "    plt.title(col)\n",
    "\n",
    "    d = processed_data[col]\n",
    "    d = round(d//100, 2) * 100\n",
    "\n",
    "    uniquelist = sorted(list(d.unique()))\n",
    "    length = len(uniquelist)\n",
    "\n",
    "    y = [0 for _ in range(length)]\n",
    "    for i in range(length):\n",
    "        y[i] = len(d[d == uniquelist[i]])\n",
    "\n",
    "\n",
    "    x = range(len(d.unique()))\n",
    "    plt.bar(x, y)\n",
    "    plt.xticks(x, uniquelist)\n",
    "    plt.locator_params(axis='x', nbins=6)\n",
    "    ind += 1"
   ]
  },
  {
   "cell_type": "code",
   "execution_count": null,
   "metadata": {
    "id": "BcHNVH8ansyh"
   },
   "outputs": [],
   "source": [
    "processed_data['gameLength'] /= 60"
   ]
  },
  {
   "cell_type": "code",
   "execution_count": null,
   "metadata": {
    "id": "R8uyCDKsoDBM"
   },
   "outputs": [],
   "source": [
    "for it in processed_data.columns[4:len(processed_data.columns)-1]:\n",
    "    processed_data[it] /= processed_data['gameLength']\n",
    "processed_data = processed_data.drop(columns='gameLength')"
   ]
  },
  {
   "cell_type": "code",
   "execution_count": null,
   "metadata": {
    "id": "-A-DYQTOti0N"
   },
   "outputs": [],
   "source": [
    "processed_data.rename(columns={'position':'Position', 'championsKilled':'Kill', 'numDeaths':'Death', 'assists':'Assist', 'minionsKilled':'CS', 'level':'Level', 'totalDamageDealtToChampions':'Damage',\n",
    "                             'wardPlaced':'Wardplaced', 'visionWardsBoughtInGame':'visionWardplaced', 'wardKilled':'WardKilled', 'goldEarned':'Gold'}, inplace=True)"
   ]
  },
  {
   "cell_type": "code",
   "execution_count": null,
   "metadata": {
    "colab": {
     "base_uri": "https://localhost:8080/",
     "height": 81
    },
    "executionInfo": {
     "elapsed": 13,
     "status": "ok",
     "timestamp": 1638879262748,
     "user": {
      "displayName": "정현준",
      "photoUrl": "https://lh3.googleusercontent.com/a-/AOh14GjblSrmpHoQbtrPVJi5oCCrPNEqYZxMhuA8MFP_sw=s64",
      "userId": "17851274337180756350"
     },
     "user_tz": -540
    },
    "id": "JnkRRFupxL11",
    "outputId": "57b02bd7-51ea-4d0f-890c-4f305002f474"
   },
   "outputs": [
    {
     "data": {
      "text/html": [
       "<div>\n",
       "<style scoped>\n",
       "    .dataframe tbody tr th:only-of-type {\n",
       "        vertical-align: middle;\n",
       "    }\n",
       "\n",
       "    .dataframe tbody tr th {\n",
       "        vertical-align: top;\n",
       "    }\n",
       "\n",
       "    .dataframe thead th {\n",
       "        text-align: right;\n",
       "    }\n",
       "</style>\n",
       "<table border=\"1\" class=\"dataframe\">\n",
       "  <thead>\n",
       "    <tr style=\"text-align: right;\">\n",
       "      <th></th>\n",
       "      <th>tier</th>\n",
       "      <th>division</th>\n",
       "      <th>mmr</th>\n",
       "      <th>Position</th>\n",
       "      <th>Level</th>\n",
       "      <th>CS</th>\n",
       "      <th>Kill</th>\n",
       "      <th>Death</th>\n",
       "      <th>Assist</th>\n",
       "      <th>Wardplaced</th>\n",
       "      <th>visionWardplaced</th>\n",
       "      <th>WardKilled</th>\n",
       "      <th>Gold</th>\n",
       "      <th>Damage</th>\n",
       "    </tr>\n",
       "  </thead>\n",
       "  <tbody>\n",
       "    <tr>\n",
       "      <th>0</th>\n",
       "      <td>P</td>\n",
       "      <td>3</td>\n",
       "      <td>1700.0</td>\n",
       "      <td>S</td>\n",
       "      <td>0.617284</td>\n",
       "      <td>0.925926</td>\n",
       "      <td>0.246914</td>\n",
       "      <td>0.061728</td>\n",
       "      <td>0.308642</td>\n",
       "      <td>0.308642</td>\n",
       "      <td>0.061728</td>\n",
       "      <td>0.061728</td>\n",
       "      <td>375.493827</td>\n",
       "      <td>345.061728</td>\n",
       "    </tr>\n",
       "  </tbody>\n",
       "</table>\n",
       "</div>"
      ],
      "text/plain": [
       "  tier division     mmr  ... WardKilled        Gold      Damage\n",
       "0    P        3  1700.0  ...   0.061728  375.493827  345.061728\n",
       "\n",
       "[1 rows x 14 columns]"
      ]
     },
     "execution_count": 417,
     "metadata": {},
     "output_type": "execute_result"
    }
   ],
   "source": [
    "processed_data.head(1)"
   ]
  },
  {
   "cell_type": "code",
   "execution_count": null,
   "metadata": {
    "id": "McugHcRHvNk7"
   },
   "outputs": [],
   "source": [
    "processed_data = processed_data[['tier', 'division', 'mmr', 'Position', 'Kill', 'Death', 'Assist', 'CS', 'Level', 'Damage', 'Wardplaced', 'visionWardplaced', 'WardKilled', 'Gold']]"
   ]
  },
  {
   "cell_type": "code",
   "execution_count": null,
   "metadata": {
    "colab": {
     "base_uri": "https://localhost:8080/",
     "height": 174
    },
    "executionInfo": {
     "elapsed": 7,
     "status": "ok",
     "timestamp": 1638879266915,
     "user": {
      "displayName": "정현준",
      "photoUrl": "https://lh3.googleusercontent.com/a-/AOh14GjblSrmpHoQbtrPVJi5oCCrPNEqYZxMhuA8MFP_sw=s64",
      "userId": "17851274337180756350"
     },
     "user_tz": -540
    },
    "id": "hzx6MCZdwHZ7",
    "outputId": "bd077cec-1e44-4345-b119-de1563f724c6"
   },
   "outputs": [
    {
     "data": {
      "text/html": [
       "<div>\n",
       "<style scoped>\n",
       "    .dataframe tbody tr th:only-of-type {\n",
       "        vertical-align: middle;\n",
       "    }\n",
       "\n",
       "    .dataframe tbody tr th {\n",
       "        vertical-align: top;\n",
       "    }\n",
       "\n",
       "    .dataframe thead th {\n",
       "        text-align: right;\n",
       "    }\n",
       "</style>\n",
       "<table border=\"1\" class=\"dataframe\">\n",
       "  <thead>\n",
       "    <tr style=\"text-align: right;\">\n",
       "      <th></th>\n",
       "      <th>tier</th>\n",
       "      <th>division</th>\n",
       "      <th>mmr</th>\n",
       "      <th>Position</th>\n",
       "      <th>Kill</th>\n",
       "      <th>Death</th>\n",
       "      <th>Assist</th>\n",
       "      <th>CS</th>\n",
       "      <th>Level</th>\n",
       "      <th>Damage</th>\n",
       "      <th>Wardplaced</th>\n",
       "      <th>visionWardplaced</th>\n",
       "      <th>WardKilled</th>\n",
       "      <th>Gold</th>\n",
       "    </tr>\n",
       "  </thead>\n",
       "  <tbody>\n",
       "    <tr>\n",
       "      <th>0</th>\n",
       "      <td>P</td>\n",
       "      <td>3</td>\n",
       "      <td>1700.0</td>\n",
       "      <td>S</td>\n",
       "      <td>0.246914</td>\n",
       "      <td>0.061728</td>\n",
       "      <td>0.308642</td>\n",
       "      <td>0.925926</td>\n",
       "      <td>0.617284</td>\n",
       "      <td>345.061728</td>\n",
       "      <td>0.308642</td>\n",
       "      <td>0.061728</td>\n",
       "      <td>0.061728</td>\n",
       "      <td>375.493827</td>\n",
       "    </tr>\n",
       "    <tr>\n",
       "      <th>1</th>\n",
       "      <td>P</td>\n",
       "      <td>4</td>\n",
       "      <td>1600.0</td>\n",
       "      <td>S</td>\n",
       "      <td>0.061728</td>\n",
       "      <td>0.185185</td>\n",
       "      <td>0.185185</td>\n",
       "      <td>0.432099</td>\n",
       "      <td>0.493827</td>\n",
       "      <td>236.234568</td>\n",
       "      <td>0.370370</td>\n",
       "      <td>0.185185</td>\n",
       "      <td>0.185185</td>\n",
       "      <td>254.197531</td>\n",
       "    </tr>\n",
       "    <tr>\n",
       "      <th>2</th>\n",
       "      <td>P</td>\n",
       "      <td>3</td>\n",
       "      <td>1700.0</td>\n",
       "      <td>M</td>\n",
       "      <td>0.308642</td>\n",
       "      <td>0.061728</td>\n",
       "      <td>0.308642</td>\n",
       "      <td>6.172840</td>\n",
       "      <td>0.679012</td>\n",
       "      <td>584.382716</td>\n",
       "      <td>0.432099</td>\n",
       "      <td>0.246914</td>\n",
       "      <td>0.308642</td>\n",
       "      <td>417.839506</td>\n",
       "    </tr>\n",
       "    <tr>\n",
       "      <th>3</th>\n",
       "      <td>P</td>\n",
       "      <td>4</td>\n",
       "      <td>1600.0</td>\n",
       "      <td>T</td>\n",
       "      <td>0.493827</td>\n",
       "      <td>0.123457</td>\n",
       "      <td>0.061728</td>\n",
       "      <td>7.098765</td>\n",
       "      <td>0.679012</td>\n",
       "      <td>676.728395</td>\n",
       "      <td>0.308642</td>\n",
       "      <td>0.061728</td>\n",
       "      <td>0.000000</td>\n",
       "      <td>492.098765</td>\n",
       "    </tr>\n",
       "  </tbody>\n",
       "</table>\n",
       "</div>"
      ],
      "text/plain": [
       "  tier division     mmr  ... visionWardplaced  WardKilled        Gold\n",
       "0    P        3  1700.0  ...         0.061728    0.061728  375.493827\n",
       "1    P        4  1600.0  ...         0.185185    0.185185  254.197531\n",
       "2    P        3  1700.0  ...         0.246914    0.308642  417.839506\n",
       "3    P        4  1600.0  ...         0.061728    0.000000  492.098765\n",
       "\n",
       "[4 rows x 14 columns]"
      ]
     },
     "execution_count": 419,
     "metadata": {},
     "output_type": "execute_result"
    }
   ],
   "source": [
    "processed_data.head(4)"
   ]
  },
  {
   "cell_type": "code",
   "execution_count": null,
   "metadata": {
    "id": "hhMHVP6MPkEJ"
   },
   "outputs": [],
   "source": [
    "################################################################"
   ]
  },
  {
   "cell_type": "code",
   "execution_count": 479,
   "metadata": {
    "executionInfo": {
     "elapsed": 288,
     "status": "ok",
     "timestamp": 1638880086743,
     "user": {
      "displayName": "정현준",
      "photoUrl": "https://lh3.googleusercontent.com/a-/AOh14GjblSrmpHoQbtrPVJi5oCCrPNEqYZxMhuA8MFP_sw=s64",
      "userId": "17851274337180756350"
     },
     "user_tz": -540
    },
    "id": "v07Fecz4Ob2J"
   },
   "outputs": [],
   "source": [
    "def mystat(Data, myData, position = 'all', tierCnt = 100):\n",
    "  \n",
    "    # tierCnt = 1 : mytier ±1\n",
    "    # tierCnt = 2 : mytier ±2\n",
    "\n",
    "    #posT = data[data['position']=='T']\n",
    "    #posJ = data[data['position']=='J']\n",
    "    #posM = data[data['position']=='M']\n",
    "    #posA = data[data['position']=='A']\n",
    "    #posS = data[data['position']=='S']\n",
    "\n",
    "    if position != 'all':\n",
    "        Data = Data[Data['Position'] == position]\n",
    "\n",
    "    if tierCnt != 100:\n",
    "        mmr = int(myData['mmr'])\n",
    "        Data = Data[(mmr-tierCnt*100 <= Data['mmr']) & (Data['mmr'] <= mmr+tierCnt*100)]\n",
    "\n",
    "    total = pd.concat([Data, myData])\n",
    "\n",
    "    rankData = total.rank(ascending = False, pct = True)\n",
    "    myRankData = rankData[rankData.index == 'me']\n",
    "    myRankData = round(myRankData, 3)\n",
    "    myRankData *= 100\n",
    "\n",
    "    myRankData = myRankData[['Level', 'CS', 'Kill', 'Death', 'Assist', 'Wardplaced', 'visionWardplaced', 'WardKilled', 'Gold', 'Damage']]\n",
    "    return myRankData"
   ]
  },
  {
   "cell_type": "code",
   "execution_count": 480,
   "metadata": {
    "colab": {
     "base_uri": "https://localhost:8080/",
     "height": 81
    },
    "executionInfo": {
     "elapsed": 321,
     "status": "ok",
     "timestamp": 1638880094298,
     "user": {
      "displayName": "정현준",
      "photoUrl": "https://lh3.googleusercontent.com/a-/AOh14GjblSrmpHoQbtrPVJi5oCCrPNEqYZxMhuA8MFP_sw=s64",
      "userId": "17851274337180756350"
     },
     "user_tz": -540
    },
    "id": "UcpDdxJGOb2H",
    "outputId": "65c09149-75a7-44f9-d5e4-ae12bd85bcbc"
   },
   "outputs": [
    {
     "data": {
      "text/html": [
       "<div>\n",
       "<style scoped>\n",
       "    .dataframe tbody tr th:only-of-type {\n",
       "        vertical-align: middle;\n",
       "    }\n",
       "\n",
       "    .dataframe tbody tr th {\n",
       "        vertical-align: top;\n",
       "    }\n",
       "\n",
       "    .dataframe thead th {\n",
       "        text-align: right;\n",
       "    }\n",
       "</style>\n",
       "<table border=\"1\" class=\"dataframe\">\n",
       "  <thead>\n",
       "    <tr style=\"text-align: right;\">\n",
       "      <th></th>\n",
       "      <th>tier</th>\n",
       "      <th>division</th>\n",
       "      <th>mmr</th>\n",
       "      <th>Position</th>\n",
       "      <th>Kill</th>\n",
       "      <th>Death</th>\n",
       "      <th>Assist</th>\n",
       "      <th>CS</th>\n",
       "      <th>Level</th>\n",
       "      <th>Damage</th>\n",
       "      <th>Wardplaced</th>\n",
       "      <th>visionWardplaced</th>\n",
       "      <th>WardKilled</th>\n",
       "      <th>Gold</th>\n",
       "    </tr>\n",
       "  </thead>\n",
       "  <tbody>\n",
       "    <tr>\n",
       "      <th>me</th>\n",
       "      <td>G</td>\n",
       "      <td>3</td>\n",
       "      <td>1300</td>\n",
       "      <td>A</td>\n",
       "      <td>0.18251</td>\n",
       "      <td>0.228137</td>\n",
       "      <td>0.0456274</td>\n",
       "      <td>5.01901</td>\n",
       "      <td>0.501901</td>\n",
       "      <td>446.875</td>\n",
       "      <td>0.273764</td>\n",
       "      <td>0.0456274</td>\n",
       "      <td>0.0456274</td>\n",
       "      <td>332.669</td>\n",
       "    </tr>\n",
       "  </tbody>\n",
       "</table>\n",
       "</div>"
      ],
      "text/plain": [
       "   tier division   mmr Position  ... Wardplaced visionWardplaced WardKilled     Gold\n",
       "me    G        3  1300        A  ...   0.273764        0.0456274  0.0456274  332.669\n",
       "\n",
       "[1 rows x 14 columns]"
      ]
     },
     "execution_count": 480,
     "metadata": {},
     "output_type": "execute_result"
    }
   ],
   "source": [
    "index = 5122\n",
    "\n",
    "temp_pos = pd.DataFrame(processed_data.iloc[index]).T\n",
    "temp_pos = temp_pos.rename(index={5402:'me'}) # 5122 index -> 5402\n",
    "temp_pos"
   ]
  },
  {
   "cell_type": "code",
   "execution_count": 481,
   "metadata": {
    "colab": {
     "base_uri": "https://localhost:8080/",
     "height": 81
    },
    "executionInfo": {
     "elapsed": 7,
     "status": "ok",
     "timestamp": 1638880094602,
     "user": {
      "displayName": "정현준",
      "photoUrl": "https://lh3.googleusercontent.com/a-/AOh14GjblSrmpHoQbtrPVJi5oCCrPNEqYZxMhuA8MFP_sw=s64",
      "userId": "17851274337180756350"
     },
     "user_tz": -540
    },
    "id": "7U_qG58zp0xV",
    "outputId": "4a9f4625-f45c-4e8d-ea98-bf1d9af65e01"
   },
   "outputs": [
    {
     "data": {
      "text/html": [
       "<div>\n",
       "<style scoped>\n",
       "    .dataframe tbody tr th:only-of-type {\n",
       "        vertical-align: middle;\n",
       "    }\n",
       "\n",
       "    .dataframe tbody tr th {\n",
       "        vertical-align: top;\n",
       "    }\n",
       "\n",
       "    .dataframe thead th {\n",
       "        text-align: right;\n",
       "    }\n",
       "</style>\n",
       "<table border=\"1\" class=\"dataframe\">\n",
       "  <thead>\n",
       "    <tr style=\"text-align: right;\">\n",
       "      <th></th>\n",
       "      <th>tier</th>\n",
       "      <th>division</th>\n",
       "      <th>mmr</th>\n",
       "      <th>Position</th>\n",
       "      <th>Kill</th>\n",
       "      <th>Death</th>\n",
       "      <th>Assist</th>\n",
       "      <th>CS</th>\n",
       "      <th>Level</th>\n",
       "      <th>Damage</th>\n",
       "      <th>Wardplaced</th>\n",
       "      <th>visionWardplaced</th>\n",
       "      <th>WardKilled</th>\n",
       "      <th>Gold</th>\n",
       "    </tr>\n",
       "  </thead>\n",
       "  <tbody>\n",
       "    <tr>\n",
       "      <th>me</th>\n",
       "      <td>G</td>\n",
       "      <td>3</td>\n",
       "      <td>1300</td>\n",
       "      <td>A</td>\n",
       "      <td>0.18251</td>\n",
       "      <td>0.228137</td>\n",
       "      <td>0.0456274</td>\n",
       "      <td>5.01901</td>\n",
       "      <td>0.501901</td>\n",
       "      <td>446.875</td>\n",
       "      <td>0.273764</td>\n",
       "      <td>0.0456274</td>\n",
       "      <td>0.0456274</td>\n",
       "      <td>332.669</td>\n",
       "    </tr>\n",
       "  </tbody>\n",
       "</table>\n",
       "</div>"
      ],
      "text/plain": [
       "   tier division   mmr Position  ... Wardplaced visionWardplaced WardKilled     Gold\n",
       "me    G        3  1300        A  ...   0.273764        0.0456274  0.0456274  332.669\n",
       "\n",
       "[1 rows x 14 columns]"
      ]
     },
     "execution_count": 481,
     "metadata": {},
     "output_type": "execute_result"
    }
   ],
   "source": [
    "temp_pos"
   ]
  },
  {
   "cell_type": "code",
   "execution_count": 482,
   "metadata": {
    "colab": {
     "base_uri": "https://localhost:8080/",
     "height": 81
    },
    "executionInfo": {
     "elapsed": 13,
     "status": "ok",
     "timestamp": 1638880094989,
     "user": {
      "displayName": "정현준",
      "photoUrl": "https://lh3.googleusercontent.com/a-/AOh14GjblSrmpHoQbtrPVJi5oCCrPNEqYZxMhuA8MFP_sw=s64",
      "userId": "17851274337180756350"
     },
     "user_tz": -540
    },
    "id": "ixjrbsygqUJw",
    "outputId": "d3c31390-c4be-40a6-abbd-ef897afc7860"
   },
   "outputs": [
    {
     "data": {
      "text/html": [
       "<div>\n",
       "<style scoped>\n",
       "    .dataframe tbody tr th:only-of-type {\n",
       "        vertical-align: middle;\n",
       "    }\n",
       "\n",
       "    .dataframe tbody tr th {\n",
       "        vertical-align: top;\n",
       "    }\n",
       "\n",
       "    .dataframe thead th {\n",
       "        text-align: right;\n",
       "    }\n",
       "</style>\n",
       "<table border=\"1\" class=\"dataframe\">\n",
       "  <thead>\n",
       "    <tr style=\"text-align: right;\">\n",
       "      <th></th>\n",
       "      <th>tier</th>\n",
       "      <th>division</th>\n",
       "      <th>mmr</th>\n",
       "      <th>Position</th>\n",
       "      <th>Kill</th>\n",
       "      <th>Death</th>\n",
       "      <th>Assist</th>\n",
       "      <th>CS</th>\n",
       "      <th>Level</th>\n",
       "      <th>Damage</th>\n",
       "      <th>Wardplaced</th>\n",
       "      <th>visionWardplaced</th>\n",
       "      <th>WardKilled</th>\n",
       "      <th>Gold</th>\n",
       "    </tr>\n",
       "  </thead>\n",
       "  <tbody>\n",
       "    <tr>\n",
       "      <th>0</th>\n",
       "      <td>P</td>\n",
       "      <td>3</td>\n",
       "      <td>1700.0</td>\n",
       "      <td>S</td>\n",
       "      <td>0.246914</td>\n",
       "      <td>0.061728</td>\n",
       "      <td>0.308642</td>\n",
       "      <td>0.925926</td>\n",
       "      <td>0.617284</td>\n",
       "      <td>345.061728</td>\n",
       "      <td>0.308642</td>\n",
       "      <td>0.061728</td>\n",
       "      <td>0.061728</td>\n",
       "      <td>375.493827</td>\n",
       "    </tr>\n",
       "  </tbody>\n",
       "</table>\n",
       "</div>"
      ],
      "text/plain": [
       "  tier division     mmr  ... visionWardplaced  WardKilled        Gold\n",
       "0    P        3  1700.0  ...         0.061728    0.061728  375.493827\n",
       "\n",
       "[1 rows x 14 columns]"
      ]
     },
     "execution_count": 482,
     "metadata": {},
     "output_type": "execute_result"
    }
   ],
   "source": [
    "processed_data.head(1)"
   ]
  },
  {
   "cell_type": "code",
   "execution_count": 483,
   "metadata": {
    "colab": {
     "base_uri": "https://localhost:8080/",
     "height": 81
    },
    "executionInfo": {
     "elapsed": 24179,
     "status": "ok",
     "timestamp": 1638880120967,
     "user": {
      "displayName": "정현준",
      "photoUrl": "https://lh3.googleusercontent.com/a-/AOh14GjblSrmpHoQbtrPVJi5oCCrPNEqYZxMhuA8MFP_sw=s64",
      "userId": "17851274337180756350"
     },
     "user_tz": -540
    },
    "id": "6xV8dik0SIYz",
    "outputId": "7e758235-9708-45f1-90da-acde789d7e62"
   },
   "outputs": [
    {
     "data": {
      "text/html": [
       "<div>\n",
       "<style scoped>\n",
       "    .dataframe tbody tr th:only-of-type {\n",
       "        vertical-align: middle;\n",
       "    }\n",
       "\n",
       "    .dataframe tbody tr th {\n",
       "        vertical-align: top;\n",
       "    }\n",
       "\n",
       "    .dataframe thead th {\n",
       "        text-align: right;\n",
       "    }\n",
       "</style>\n",
       "<table border=\"1\" class=\"dataframe\">\n",
       "  <thead>\n",
       "    <tr style=\"text-align: right;\">\n",
       "      <th></th>\n",
       "      <th>Level</th>\n",
       "      <th>CS</th>\n",
       "      <th>Kill</th>\n",
       "      <th>Death</th>\n",
       "      <th>Assist</th>\n",
       "      <th>Wardplaced</th>\n",
       "      <th>visionWardplaced</th>\n",
       "      <th>WardKilled</th>\n",
       "      <th>Gold</th>\n",
       "      <th>Damage</th>\n",
       "    </tr>\n",
       "  </thead>\n",
       "  <tbody>\n",
       "    <tr>\n",
       "      <th>me</th>\n",
       "      <td>47.7</td>\n",
       "      <td>43.4</td>\n",
       "      <td>47.2</td>\n",
       "      <td>38.5</td>\n",
       "      <td>93.3</td>\n",
       "      <td>54.6</td>\n",
       "      <td>57.0</td>\n",
       "      <td>65.1</td>\n",
       "      <td>64.5</td>\n",
       "      <td>61.7</td>\n",
       "    </tr>\n",
       "  </tbody>\n",
       "</table>\n",
       "</div>"
      ],
      "text/plain": [
       "    Level    CS  Kill  Death  ...  visionWardplaced  WardKilled  Gold  Damage\n",
       "me   47.7  43.4  47.2   38.5  ...              57.0        65.1  64.5    61.7\n",
       "\n",
       "[1 rows x 10 columns]"
      ]
     },
     "execution_count": 483,
     "metadata": {},
     "output_type": "execute_result"
    }
   ],
   "source": [
    "res = mystat(processed_data, temp_pos)\n",
    "res"
   ]
  },
  {
   "cell_type": "code",
   "execution_count": 484,
   "metadata": {
    "colab": {
     "base_uri": "https://localhost:8080/",
     "height": 81
    },
    "executionInfo": {
     "elapsed": 788,
     "status": "ok",
     "timestamp": 1638880121738,
     "user": {
      "displayName": "정현준",
      "photoUrl": "https://lh3.googleusercontent.com/a-/AOh14GjblSrmpHoQbtrPVJi5oCCrPNEqYZxMhuA8MFP_sw=s64",
      "userId": "17851274337180756350"
     },
     "user_tz": -540
    },
    "id": "hEM0SZ8szMA2",
    "outputId": "f9605f6d-d1cc-4210-de73-9d23bc4eb7e6"
   },
   "outputs": [
    {
     "data": {
      "text/html": [
       "<div>\n",
       "<style scoped>\n",
       "    .dataframe tbody tr th:only-of-type {\n",
       "        vertical-align: middle;\n",
       "    }\n",
       "\n",
       "    .dataframe tbody tr th {\n",
       "        vertical-align: top;\n",
       "    }\n",
       "\n",
       "    .dataframe thead th {\n",
       "        text-align: right;\n",
       "    }\n",
       "</style>\n",
       "<table border=\"1\" class=\"dataframe\">\n",
       "  <thead>\n",
       "    <tr style=\"text-align: right;\">\n",
       "      <th></th>\n",
       "      <th>Level</th>\n",
       "      <th>CS</th>\n",
       "      <th>Kill</th>\n",
       "      <th>Death</th>\n",
       "      <th>Assist</th>\n",
       "      <th>Wardplaced</th>\n",
       "      <th>visionWardplaced</th>\n",
       "      <th>WardKilled</th>\n",
       "      <th>Gold</th>\n",
       "      <th>Damage</th>\n",
       "    </tr>\n",
       "  </thead>\n",
       "  <tbody>\n",
       "    <tr>\n",
       "      <th>me</th>\n",
       "      <td>54.6</td>\n",
       "      <td>0.0</td>\n",
       "      <td>61.3</td>\n",
       "      <td>35.0</td>\n",
       "      <td>95.9</td>\n",
       "      <td>28.2</td>\n",
       "      <td>77.9</td>\n",
       "      <td>80.4</td>\n",
       "      <td>79.7</td>\n",
       "      <td>62.3</td>\n",
       "    </tr>\n",
       "  </tbody>\n",
       "</table>\n",
       "</div>"
      ],
      "text/plain": [
       "    Level   CS  Kill  Death  ...  visionWardplaced  WardKilled  Gold  Damage\n",
       "me   54.6  0.0  61.3   35.0  ...              77.9        80.4  79.7    62.3\n",
       "\n",
       "[1 rows x 10 columns]"
      ]
     },
     "execution_count": 484,
     "metadata": {},
     "output_type": "execute_result"
    }
   ],
   "source": [
    "res = mystat(processed_data, temp_pos, 'J', 1)\n",
    "res"
   ]
  },
  {
   "cell_type": "code",
   "execution_count": 485,
   "metadata": {
    "colab": {
     "base_uri": "https://localhost:8080/",
     "height": 81
    },
    "executionInfo": {
     "elapsed": 1146,
     "status": "ok",
     "timestamp": 1638880122873,
     "user": {
      "displayName": "정현준",
      "photoUrl": "https://lh3.googleusercontent.com/a-/AOh14GjblSrmpHoQbtrPVJi5oCCrPNEqYZxMhuA8MFP_sw=s64",
      "userId": "17851274337180756350"
     },
     "user_tz": -540
    },
    "id": "lVh704E6zMDd",
    "outputId": "a66eae89-71f8-4159-981f-073c38a08de5"
   },
   "outputs": [
    {
     "data": {
      "text/html": [
       "<div>\n",
       "<style scoped>\n",
       "    .dataframe tbody tr th:only-of-type {\n",
       "        vertical-align: middle;\n",
       "    }\n",
       "\n",
       "    .dataframe tbody tr th {\n",
       "        vertical-align: top;\n",
       "    }\n",
       "\n",
       "    .dataframe thead th {\n",
       "        text-align: right;\n",
       "    }\n",
       "</style>\n",
       "<table border=\"1\" class=\"dataframe\">\n",
       "  <thead>\n",
       "    <tr style=\"text-align: right;\">\n",
       "      <th></th>\n",
       "      <th>Level</th>\n",
       "      <th>CS</th>\n",
       "      <th>Kill</th>\n",
       "      <th>Death</th>\n",
       "      <th>Assist</th>\n",
       "      <th>Wardplaced</th>\n",
       "      <th>visionWardplaced</th>\n",
       "      <th>WardKilled</th>\n",
       "      <th>Gold</th>\n",
       "      <th>Damage</th>\n",
       "    </tr>\n",
       "  </thead>\n",
       "  <tbody>\n",
       "    <tr>\n",
       "      <th>me</th>\n",
       "      <td>54.9</td>\n",
       "      <td>0.0</td>\n",
       "      <td>61.4</td>\n",
       "      <td>34.7</td>\n",
       "      <td>95.9</td>\n",
       "      <td>28.3</td>\n",
       "      <td>77.6</td>\n",
       "      <td>80.0</td>\n",
       "      <td>79.7</td>\n",
       "      <td>62.3</td>\n",
       "    </tr>\n",
       "  </tbody>\n",
       "</table>\n",
       "</div>"
      ],
      "text/plain": [
       "    Level   CS  Kill  Death  ...  visionWardplaced  WardKilled  Gold  Damage\n",
       "me   54.9  0.0  61.4   34.7  ...              77.6        80.0  79.7    62.3\n",
       "\n",
       "[1 rows x 10 columns]"
      ]
     },
     "execution_count": 485,
     "metadata": {},
     "output_type": "execute_result"
    }
   ],
   "source": [
    "res = mystat(processed_data, temp_pos, 'J', 2)\n",
    "res"
   ]
  },
  {
   "cell_type": "code",
   "execution_count": null,
   "metadata": {
    "id": "f-9IHum6Vm0H"
   },
   "outputs": [],
   "source": [
    "################################################################################################ 여기까지해보시면됩니다!"
   ]
  },
  {
   "cell_type": "code",
   "execution_count": null,
   "metadata": {
    "id": "8sLFHs-AOb2N"
   },
   "outputs": [],
   "source": []
  },
  {
   "cell_type": "code",
   "execution_count": null,
   "metadata": {
    "id": "QL59f14QOb2N",
    "outputId": "a79b4fb3-5ba1-48ec-ef2d-c00bc3881f91"
   },
   "outputs": [
    {
     "data": {
      "image/png": "[encoded data removed]",
      "text/plain": [
       "<Figure size 1152x1152 with 8 Axes>"
      ]
     },
     "metadata": {
      "needs_background": "light"
     },
     "output_type": "display_data"
    }
   ],
   "source": [
    "ind = 1\n",
    "plt.figure(figsize=(16,16))\n",
    "plt.subplots_adjust(bottom=0.001)\n",
    "\n",
    "for col in ['level', 'minionsKilled', 'championsKilled', 'numDeaths', 'assists', 'wardPlaced','visionWardsBoughtInGame', 'wardKilled']: \n",
    "    plt.subplot(6, 2, ind)\n",
    "    plt.title(col)\n",
    "    \n",
    "    d = data[col]\n",
    "    d_len = len(d.unique())\n",
    "    d_num = [0 for i in range(d_len+1)]\n",
    "\n",
    "    for i in range(d_len+1):\n",
    "      d_num[i]=len(d[d==i])\n",
    "\n",
    "    num = range(d_len+1)\n",
    "    plt.bar(num, d_num)\n",
    "    ind += 1"
   ]
  },
  {
   "cell_type": "code",
   "execution_count": null,
   "metadata": {
    "id": "ZtcOoIHEOb2N",
    "outputId": "32532c74-24b2-41e1-9360-40096a3a7b40"
   },
   "outputs": [
    {
     "data": {
      "text/plain": [
       "<BarContainer object of 22305 artists>"
      ]
     },
     "execution_count": 94,
     "metadata": {},
     "output_type": "execute_result"
    },
    {
     "data": {
      "image/png": "[encoded data removed]",
      "text/plain": [
       "<Figure size 1152x1152 with 1 Axes>"
      ]
     },
     "metadata": {
      "needs_background": "light"
     },
     "output_type": "display_data"
    }
   ],
   "source": [
    "plt.figure(figsize=(16,16))\n",
    "\n",
    "col = 'goldEarned'\n",
    "d = data[col]\n",
    "d_len = len(d.unique())\n",
    "d_num = [0 for i in range(d_len+1)]\n",
    "\n",
    "for i in range(d_len+1):\n",
    "  d_num[i]=len(d[d==i])\n",
    "\n",
    "num = range(d_len+1)\n",
    "plt.bar(num, d_num)"
   ]
  },
  {
   "cell_type": "code",
   "execution_count": null,
   "metadata": {
    "id": "ZG4_ZyonOb2O"
   },
   "outputs": [],
   "source": [
    "# 위에 그래프들을 통해서 --> 이상치 제거 기준을 세울 수 있다\n",
    "# level : 하위 0.3퍼 제거\n",
    "# 'minionsKilled', 'championsKilled', 'numDeaths', 'assists', 'wardPlaced','visionWardsBoughtInGame', 'wardKilled' : 상위 0.3퍼 제거\n",
    "# 'goldEarned', 'totalDamageDealtToChampions', 'gameLength' : 하위, 상위 0.3퍼 제거"
   ]
  },
  {
   "cell_type": "code",
   "execution_count": null,
   "metadata": {
    "id": "Chi7N1QJOb2O",
    "outputId": "62ccb7a2-525c-438a-c924-086ba268efa9"
   },
   "outputs": [
    {
     "name": "stderr",
     "output_type": "stream",
     "text": [
      "C:\\Users\\Brena-29\\AppData\\Local\\Temp/ipykernel_11600/1059969200.py:11: UserWarning: Boolean Series key will be reindexed to match DataFrame index.\n",
      "  processed_data = processed_data[data[col] < maximum]\n"
     ]
    },
    {
     "data": {
      "text/html": [
       "<div>\n",
       "<style scoped>\n",
       "    .dataframe tbody tr th:only-of-type {\n",
       "        vertical-align: middle;\n",
       "    }\n",
       "\n",
       "    .dataframe tbody tr th {\n",
       "        vertical-align: top;\n",
       "    }\n",
       "\n",
       "    .dataframe thead th {\n",
       "        text-align: right;\n",
       "    }\n",
       "</style>\n",
       "<table border=\"1\" class=\"dataframe\">\n",
       "  <thead>\n",
       "    <tr style=\"text-align: right;\">\n",
       "      <th></th>\n",
       "      <th>tier</th>\n",
       "      <th>division</th>\n",
       "      <th>position</th>\n",
       "      <th>level</th>\n",
       "      <th>minionsKilled</th>\n",
       "      <th>championsKilled</th>\n",
       "      <th>numDeaths</th>\n",
       "      <th>assists</th>\n",
       "      <th>wardPlaced</th>\n",
       "      <th>visionWardsBoughtInGame</th>\n",
       "      <th>wardKilled</th>\n",
       "      <th>goldEarned</th>\n",
       "      <th>totalDamageDealtToChampions</th>\n",
       "      <th>gameLength</th>\n",
       "    </tr>\n",
       "  </thead>\n",
       "  <tbody>\n",
       "    <tr>\n",
       "      <th>0</th>\n",
       "      <td>P</td>\n",
       "      <td>3</td>\n",
       "      <td>S</td>\n",
       "      <td>10</td>\n",
       "      <td>15</td>\n",
       "      <td>4</td>\n",
       "      <td>1</td>\n",
       "      <td>5</td>\n",
       "      <td>5</td>\n",
       "      <td>1</td>\n",
       "      <td>1</td>\n",
       "      <td>6083</td>\n",
       "      <td>5590</td>\n",
       "      <td>972</td>\n",
       "    </tr>\n",
       "    <tr>\n",
       "      <th>1</th>\n",
       "      <td>P</td>\n",
       "      <td>4</td>\n",
       "      <td>S</td>\n",
       "      <td>8</td>\n",
       "      <td>7</td>\n",
       "      <td>1</td>\n",
       "      <td>3</td>\n",
       "      <td>3</td>\n",
       "      <td>6</td>\n",
       "      <td>3</td>\n",
       "      <td>3</td>\n",
       "      <td>4118</td>\n",
       "      <td>3827</td>\n",
       "      <td>972</td>\n",
       "    </tr>\n",
       "    <tr>\n",
       "      <th>2</th>\n",
       "      <td>P</td>\n",
       "      <td>3</td>\n",
       "      <td>M</td>\n",
       "      <td>11</td>\n",
       "      <td>100</td>\n",
       "      <td>5</td>\n",
       "      <td>1</td>\n",
       "      <td>5</td>\n",
       "      <td>7</td>\n",
       "      <td>4</td>\n",
       "      <td>5</td>\n",
       "      <td>6769</td>\n",
       "      <td>9467</td>\n",
       "      <td>972</td>\n",
       "    </tr>\n",
       "    <tr>\n",
       "      <th>3</th>\n",
       "      <td>P</td>\n",
       "      <td>4</td>\n",
       "      <td>T</td>\n",
       "      <td>11</td>\n",
       "      <td>115</td>\n",
       "      <td>8</td>\n",
       "      <td>2</td>\n",
       "      <td>1</td>\n",
       "      <td>5</td>\n",
       "      <td>1</td>\n",
       "      <td>0</td>\n",
       "      <td>7972</td>\n",
       "      <td>10963</td>\n",
       "      <td>972</td>\n",
       "    </tr>\n",
       "    <tr>\n",
       "      <th>4</th>\n",
       "      <td>P</td>\n",
       "      <td>3</td>\n",
       "      <td>A</td>\n",
       "      <td>10</td>\n",
       "      <td>110</td>\n",
       "      <td>3</td>\n",
       "      <td>2</td>\n",
       "      <td>9</td>\n",
       "      <td>5</td>\n",
       "      <td>1</td>\n",
       "      <td>2</td>\n",
       "      <td>7552</td>\n",
       "      <td>6465</td>\n",
       "      <td>972</td>\n",
       "    </tr>\n",
       "    <tr>\n",
       "      <th>...</th>\n",
       "      <td>...</td>\n",
       "      <td>...</td>\n",
       "      <td>...</td>\n",
       "      <td>...</td>\n",
       "      <td>...</td>\n",
       "      <td>...</td>\n",
       "      <td>...</td>\n",
       "      <td>...</td>\n",
       "      <td>...</td>\n",
       "      <td>...</td>\n",
       "      <td>...</td>\n",
       "      <td>...</td>\n",
       "      <td>...</td>\n",
       "      <td>...</td>\n",
       "    </tr>\n",
       "    <tr>\n",
       "      <th>999995</th>\n",
       "      <td>S</td>\n",
       "      <td>1</td>\n",
       "      <td>S</td>\n",
       "      <td>15</td>\n",
       "      <td>29</td>\n",
       "      <td>1</td>\n",
       "      <td>11</td>\n",
       "      <td>7</td>\n",
       "      <td>29</td>\n",
       "      <td>4</td>\n",
       "      <td>7</td>\n",
       "      <td>8451</td>\n",
       "      <td>10019</td>\n",
       "      <td>2379</td>\n",
       "    </tr>\n",
       "    <tr>\n",
       "      <th>999996</th>\n",
       "      <td>G</td>\n",
       "      <td>4</td>\n",
       "      <td>M</td>\n",
       "      <td>18</td>\n",
       "      <td>251</td>\n",
       "      <td>10</td>\n",
       "      <td>6</td>\n",
       "      <td>3</td>\n",
       "      <td>8</td>\n",
       "      <td>0</td>\n",
       "      <td>1</td>\n",
       "      <td>18291</td>\n",
       "      <td>37581</td>\n",
       "      <td>2379</td>\n",
       "    </tr>\n",
       "    <tr>\n",
       "      <th>999997</th>\n",
       "      <td>G</td>\n",
       "      <td>4</td>\n",
       "      <td>J</td>\n",
       "      <td>17</td>\n",
       "      <td>40</td>\n",
       "      <td>5</td>\n",
       "      <td>5</td>\n",
       "      <td>22</td>\n",
       "      <td>13</td>\n",
       "      <td>3</td>\n",
       "      <td>2</td>\n",
       "      <td>12986</td>\n",
       "      <td>20994</td>\n",
       "      <td>2379</td>\n",
       "    </tr>\n",
       "    <tr>\n",
       "      <th>999998</th>\n",
       "      <td>S</td>\n",
       "      <td>1</td>\n",
       "      <td>A</td>\n",
       "      <td>17</td>\n",
       "      <td>260</td>\n",
       "      <td>6</td>\n",
       "      <td>5</td>\n",
       "      <td>3</td>\n",
       "      <td>11</td>\n",
       "      <td>1</td>\n",
       "      <td>4</td>\n",
       "      <td>15674</td>\n",
       "      <td>37078</td>\n",
       "      <td>2379</td>\n",
       "    </tr>\n",
       "    <tr>\n",
       "      <th>999999</th>\n",
       "      <td>G</td>\n",
       "      <td>4</td>\n",
       "      <td>T</td>\n",
       "      <td>18</td>\n",
       "      <td>235</td>\n",
       "      <td>3</td>\n",
       "      <td>6</td>\n",
       "      <td>5</td>\n",
       "      <td>15</td>\n",
       "      <td>2</td>\n",
       "      <td>2</td>\n",
       "      <td>14304</td>\n",
       "      <td>38181</td>\n",
       "      <td>2379</td>\n",
       "    </tr>\n",
       "  </tbody>\n",
       "</table>\n",
       "<p>950476 rows × 14 columns</p>\n",
       "</div>"
      ],
      "text/plain": [
       "       tier division position  level  minionsKilled  championsKilled  \\\n",
       "0         P        3        S     10             15                4   \n",
       "1         P        4        S      8              7                1   \n",
       "2         P        3        M     11            100                5   \n",
       "3         P        4        T     11            115                8   \n",
       "4         P        3        A     10            110                3   \n",
       "...     ...      ...      ...    ...            ...              ...   \n",
       "999995    S        1        S     15             29                1   \n",
       "999996    G        4        M     18            251               10   \n",
       "999997    G        4        J     17             40                5   \n",
       "999998    S        1        A     17            260                6   \n",
       "999999    G        4        T     18            235                3   \n",
       "\n",
       "        numDeaths  assists  wardPlaced  visionWardsBoughtInGame  wardKilled  \\\n",
       "0               1        5           5                        1           1   \n",
       "1               3        3           6                        3           3   \n",
       "2               1        5           7                        4           5   \n",
       "3               2        1           5                        1           0   \n",
       "4               2        9           5                        1           2   \n",
       "...           ...      ...         ...                      ...         ...   \n",
       "999995         11        7          29                        4           7   \n",
       "999996          6        3           8                        0           1   \n",
       "999997          5       22          13                        3           2   \n",
       "999998          5        3          11                        1           4   \n",
       "999999          6        5          15                        2           2   \n",
       "\n",
       "        goldEarned  totalDamageDealtToChampions  gameLength  \n",
       "0             6083                         5590         972  \n",
       "1             4118                         3827         972  \n",
       "2             6769                         9467         972  \n",
       "3             7972                        10963         972  \n",
       "4             7552                         6465         972  \n",
       "...            ...                          ...         ...  \n",
       "999995        8451                        10019        2379  \n",
       "999996       18291                        37581        2379  \n",
       "999997       12986                        20994        2379  \n",
       "999998       15674                        37078        2379  \n",
       "999999       14304                        38181        2379  \n",
       "\n",
       "[950476 rows x 14 columns]"
      ]
     },
     "execution_count": 96,
     "metadata": {},
     "output_type": "execute_result"
    }
   ],
   "source": [
    "processed_data = data\n",
    "\n",
    "# 하위 0.3퍼, 상위 0.3퍼 데이터를 제거한다\n",
    "for col in want_data:\n",
    "    minimum = data[col].quantile(0.003)\n",
    "    maximum = data[col].quantile(0.997)\n",
    "    if col == 'level':\n",
    "        processed_data = processed_data[data[col] > minimum]\n",
    "    \n",
    "    elif col in ['minionsKilled', 'championsKilled', 'numDeaths', 'assists', 'wardPlaced','visionWardsBoughtInGame', 'wardKilled']:\n",
    "        processed_data = processed_data[data[col] < maximum]\n",
    "    \n",
    "    else:\n",
    "         processed_data = processed_data[processed_data[col] < maximum]\n",
    "         processed_data = processed_data[processed_data[col] > minimum]\n",
    "\n",
    "        \n",
    "# processed_data : 이상치가 제거된 데이터 \n",
    "processed_data"
   ]
  },
  {
   "cell_type": "code",
   "execution_count": null,
   "metadata": {
    "id": "e-q6fj4hOb2Q"
   },
   "outputs": [],
   "source": [
    "processed_data['gameLength'] /= 60"
   ]
  },
  {
   "cell_type": "code",
   "execution_count": null,
   "metadata": {
    "id": "ZJZDNfaVOb2Q"
   },
   "outputs": [],
   "source": [
    "for it in processed_data.columns[3:len(processed_data.columns)-1]:\n",
    "    processed_data[it] /= processed_data['gameLength']"
   ]
  },
  {
   "cell_type": "code",
   "execution_count": null,
   "metadata": {
    "id": "WX3x-5sNOb2R",
    "outputId": "be509c34-e29e-4f3c-e29f-9a38fdbba6e3"
   },
   "outputs": [
    {
     "data": {
      "text/html": [
       "<div>\n",
       "<style scoped>\n",
       "    .dataframe tbody tr th:only-of-type {\n",
       "        vertical-align: middle;\n",
       "    }\n",
       "\n",
       "    .dataframe tbody tr th {\n",
       "        vertical-align: top;\n",
       "    }\n",
       "\n",
       "    .dataframe thead th {\n",
       "        text-align: right;\n",
       "    }\n",
       "</style>\n",
       "<table border=\"1\" class=\"dataframe\">\n",
       "  <thead>\n",
       "    <tr style=\"text-align: right;\">\n",
       "      <th></th>\n",
       "      <th>tier</th>\n",
       "      <th>division</th>\n",
       "      <th>position</th>\n",
       "      <th>level</th>\n",
       "      <th>minionsKilled</th>\n",
       "      <th>championsKilled</th>\n",
       "      <th>numDeaths</th>\n",
       "      <th>assists</th>\n",
       "      <th>wardPlaced</th>\n",
       "      <th>visionWardsBoughtInGame</th>\n",
       "      <th>wardKilled</th>\n",
       "      <th>goldEarned</th>\n",
       "      <th>totalDamageDealtToChampions</th>\n",
       "      <th>gameLength</th>\n",
       "    </tr>\n",
       "  </thead>\n",
       "  <tbody>\n",
       "    <tr>\n",
       "      <th>0</th>\n",
       "      <td>P</td>\n",
       "      <td>3</td>\n",
       "      <td>S</td>\n",
       "      <td>0.617284</td>\n",
       "      <td>0.925926</td>\n",
       "      <td>0.246914</td>\n",
       "      <td>0.061728</td>\n",
       "      <td>0.308642</td>\n",
       "      <td>0.308642</td>\n",
       "      <td>0.061728</td>\n",
       "      <td>0.061728</td>\n",
       "      <td>375.493827</td>\n",
       "      <td>345.061728</td>\n",
       "      <td>16.2</td>\n",
       "    </tr>\n",
       "    <tr>\n",
       "      <th>1</th>\n",
       "      <td>P</td>\n",
       "      <td>4</td>\n",
       "      <td>S</td>\n",
       "      <td>0.493827</td>\n",
       "      <td>0.432099</td>\n",
       "      <td>0.061728</td>\n",
       "      <td>0.185185</td>\n",
       "      <td>0.185185</td>\n",
       "      <td>0.370370</td>\n",
       "      <td>0.185185</td>\n",
       "      <td>0.185185</td>\n",
       "      <td>254.197531</td>\n",
       "      <td>236.234568</td>\n",
       "      <td>16.2</td>\n",
       "    </tr>\n",
       "    <tr>\n",
       "      <th>2</th>\n",
       "      <td>P</td>\n",
       "      <td>3</td>\n",
       "      <td>M</td>\n",
       "      <td>0.679012</td>\n",
       "      <td>6.172840</td>\n",
       "      <td>0.308642</td>\n",
       "      <td>0.061728</td>\n",
       "      <td>0.308642</td>\n",
       "      <td>0.432099</td>\n",
       "      <td>0.246914</td>\n",
       "      <td>0.308642</td>\n",
       "      <td>417.839506</td>\n",
       "      <td>584.382716</td>\n",
       "      <td>16.2</td>\n",
       "    </tr>\n",
       "  </tbody>\n",
       "</table>\n",
       "</div>"
      ],
      "text/plain": [
       "  tier division position     level  minionsKilled  championsKilled  numDeaths  \\\n",
       "0    P        3        S  0.617284       0.925926         0.246914   0.061728   \n",
       "1    P        4        S  0.493827       0.432099         0.061728   0.185185   \n",
       "2    P        3        M  0.679012       6.172840         0.308642   0.061728   \n",
       "\n",
       "    assists  wardPlaced  visionWardsBoughtInGame  wardKilled  goldEarned  \\\n",
       "0  0.308642    0.308642                 0.061728    0.061728  375.493827   \n",
       "1  0.185185    0.370370                 0.185185    0.185185  254.197531   \n",
       "2  0.308642    0.432099                 0.246914    0.308642  417.839506   \n",
       "\n",
       "   totalDamageDealtToChampions  gameLength  \n",
       "0                   345.061728        16.2  \n",
       "1                   236.234568        16.2  \n",
       "2                   584.382716        16.2  "
      ]
     },
     "execution_count": 138,
     "metadata": {},
     "output_type": "execute_result"
    }
   ],
   "source": [
    "processed_data.head(3)"
   ]
  },
  {
   "cell_type": "code",
   "execution_count": null,
   "metadata": {
    "id": "zKV9CWlvOb2R"
   },
   "outputs": [],
   "source": [
    "#data.describe(include=['number'])"
   ]
  },
  {
   "cell_type": "code",
   "execution_count": null,
   "metadata": {
    "id": "GWNMWq8FOb2R",
    "outputId": "39ebb2d3-6789-494f-b3e7-168e4808ec15"
   },
   "outputs": [
    {
     "data": {
      "text/html": [
       "<div>\n",
       "<style scoped>\n",
       "    .dataframe tbody tr th:only-of-type {\n",
       "        vertical-align: middle;\n",
       "    }\n",
       "\n",
       "    .dataframe tbody tr th {\n",
       "        vertical-align: top;\n",
       "    }\n",
       "\n",
       "    .dataframe thead th {\n",
       "        text-align: right;\n",
       "    }\n",
       "</style>\n",
       "<table border=\"1\" class=\"dataframe\">\n",
       "  <thead>\n",
       "    <tr style=\"text-align: right;\">\n",
       "      <th></th>\n",
       "      <th>tier</th>\n",
       "      <th>division</th>\n",
       "      <th>position</th>\n",
       "      <th>level</th>\n",
       "      <th>minionsKilled</th>\n",
       "      <th>championsKilled</th>\n",
       "      <th>numDeaths</th>\n",
       "      <th>assists</th>\n",
       "      <th>wardPlaced</th>\n",
       "      <th>visionWardsBoughtInGame</th>\n",
       "      <th>wardKilled</th>\n",
       "      <th>goldEarned</th>\n",
       "      <th>totalDamageDealtToChampions</th>\n",
       "    </tr>\n",
       "  </thead>\n",
       "  <tbody>\n",
       "    <tr>\n",
       "      <th>0</th>\n",
       "      <td>P</td>\n",
       "      <td>3</td>\n",
       "      <td>S</td>\n",
       "      <td>0.617284</td>\n",
       "      <td>0.925926</td>\n",
       "      <td>0.246914</td>\n",
       "      <td>0.061728</td>\n",
       "      <td>0.308642</td>\n",
       "      <td>0.308642</td>\n",
       "      <td>0.061728</td>\n",
       "      <td>0.061728</td>\n",
       "      <td>375.493827</td>\n",
       "      <td>345.061728</td>\n",
       "    </tr>\n",
       "    <tr>\n",
       "      <th>1</th>\n",
       "      <td>P</td>\n",
       "      <td>4</td>\n",
       "      <td>S</td>\n",
       "      <td>0.493827</td>\n",
       "      <td>0.432099</td>\n",
       "      <td>0.061728</td>\n",
       "      <td>0.185185</td>\n",
       "      <td>0.185185</td>\n",
       "      <td>0.370370</td>\n",
       "      <td>0.185185</td>\n",
       "      <td>0.185185</td>\n",
       "      <td>254.197531</td>\n",
       "      <td>236.234568</td>\n",
       "    </tr>\n",
       "    <tr>\n",
       "      <th>2</th>\n",
       "      <td>P</td>\n",
       "      <td>3</td>\n",
       "      <td>M</td>\n",
       "      <td>0.679012</td>\n",
       "      <td>6.172840</td>\n",
       "      <td>0.308642</td>\n",
       "      <td>0.061728</td>\n",
       "      <td>0.308642</td>\n",
       "      <td>0.432099</td>\n",
       "      <td>0.246914</td>\n",
       "      <td>0.308642</td>\n",
       "      <td>417.839506</td>\n",
       "      <td>584.382716</td>\n",
       "    </tr>\n",
       "  </tbody>\n",
       "</table>\n",
       "</div>"
      ],
      "text/plain": [
       "  tier division position     level  minionsKilled  championsKilled  numDeaths  \\\n",
       "0    P        3        S  0.617284       0.925926         0.246914   0.061728   \n",
       "1    P        4        S  0.493827       0.432099         0.061728   0.185185   \n",
       "2    P        3        M  0.679012       6.172840         0.308642   0.061728   \n",
       "\n",
       "    assists  wardPlaced  visionWardsBoughtInGame  wardKilled  goldEarned  \\\n",
       "0  0.308642    0.308642                 0.061728    0.061728  375.493827   \n",
       "1  0.185185    0.370370                 0.185185    0.185185  254.197531   \n",
       "2  0.308642    0.432099                 0.246914    0.308642  417.839506   \n",
       "\n",
       "   totalDamageDealtToChampions  \n",
       "0                   345.061728  \n",
       "1                   236.234568  \n",
       "2                   584.382716  "
      ]
     },
     "execution_count": 139,
     "metadata": {},
     "output_type": "execute_result"
    }
   ],
   "source": [
    "processed_data = processed_data.drop(columns='gameLength')\n",
    "processed_data.head(3)"
   ]
  },
  {
   "cell_type": "code",
   "execution_count": null,
   "metadata": {
    "id": "TrwIDch-Ob2S"
   },
   "outputs": [],
   "source": [
    "################################################################################################################################"
   ]
  },
  {
   "cell_type": "code",
   "execution_count": null,
   "metadata": {
    "id": "sKZkait-Ob2S"
   },
   "outputs": [],
   "source": [
    "# 확인하고 싶은 아이디 입력\n",
    "summoner_name = 'bbo bbo'"
   ]
  },
  {
   "cell_type": "code",
   "execution_count": null,
   "metadata": {
    "id": "MCIceFt1sLmL"
   },
   "outputs": [],
   "source": [
    "# selenium을 백그라운드로 실행하기 위해 옵션 설정 _ windows\n",
    "#options = webdriver.ChromeOptions()\n",
    "#options.add_argument('headless')\n",
    "#options.add_argument('window-size=1920x1080')"
   ]
  },
  {
   "cell_type": "code",
   "execution_count": null,
   "metadata": {
    "colab": {
     "base_uri": "https://localhost:8080/"
    },
    "executionInfo": {
     "elapsed": 1041,
     "status": "ok",
     "timestamp": 1638871560030,
     "user": {
      "displayName": "정현준",
      "photoUrl": "https://lh3.googleusercontent.com/a-/AOh14GjblSrmpHoQbtrPVJi5oCCrPNEqYZxMhuA8MFP_sw=s64",
      "userId": "17851274337180756350"
     },
     "user_tz": -540
    },
    "id": "tG4ek2SLP_xG",
    "outputId": "70c900df-314c-4e23-b9da-332ea430656f"
   },
   "outputs": [
    {
     "name": "stderr",
     "output_type": "stream",
     "text": [
      "/usr/local/lib/python3.7/dist-packages/ipykernel_launcher.py:5: DeprecationWarning: use options instead of chrome_options\n",
      "  \"\"\"\n"
     ]
    }
   ],
   "source": [
    "chrome_options = webdriver.ChromeOptions()\n",
    "chrome_options.add_argument('--headless')\n",
    "chrome_options.add_argument('--no-sandbox')\n",
    "chrome_options.add_argument('--disable-dev-shm-usage')\n",
    "driver = webdriver.Chrome('chromedriver',chrome_options=chrome_options)\n",
    "\n",
    "summoner_url = 'https://poro.gg/summoner/kr/' + summoner_name"
   ]
  },
  {
   "cell_type": "code",
   "execution_count": null,
   "metadata": {
    "id": "AZP5yEIGW1_9"
   },
   "outputs": [],
   "source": [
    "driver.get(summoner_url)"
   ]
  },
  {
   "cell_type": "code",
   "execution_count": null,
   "metadata": {
    "colab": {
     "base_uri": "https://localhost:8080/"
    },
    "executionInfo": {
     "elapsed": 5823,
     "status": "ok",
     "timestamp": 1638871469933,
     "user": {
      "displayName": "정현준",
      "photoUrl": "https://lh3.googleusercontent.com/a-/AOh14GjblSrmpHoQbtrPVJi5oCCrPNEqYZxMhuA8MFP_sw=s64",
      "userId": "17851274337180756350"
     },
     "user_tz": -540
    },
    "id": "5c6iarBqsLoE",
    "outputId": "766679ae-0b70-4fa9-d8da-13223422d69d"
   },
   "outputs": [
    {
     "name": "stderr",
     "output_type": "stream",
     "text": [
      "/usr/local/lib/python3.7/dist-packages/ipykernel_launcher.py:5: DeprecationWarning: use options instead of chrome_options\n",
      "  \"\"\"\n"
     ]
    }
   ],
   "source": [
    "# selenium으로 실행시킬 url설정\n",
    "#summoner_url = 'https://poro.gg/summoner/kr/' + summoner_name\n",
    "#chrome_driver_path = \"C:/Users/a/Desktop/chromedriver\" # windows\n",
    "#driver = webdriver.Chrome(chrome_driver_path) #windows\n",
    "#driver = webdriver.Chrome('chromedriver', chrome_options=options)\n",
    "\n",
    "#driver.get(summoner_url)"
   ]
  },
  {
   "cell_type": "code",
   "execution_count": null,
   "metadata": {
    "colab": {
     "base_uri": "https://localhost:8080/"
    },
    "executionInfo": {
     "elapsed": 2526,
     "status": "ok",
     "timestamp": 1638871605462,
     "user": {
      "displayName": "정현준",
      "photoUrl": "https://lh3.googleusercontent.com/a-/AOh14GjblSrmpHoQbtrPVJi5oCCrPNEqYZxMhuA8MFP_sw=s64",
      "userId": "17851274337180756350"
     },
     "user_tz": -540
    },
    "id": "5aaHSBoJrkKo",
    "outputId": "12f0397d-02d8-404b-a19b-b02604898f7f"
   },
   "outputs": [
    {
     "name": "stderr",
     "output_type": "stream",
     "text": [
      "/usr/local/lib/python3.7/dist-packages/ipykernel_launcher.py:2: DeprecationWarning: find_element_by_* commands are deprecated. Please use find_element() instead\n",
      "  \n"
     ]
    }
   ],
   "source": [
    "# 솔로랭크의 자료만을 원하므로, 솔로랭크 버튼 클릭\n",
    "solo_rank_button = driver.find_element_by_css_selector(\"#vue-profile > div.match-history-container.mt-3 > div:nth-child(1) > div.summoner-box__content > div > div.match-history-filter__queue-types > button:nth-child(2)\")\n",
    "solo_rank_button.click()\n",
    "time.sleep(2)"
   ]
  },
  {
   "cell_type": "code",
   "execution_count": null,
   "metadata": {
    "colab": {
     "base_uri": "https://localhost:8080/"
    },
    "executionInfo": {
     "elapsed": 1423,
     "status": "ok",
     "timestamp": 1638871613854,
     "user": {
      "displayName": "정현준",
      "photoUrl": "https://lh3.googleusercontent.com/a-/AOh14GjblSrmpHoQbtrPVJi5oCCrPNEqYZxMhuA8MFP_sw=s64",
      "userId": "17851274337180756350"
     },
     "user_tz": -540
    },
    "id": "aISP_lFYrkM3",
    "outputId": "b34e6a64-6cc8-453a-b556-812f3e11feb9"
   },
   "outputs": [
    {
     "name": "stderr",
     "output_type": "stream",
     "text": [
      "/usr/local/lib/python3.7/dist-packages/ipykernel_launcher.py:6: DeprecationWarning: find_element_by_* commands are deprecated. Please use find_element() instead\n",
      "  \n"
     ]
    }
   ],
   "source": [
    "# 컨테이너의 정보들은, start가 3부터 시작해서, 1씩 더해지며 쌓인다.\n",
    "# 각 컨테이너 마다 (+) 버튼 눌러주는 코드\n",
    "start = 3\n",
    "while True:\n",
    "    try:\n",
    "        driver.find_element_by_css_selector(\"#vue-profile > div.match-history-container.mt-3 > div:nth-child(\" + str(start) + \") > div > div.match-history__expand-toggle\").click()\n",
    "        time.sleep(0.5)\n",
    "        start += 1\n",
    "    \n",
    "    except Exception as e:\n",
    "        pass\n",
    "        break"
   ]
  },
  {
   "cell_type": "code",
   "execution_count": null,
   "metadata": {
    "id": "4Zr_-B8IR9fN"
   },
   "outputs": [],
   "source": [
    "# 전체 펼친 html\n",
    "summoner_html = driver.page_source\n",
    "summoner_soup = BeautifulSoup(summoner_html, 'html.parser')"
   ]
  },
  {
   "cell_type": "code",
   "execution_count": null,
   "metadata": {
    "id": "fe9xPIiPR9hJ"
   },
   "outputs": [],
   "source": [
    "driver.quit()"
   ]
  },
  {
   "cell_type": "code",
   "execution_count": null,
   "metadata": {
    "id": "YjBCIu00Ob2W"
   },
   "outputs": [],
   "source": [
    "summoner_games_html = summoner_soup.select('div.match-history__content')"
   ]
  },
  {
   "cell_type": "code",
   "execution_count": null,
   "metadata": {
    "id": "kU6uBRA6Ob2X"
   },
   "outputs": [],
   "source": [
    "# 불러오는 게임의 수\n",
    "# games_len = len(summoner_games_html)\n",
    "games_len = 13"
   ]
  },
  {
   "cell_type": "code",
   "execution_count": null,
   "metadata": {
    "id": "1cAox1a0Ob2X"
   },
   "outputs": [],
   "source": [
    "# 확인하고 싶은 자료 선정\n",
    "Damage = []\n",
    "CS = []\n",
    "Tower = []\n",
    "Wardplaced = []\n",
    "visionWardplaced = []\n",
    "WardKilled = []\n",
    "Kill = []\n",
    "Death = []\n",
    "Assist = []\n",
    "Level = []\n",
    "Gold = []\n",
    "#\n",
    "Gamelength = []"
   ]
  },
  {
   "cell_type": "code",
   "execution_count": null,
   "metadata": {
    "id": "Vlna_JpeOb2Z"
   },
   "outputs": [],
   "source": [
    "# 각각의 정보들을 각 리스트에 담아준다.\n",
    "for i in range(games_len):\n",
    "    Level.append(int(list(summoner_games_html[i].select_one('div.champion').stripped_strings)[0]))\n",
    "    CS.append(int(list(summoner_games_html[i].select_one('div.info').stripped_strings)[3]))\n",
    "    Kill.append(int(list(summoner_games_html[i].select_one('div.kda').stripped_strings)[0]))\n",
    "    Death.append(int(list(summoner_games_html[i].select_one('div.kda').stripped_strings)[2]))\n",
    "    Assist.append(int(list(summoner_games_html[i].select_one('div.kda').stripped_strings)[4]))\n",
    "    Wardplaced.append(int(list(summoner_games_html[i].select_one(' div.wards.mt-1').stripped_strings)[1]))\n",
    "    visionWardplaced.append(int(list(summoner_games_html[i].select_one(' div.wards.mt-1').stripped_strings)[0]))\n",
    "    WardKilled.append(int(list(summoner_games_html[i].select_one(' div.wards.mt-1').stripped_strings)[2]))\n",
    "    \n",
    "    #\n",
    "    gl = list(summoner_games_html[i].select_one('span.mt-md-1'))[0].split(':')\n",
    "    Gamelength.append(int(gl[0])*60 + int(gl[1]))"
   ]
  },
  {
   "cell_type": "code",
   "execution_count": null,
   "metadata": {
    "colab": {
     "base_uri": "https://localhost:8080/",
     "height": 282
    },
    "executionInfo": {
     "elapsed": 300,
     "status": "error",
     "timestamp": 1638870031164,
     "user": {
      "displayName": "정현준",
      "photoUrl": "https://lh3.googleusercontent.com/a-/AOh14GjblSrmpHoQbtrPVJi5oCCrPNEqYZxMhuA8MFP_sw=s64",
      "userId": "17851274337180756350"
     },
     "user_tz": -540
    },
    "id": "UYblFnrqOb2a",
    "outputId": "d8552eca-559b-40e6-bb7c-9cab8028108a"
   },
   "outputs": [
    {
     "ename": "NameError",
     "evalue": "ignored",
     "output_type": "error",
     "traceback": [
      "\u001b[0;31m---------------------------------------------------------------------------\u001b[0m",
      "\u001b[0;31mNameError\u001b[0m                                 Traceback (most recent call last)",
      "\u001b[0;32m<ipython-input-47-66750359ee1c>\u001b[0m in \u001b[0;36m<module>\u001b[0;34m()\u001b[0m\n\u001b[1;32m     13\u001b[0m         \u001b[0mselector2\u001b[0m \u001b[0;34m=\u001b[0m \u001b[0;34m'#vue-profile > div.match-history-container.mt-3 > div:nth-child('\u001b[0m \u001b[0;34m+\u001b[0m \u001b[0mstr\u001b[0m\u001b[0;34m(\u001b[0m\u001b[0mi\u001b[0m\u001b[0;34m+\u001b[0m\u001b[0;36m3\u001b[0m\u001b[0;34m)\u001b[0m \u001b[0;34m+\u001b[0m \u001b[0;34m') > div.match-history-detail > div.match-history-detail__content > div > div > div:nth-child(1) > div > div.match-detail-overview__summoners > div.match-detail-overview__summoner.match-detail-overview__summoner--me > div > div.match-detail-overview__summoner__column.stats > div.graph > span'\u001b[0m\u001b[0;34m\u001b[0m\u001b[0;34m\u001b[0m\u001b[0m\n\u001b[1;32m     14\u001b[0m \u001b[0;34m\u001b[0m\u001b[0m\n\u001b[0;32m---> 15\u001b[0;31m     \u001b[0mgold\u001b[0m \u001b[0;34m=\u001b[0m \u001b[0mlist\u001b[0m\u001b[0;34m(\u001b[0m\u001b[0msummoner_games_html\u001b[0m\u001b[0;34m[\u001b[0m\u001b[0mi\u001b[0m\u001b[0;34m]\u001b[0m\u001b[0;34m.\u001b[0m\u001b[0mselect_one\u001b[0m\u001b[0;34m(\u001b[0m\u001b[0mselector1\u001b[0m\u001b[0;34m)\u001b[0m\u001b[0;34m.\u001b[0m\u001b[0mstripped_strings\u001b[0m\u001b[0;34m)\u001b[0m\u001b[0;34m[\u001b[0m\u001b[0;36m0\u001b[0m\u001b[0;34m]\u001b[0m\u001b[0;34m\u001b[0m\u001b[0;34m\u001b[0m\u001b[0m\n\u001b[0m\u001b[1;32m     16\u001b[0m     \u001b[0mdamage\u001b[0m \u001b[0;34m=\u001b[0m \u001b[0mlist\u001b[0m\u001b[0;34m(\u001b[0m\u001b[0msummoner_games_html\u001b[0m\u001b[0;34m[\u001b[0m\u001b[0mi\u001b[0m\u001b[0;34m]\u001b[0m\u001b[0;34m.\u001b[0m\u001b[0mselect_one\u001b[0m\u001b[0;34m(\u001b[0m\u001b[0mselector2\u001b[0m\u001b[0;34m)\u001b[0m\u001b[0;34m.\u001b[0m\u001b[0mstripped_strings\u001b[0m\u001b[0;34m)\u001b[0m\u001b[0;34m[\u001b[0m\u001b[0;36m0\u001b[0m\u001b[0;34m]\u001b[0m\u001b[0;34m\u001b[0m\u001b[0;34m\u001b[0m\u001b[0m\n\u001b[1;32m     17\u001b[0m     \u001b[0;32mif\u001b[0m \u001b[0mgold\u001b[0m\u001b[0;34m[\u001b[0m\u001b[0;34m-\u001b[0m\u001b[0;36m1\u001b[0m\u001b[0;34m]\u001b[0m \u001b[0;34m==\u001b[0m \u001b[0;34m'천'\u001b[0m\u001b[0;34m:\u001b[0m\u001b[0;34m\u001b[0m\u001b[0;34m\u001b[0m\u001b[0m\n",
      "\u001b[0;31mNameError\u001b[0m: name 'selector1' is not defined"
     ]
    }
   ],
   "source": [
    "# 게임의 결과가 승리인지 패배인지 알려주는 html\n",
    "# 각 게임의 '자세히보기' 버튼을 눌러야 나오는 정보들을 담는 코드\n",
    "\n",
    "for i in range(games_len):\n",
    "    summoner_games_html = summoner_soup.select('div.match-history__result')\n",
    "    if list(summoner_games_html[i].stripped_strings)[0] == '패배':\n",
    "        summoner_games_html = summoner_soup.select('div.match-history-detail__content')\n",
    "        selector1 = '#vue-profile > div.match-history-container.mt-3 > div:nth-child(' + str(i+3) + ') > div.match-history-detail > div.match-history-detail__content > div > div > div.col-12.col-lg-6.border-e6-left-md > div > div.match-detail-overview__summoners > div.match-detail-overview__summoner.match-detail-overview__summoner--me > div > div.match-detail-overview__summoner__column.stats > div.wards > div:nth-child(2) > span'\n",
    "        selector2 = '#vue-profile > div.match-history-container.mt-3 > div:nth-child(' + str(i+3) + ') > div.match-history-detail > div.match-history-detail__content > div > div > div.col-12.col-lg-6.border-e6-left-md > div > div.match-detail-overview__summoners > div.match-detail-overview__summoner.match-detail-overview__summoner--me > div > div.match-detail-overview__summoner__column.stats > div.graph > span'\n",
    "    elif list(summoner_games_html[i].stripped_strings)[0] == '승리':\n",
    "        summoner_games_html = summoner_soup.select('div.match-history-detail__content')\n",
    "        selector1 = '#vue-profile > div.match-history-container.mt-3 > div:nth-child(' + str(i+3) + ') > div.match-history-detail > div.match-history-detail__content > div > div > div:nth-child(1) > div > div.match-detail-overview__summoners > div.match-detail-overview__summoner.match-detail-overview__summoner--me > div > div.match-detail-overview__summoner__column.stats > div.wards > div:nth-child(2) > span'\n",
    "        selector2 = '#vue-profile > div.match-history-container.mt-3 > div:nth-child(' + str(i+3) + ') > div.match-history-detail > div.match-history-detail__content > div > div > div:nth-child(1) > div > div.match-detail-overview__summoners > div.match-detail-overview__summoner.match-detail-overview__summoner--me > div > div.match-detail-overview__summoner__column.stats > div.graph > span'\n",
    "        \n",
    "    gold = list(summoner_games_html[i].select_one(selector1).stripped_strings)[0]\n",
    "    damage = list(summoner_games_html[i].select_one(selector2).stripped_strings)[0]\n",
    "    if gold[-1] == '천':\n",
    "        g = float(gold[:-1])\n",
    "        g = int(g * 1000)\n",
    "        Gold.append(g)\n",
    "        \n",
    "    elif gold[-1] == '만':\n",
    "        g = float(gold[:-1])\n",
    "        g = int(g * 10000)\n",
    "        Gold.append(g)\n",
    "        \n",
    "    if ',' in damage:\n",
    "        damage = damage.replace(',', '')\n",
    "        damage = int(damage)\n",
    "        Damage.append(damage)\n",
    "    \n",
    "    time.sleep(0.5)"
   ]
  },
  {
   "cell_type": "code",
   "execution_count": null,
   "metadata": {
    "id": "YlbNcdIUOb2b"
   },
   "outputs": [],
   "source": [
    "# 내 평균 데이터들을 구하는 코드\n",
    "# 각 데이터의 합을 (60/게임시간) 즉, 분으로 나누어서 나타낸다.\n",
    "\n",
    "my_average_cs = round((sum(CS) * 60) / (sum(Gamelength)), 3)\n",
    "my_average_kill = round((sum(Kill) * 60) / (sum(Gamelength)), 3)\n",
    "my_average_death = round((sum(Death) * 60) / (sum(Gamelength)), 3)\n",
    "my_average_Assist = round((sum(Assist) * 60) / (sum(Gamelength)), 3)\n",
    "my_level = round((sum(Level) * 60) / (sum(Gamelength)), 3)\n",
    "my_wardplaced = round((sum(Wardplaced) * 60) / (sum(Gamelength)), 3)\n",
    "my_visionWardplaced = round((sum(visionWardplaced) * 60) / (sum(Gamelength)), 3)\n",
    "my_wardkilled = round((sum(WardKilled) * 60) / (sum(Gamelength)), 3)\n",
    "my_gold = round((sum(Gold) * 60) / (sum(Gamelength)), 3)\n",
    "my_damage = round((sum(Damage) * 60) / (sum(Gamelength)), 3)\n",
    "\n",
    "dataindex = [\"Level\", \"CS\", \"Kill\", \"Death\", \"Assist\", \"wardPlaced\", \n",
    "             \"visionwardPlaced\", \"wardkilled\", \"Gold\", \"Damage\"]\n",
    "mydatacol = [my_level, my_average_cs, my_average_kill, my_average_death, \n",
    "                   my_average_Assist, my_wardplaced, my_visionWardplaced, my_wardkilled,\n",
    "                  my_gold, my_damage]"
   ]
  },
  {
   "cell_type": "code",
   "execution_count": null,
   "metadata": {
    "id": "gQXZXG4TOb2c"
   },
   "outputs": [],
   "source": []
  },
  {
   "cell_type": "code",
   "execution_count": null,
   "metadata": {
    "id": "yQzyTTyOOb2d"
   },
   "outputs": [],
   "source": []
  },
  {
   "cell_type": "code",
   "execution_count": null,
   "metadata": {
    "id": "Wka2Ba7pOb2d",
    "outputId": "bd53d648-95e5-4c73-9bed-f6ce4a48eeb2"
   },
   "outputs": [
    {
     "data": {
      "text/html": [
       "<div>\n",
       "<style scoped>\n",
       "    .dataframe tbody tr th:only-of-type {\n",
       "        vertical-align: middle;\n",
       "    }\n",
       "\n",
       "    .dataframe tbody tr th {\n",
       "        vertical-align: top;\n",
       "    }\n",
       "\n",
       "    .dataframe thead th {\n",
       "        text-align: right;\n",
       "    }\n",
       "</style>\n",
       "<table border=\"1\" class=\"dataframe\">\n",
       "  <thead>\n",
       "    <tr style=\"text-align: right;\">\n",
       "      <th></th>\n",
       "      <th>Level</th>\n",
       "      <th>CS</th>\n",
       "      <th>Kill</th>\n",
       "      <th>Death</th>\n",
       "      <th>Assist</th>\n",
       "      <th>wardPlaced</th>\n",
       "      <th>visionwardPlaced</th>\n",
       "      <th>wardkilled</th>\n",
       "      <th>Gold</th>\n",
       "      <th>Damage</th>\n",
       "    </tr>\n",
       "  </thead>\n",
       "  <tbody>\n",
       "    <tr>\n",
       "      <th>me</th>\n",
       "      <td>0.504</td>\n",
       "      <td>5.393</td>\n",
       "      <td>0.256</td>\n",
       "      <td>0.185</td>\n",
       "      <td>0.351</td>\n",
       "      <td>0.319</td>\n",
       "      <td>0.185</td>\n",
       "      <td>0.15</td>\n",
       "      <td>423.36</td>\n",
       "      <td>702.927</td>\n",
       "    </tr>\n",
       "  </tbody>\n",
       "</table>\n",
       "</div>"
      ],
      "text/plain": [
       "    Level     CS   Kill  Death  Assist  wardPlaced  visionwardPlaced  \\\n",
       "me  0.504  5.393  0.256  0.185   0.351       0.319             0.185   \n",
       "\n",
       "    wardkilled    Gold   Damage  \n",
       "me        0.15  423.36  702.927  "
      ]
     },
     "execution_count": 140,
     "metadata": {},
     "output_type": "execute_result"
    }
   ],
   "source": [
    "# 데이터 프레임으로 그 정보들을 확인한다.\n",
    "mydata = pd.DataFrame(mydatacol, index = dataindex).T\n",
    "mydata.index = ['me']\n",
    "mydata"
   ]
  },
  {
   "cell_type": "code",
   "execution_count": null,
   "metadata": {
    "id": "0M_anUq7Ob2e"
   },
   "outputs": [],
   "source": [
    "data.head(1)\n",
    "asd_data = processed_data[['level', 'minionsKilled', 'championsKilled', 'numDeaths', 'assists', 'wardPlaced', 'visionWardsBoughtInGame', 'wardKilled', 'goldEarned', 'totalDamageDealtToChampions']]\n",
    "asd_data.columns = dataindex\n",
    "total = pd.concat([mydata, asd_data])"
   ]
  },
  {
   "cell_type": "code",
   "execution_count": null,
   "metadata": {
    "id": "QWe4kKsoOb2e",
    "outputId": "d3265301-714d-4f43-b391-ab5fd5b8662b"
   },
   "outputs": [
    {
     "data": {
      "text/html": [
       "<div>\n",
       "<style scoped>\n",
       "    .dataframe tbody tr th:only-of-type {\n",
       "        vertical-align: middle;\n",
       "    }\n",
       "\n",
       "    .dataframe tbody tr th {\n",
       "        vertical-align: top;\n",
       "    }\n",
       "\n",
       "    .dataframe thead th {\n",
       "        text-align: right;\n",
       "    }\n",
       "</style>\n",
       "<table border=\"1\" class=\"dataframe\">\n",
       "  <thead>\n",
       "    <tr style=\"text-align: right;\">\n",
       "      <th></th>\n",
       "      <th>Level</th>\n",
       "      <th>CS</th>\n",
       "      <th>Kill</th>\n",
       "      <th>Death</th>\n",
       "      <th>Assist</th>\n",
       "      <th>wardPlaced</th>\n",
       "      <th>visionwardPlaced</th>\n",
       "      <th>wardkilled</th>\n",
       "      <th>Gold</th>\n",
       "      <th>Damage</th>\n",
       "    </tr>\n",
       "  </thead>\n",
       "  <tbody>\n",
       "    <tr>\n",
       "      <th>me</th>\n",
       "      <td>0.504000</td>\n",
       "      <td>5.393000</td>\n",
       "      <td>0.256000</td>\n",
       "      <td>0.185000</td>\n",
       "      <td>0.351000</td>\n",
       "      <td>0.319000</td>\n",
       "      <td>0.185000</td>\n",
       "      <td>0.150000</td>\n",
       "      <td>423.360000</td>\n",
       "      <td>702.927000</td>\n",
       "    </tr>\n",
       "    <tr>\n",
       "      <th>0</th>\n",
       "      <td>0.617284</td>\n",
       "      <td>0.925926</td>\n",
       "      <td>0.246914</td>\n",
       "      <td>0.061728</td>\n",
       "      <td>0.308642</td>\n",
       "      <td>0.308642</td>\n",
       "      <td>0.061728</td>\n",
       "      <td>0.061728</td>\n",
       "      <td>375.493827</td>\n",
       "      <td>345.061728</td>\n",
       "    </tr>\n",
       "    <tr>\n",
       "      <th>1</th>\n",
       "      <td>0.493827</td>\n",
       "      <td>0.432099</td>\n",
       "      <td>0.061728</td>\n",
       "      <td>0.185185</td>\n",
       "      <td>0.185185</td>\n",
       "      <td>0.370370</td>\n",
       "      <td>0.185185</td>\n",
       "      <td>0.185185</td>\n",
       "      <td>254.197531</td>\n",
       "      <td>236.234568</td>\n",
       "    </tr>\n",
       "    <tr>\n",
       "      <th>2</th>\n",
       "      <td>0.679012</td>\n",
       "      <td>6.172840</td>\n",
       "      <td>0.308642</td>\n",
       "      <td>0.061728</td>\n",
       "      <td>0.308642</td>\n",
       "      <td>0.432099</td>\n",
       "      <td>0.246914</td>\n",
       "      <td>0.308642</td>\n",
       "      <td>417.839506</td>\n",
       "      <td>584.382716</td>\n",
       "    </tr>\n",
       "    <tr>\n",
       "      <th>3</th>\n",
       "      <td>0.679012</td>\n",
       "      <td>7.098765</td>\n",
       "      <td>0.493827</td>\n",
       "      <td>0.123457</td>\n",
       "      <td>0.061728</td>\n",
       "      <td>0.308642</td>\n",
       "      <td>0.061728</td>\n",
       "      <td>0.000000</td>\n",
       "      <td>492.098765</td>\n",
       "      <td>676.728395</td>\n",
       "    </tr>\n",
       "    <tr>\n",
       "      <th>...</th>\n",
       "      <td>...</td>\n",
       "      <td>...</td>\n",
       "      <td>...</td>\n",
       "      <td>...</td>\n",
       "      <td>...</td>\n",
       "      <td>...</td>\n",
       "      <td>...</td>\n",
       "      <td>...</td>\n",
       "      <td>...</td>\n",
       "      <td>...</td>\n",
       "    </tr>\n",
       "    <tr>\n",
       "      <th>999995</th>\n",
       "      <td>0.378310</td>\n",
       "      <td>0.731400</td>\n",
       "      <td>0.025221</td>\n",
       "      <td>0.277427</td>\n",
       "      <td>0.176545</td>\n",
       "      <td>0.731400</td>\n",
       "      <td>0.100883</td>\n",
       "      <td>0.176545</td>\n",
       "      <td>213.139975</td>\n",
       "      <td>252.686003</td>\n",
       "    </tr>\n",
       "    <tr>\n",
       "      <th>999996</th>\n",
       "      <td>0.453972</td>\n",
       "      <td>6.330391</td>\n",
       "      <td>0.252207</td>\n",
       "      <td>0.151324</td>\n",
       "      <td>0.075662</td>\n",
       "      <td>0.201765</td>\n",
       "      <td>0.000000</td>\n",
       "      <td>0.025221</td>\n",
       "      <td>461.311475</td>\n",
       "      <td>947.818411</td>\n",
       "    </tr>\n",
       "    <tr>\n",
       "      <th>999997</th>\n",
       "      <td>0.428752</td>\n",
       "      <td>1.008827</td>\n",
       "      <td>0.126103</td>\n",
       "      <td>0.126103</td>\n",
       "      <td>0.554855</td>\n",
       "      <td>0.327869</td>\n",
       "      <td>0.075662</td>\n",
       "      <td>0.050441</td>\n",
       "      <td>327.515763</td>\n",
       "      <td>529.482976</td>\n",
       "    </tr>\n",
       "    <tr>\n",
       "      <th>999998</th>\n",
       "      <td>0.428752</td>\n",
       "      <td>6.557377</td>\n",
       "      <td>0.151324</td>\n",
       "      <td>0.126103</td>\n",
       "      <td>0.075662</td>\n",
       "      <td>0.277427</td>\n",
       "      <td>0.025221</td>\n",
       "      <td>0.100883</td>\n",
       "      <td>395.308953</td>\n",
       "      <td>935.132409</td>\n",
       "    </tr>\n",
       "    <tr>\n",
       "      <th>999999</th>\n",
       "      <td>0.453972</td>\n",
       "      <td>5.926860</td>\n",
       "      <td>0.075662</td>\n",
       "      <td>0.151324</td>\n",
       "      <td>0.126103</td>\n",
       "      <td>0.378310</td>\n",
       "      <td>0.050441</td>\n",
       "      <td>0.050441</td>\n",
       "      <td>360.756620</td>\n",
       "      <td>962.950820</td>\n",
       "    </tr>\n",
       "  </tbody>\n",
       "</table>\n",
       "<p>950477 rows × 10 columns</p>\n",
       "</div>"
      ],
      "text/plain": [
       "           Level        CS      Kill     Death    Assist  wardPlaced  \\\n",
       "me      0.504000  5.393000  0.256000  0.185000  0.351000    0.319000   \n",
       "0       0.617284  0.925926  0.246914  0.061728  0.308642    0.308642   \n",
       "1       0.493827  0.432099  0.061728  0.185185  0.185185    0.370370   \n",
       "2       0.679012  6.172840  0.308642  0.061728  0.308642    0.432099   \n",
       "3       0.679012  7.098765  0.493827  0.123457  0.061728    0.308642   \n",
       "...          ...       ...       ...       ...       ...         ...   \n",
       "999995  0.378310  0.731400  0.025221  0.277427  0.176545    0.731400   \n",
       "999996  0.453972  6.330391  0.252207  0.151324  0.075662    0.201765   \n",
       "999997  0.428752  1.008827  0.126103  0.126103  0.554855    0.327869   \n",
       "999998  0.428752  6.557377  0.151324  0.126103  0.075662    0.277427   \n",
       "999999  0.453972  5.926860  0.075662  0.151324  0.126103    0.378310   \n",
       "\n",
       "        visionwardPlaced  wardkilled        Gold      Damage  \n",
       "me              0.185000    0.150000  423.360000  702.927000  \n",
       "0               0.061728    0.061728  375.493827  345.061728  \n",
       "1               0.185185    0.185185  254.197531  236.234568  \n",
       "2               0.246914    0.308642  417.839506  584.382716  \n",
       "3               0.061728    0.000000  492.098765  676.728395  \n",
       "...                  ...         ...         ...         ...  \n",
       "999995          0.100883    0.176545  213.139975  252.686003  \n",
       "999996          0.000000    0.025221  461.311475  947.818411  \n",
       "999997          0.075662    0.050441  327.515763  529.482976  \n",
       "999998          0.025221    0.100883  395.308953  935.132409  \n",
       "999999          0.050441    0.050441  360.756620  962.950820  \n",
       "\n",
       "[950477 rows x 10 columns]"
      ]
     },
     "execution_count": 142,
     "metadata": {},
     "output_type": "execute_result"
    }
   ],
   "source": [
    "total"
   ]
  },
  {
   "cell_type": "code",
   "execution_count": null,
   "metadata": {
    "id": "nad8PkUaOb2g",
    "outputId": "851053af-6a20-4f1d-e555-de4fbdbf8794"
   },
   "outputs": [
    {
     "data": {
      "text/html": [
       "<div>\n",
       "<style scoped>\n",
       "    .dataframe tbody tr th:only-of-type {\n",
       "        vertical-align: middle;\n",
       "    }\n",
       "\n",
       "    .dataframe tbody tr th {\n",
       "        vertical-align: top;\n",
       "    }\n",
       "\n",
       "    .dataframe thead th {\n",
       "        text-align: right;\n",
       "    }\n",
       "</style>\n",
       "<table border=\"1\" class=\"dataframe\">\n",
       "  <thead>\n",
       "    <tr style=\"text-align: right;\">\n",
       "      <th></th>\n",
       "      <th>Level</th>\n",
       "      <th>CS</th>\n",
       "      <th>Kill</th>\n",
       "      <th>Death</th>\n",
       "      <th>Assist</th>\n",
       "      <th>wardPlaced</th>\n",
       "      <th>visionwardPlaced</th>\n",
       "      <th>wardkilled</th>\n",
       "      <th>Gold</th>\n",
       "      <th>Damage</th>\n",
       "    </tr>\n",
       "  </thead>\n",
       "  <tbody>\n",
       "    <tr>\n",
       "      <th>me</th>\n",
       "      <td>0.466942</td>\n",
       "      <td>0.371863</td>\n",
       "      <td>0.300634</td>\n",
       "      <td>0.545072</td>\n",
       "      <td>0.250205</td>\n",
       "      <td>0.397638</td>\n",
       "      <td>0.122370</td>\n",
       "      <td>0.220829</td>\n",
       "      <td>0.270474</td>\n",
       "      <td>0.264076</td>\n",
       "    </tr>\n",
       "    <tr>\n",
       "      <th>0</th>\n",
       "      <td>0.073556</td>\n",
       "      <td>0.839753</td>\n",
       "      <td>0.319947</td>\n",
       "      <td>0.916357</td>\n",
       "      <td>0.325655</td>\n",
       "      <td>0.431872</td>\n",
       "      <td>0.499500</td>\n",
       "      <td>0.570011</td>\n",
       "      <td>0.459493</td>\n",
       "      <td>0.770042</td>\n",
       "    </tr>\n",
       "    <tr>\n",
       "      <th>1</th>\n",
       "      <td>0.525709</td>\n",
       "      <td>0.955053</td>\n",
       "      <td>0.827504</td>\n",
       "      <td>0.544260</td>\n",
       "      <td>0.617585</td>\n",
       "      <td>0.279216</td>\n",
       "      <td>0.122022</td>\n",
       "      <td>0.147597</td>\n",
       "      <td>0.919938</td>\n",
       "      <td>0.908381</td>\n",
       "    </tr>\n",
       "    <tr>\n",
       "      <th>2</th>\n",
       "      <td>0.020803</td>\n",
       "      <td>0.230407</td>\n",
       "      <td>0.211613</td>\n",
       "      <td>0.916357</td>\n",
       "      <td>0.325655</td>\n",
       "      <td>0.206454</td>\n",
       "      <td>0.054748</td>\n",
       "      <td>0.027969</td>\n",
       "      <td>0.290131</td>\n",
       "      <td>0.410337</td>\n",
       "    </tr>\n",
       "    <tr>\n",
       "      <th>3</th>\n",
       "      <td>0.020803</td>\n",
       "      <td>0.091938</td>\n",
       "      <td>0.050379</td>\n",
       "      <td>0.764873</td>\n",
       "      <td>0.904254</td>\n",
       "      <td>0.431872</td>\n",
       "      <td>0.499500</td>\n",
       "      <td>0.899211</td>\n",
       "      <td>0.094604</td>\n",
       "      <td>0.292847</td>\n",
       "    </tr>\n",
       "    <tr>\n",
       "      <th>...</th>\n",
       "      <td>...</td>\n",
       "      <td>...</td>\n",
       "      <td>...</td>\n",
       "      <td>...</td>\n",
       "      <td>...</td>\n",
       "      <td>...</td>\n",
       "      <td>...</td>\n",
       "      <td>...</td>\n",
       "      <td>...</td>\n",
       "      <td>...</td>\n",
       "    </tr>\n",
       "    <tr>\n",
       "      <th>999995</th>\n",
       "      <td>0.985342</td>\n",
       "      <td>0.891255</td>\n",
       "      <td>0.934231</td>\n",
       "      <td>0.229204</td>\n",
       "      <td>0.640618</td>\n",
       "      <td>0.096960</td>\n",
       "      <td>0.331076</td>\n",
       "      <td>0.164183</td>\n",
       "      <td>0.986185</td>\n",
       "      <td>0.890022</td>\n",
       "    </tr>\n",
       "    <tr>\n",
       "      <th>999996</th>\n",
       "      <td>0.758398</td>\n",
       "      <td>0.202877</td>\n",
       "      <td>0.308648</td>\n",
       "      <td>0.665177</td>\n",
       "      <td>0.877793</td>\n",
       "      <td>0.749114</td>\n",
       "      <td>0.855436</td>\n",
       "      <td>0.794450</td>\n",
       "      <td>0.157986</td>\n",
       "      <td>0.087274</td>\n",
       "    </tr>\n",
       "    <tr>\n",
       "      <th>999997</th>\n",
       "      <td>0.876150</td>\n",
       "      <td>0.815301</td>\n",
       "      <td>0.632116</td>\n",
       "      <td>0.755296</td>\n",
       "      <td>0.059765</td>\n",
       "      <td>0.369910</td>\n",
       "      <td>0.432902</td>\n",
       "      <td>0.618557</td>\n",
       "      <td>0.667068</td>\n",
       "      <td>0.489974</td>\n",
       "    </tr>\n",
       "    <tr>\n",
       "      <th>999998</th>\n",
       "      <td>0.876150</td>\n",
       "      <td>0.165395</td>\n",
       "      <td>0.553713</td>\n",
       "      <td>0.755296</td>\n",
       "      <td>0.877793</td>\n",
       "      <td>0.534301</td>\n",
       "      <td>0.705193</td>\n",
       "      <td>0.382554</td>\n",
       "      <td>0.376232</td>\n",
       "      <td>0.092918</td>\n",
       "    </tr>\n",
       "    <tr>\n",
       "      <th>999999</th>\n",
       "      <td>0.758398</td>\n",
       "      <td>0.274308</td>\n",
       "      <td>0.783991</td>\n",
       "      <td>0.665177</td>\n",
       "      <td>0.768535</td>\n",
       "      <td>0.265927</td>\n",
       "      <td>0.543454</td>\n",
       "      <td>0.618557</td>\n",
       "      <td>0.522924</td>\n",
       "      <td>0.081036</td>\n",
       "    </tr>\n",
       "  </tbody>\n",
       "</table>\n",
       "<p>950477 rows × 10 columns</p>\n",
       "</div>"
      ],
      "text/plain": [
       "           Level        CS      Kill     Death    Assist  wardPlaced  \\\n",
       "me      0.466942  0.371863  0.300634  0.545072  0.250205    0.397638   \n",
       "0       0.073556  0.839753  0.319947  0.916357  0.325655    0.431872   \n",
       "1       0.525709  0.955053  0.827504  0.544260  0.617585    0.279216   \n",
       "2       0.020803  0.230407  0.211613  0.916357  0.325655    0.206454   \n",
       "3       0.020803  0.091938  0.050379  0.764873  0.904254    0.431872   \n",
       "...          ...       ...       ...       ...       ...         ...   \n",
       "999995  0.985342  0.891255  0.934231  0.229204  0.640618    0.096960   \n",
       "999996  0.758398  0.202877  0.308648  0.665177  0.877793    0.749114   \n",
       "999997  0.876150  0.815301  0.632116  0.755296  0.059765    0.369910   \n",
       "999998  0.876150  0.165395  0.553713  0.755296  0.877793    0.534301   \n",
       "999999  0.758398  0.274308  0.783991  0.665177  0.768535    0.265927   \n",
       "\n",
       "        visionwardPlaced  wardkilled      Gold    Damage  \n",
       "me              0.122370    0.220829  0.270474  0.264076  \n",
       "0               0.499500    0.570011  0.459493  0.770042  \n",
       "1               0.122022    0.147597  0.919938  0.908381  \n",
       "2               0.054748    0.027969  0.290131  0.410337  \n",
       "3               0.499500    0.899211  0.094604  0.292847  \n",
       "...                  ...         ...       ...       ...  \n",
       "999995          0.331076    0.164183  0.986185  0.890022  \n",
       "999996          0.855436    0.794450  0.157986  0.087274  \n",
       "999997          0.432902    0.618557  0.667068  0.489974  \n",
       "999998          0.705193    0.382554  0.376232  0.092918  \n",
       "999999          0.543454    0.618557  0.522924  0.081036  \n",
       "\n",
       "[950477 rows x 10 columns]"
      ]
     },
     "execution_count": 144,
     "metadata": {},
     "output_type": "execute_result"
    }
   ],
   "source": [
    "# 데이터를 rank함수를 통해 상위 %로 바꾼다 \n",
    "rank_data = total.rank(ascending = False, pct = True)\n",
    "rank_data"
   ]
  },
  {
   "cell_type": "code",
   "execution_count": null,
   "metadata": {
    "id": "natocVJCOb2g"
   },
   "outputs": [],
   "source": [
    "# 나의 데이터만을 추출한다.\n",
    "my_rank_data = rank_data[rank_data.index == 'me']\n",
    "my_rank_data = round(my_rank_data, 3)\n",
    "my_rank_data *= 100"
   ]
  },
  {
   "cell_type": "code",
   "execution_count": null,
   "metadata": {
    "id": "RDQrZek8Ob2h",
    "outputId": "57399757-d2c4-4225-d8c9-b22a47f37a21"
   },
   "outputs": [
    {
     "data": {
      "text/html": [
       "<div>\n",
       "<style scoped>\n",
       "    .dataframe tbody tr th:only-of-type {\n",
       "        vertical-align: middle;\n",
       "    }\n",
       "\n",
       "    .dataframe tbody tr th {\n",
       "        vertical-align: top;\n",
       "    }\n",
       "\n",
       "    .dataframe thead th {\n",
       "        text-align: right;\n",
       "    }\n",
       "</style>\n",
       "<table border=\"1\" class=\"dataframe\">\n",
       "  <thead>\n",
       "    <tr style=\"text-align: right;\">\n",
       "      <th></th>\n",
       "      <th>Level</th>\n",
       "      <th>CS</th>\n",
       "      <th>Kill</th>\n",
       "      <th>Death</th>\n",
       "      <th>Assist</th>\n",
       "      <th>wardPlaced</th>\n",
       "      <th>visionwardPlaced</th>\n",
       "      <th>wardkilled</th>\n",
       "      <th>Gold</th>\n",
       "      <th>Damage</th>\n",
       "    </tr>\n",
       "  </thead>\n",
       "  <tbody>\n",
       "    <tr>\n",
       "      <th>me</th>\n",
       "      <td>46.7</td>\n",
       "      <td>37.2</td>\n",
       "      <td>30.1</td>\n",
       "      <td>54.5</td>\n",
       "      <td>25.0</td>\n",
       "      <td>39.8</td>\n",
       "      <td>12.2</td>\n",
       "      <td>22.1</td>\n",
       "      <td>27.0</td>\n",
       "      <td>26.4</td>\n",
       "    </tr>\n",
       "  </tbody>\n",
       "</table>\n",
       "</div>"
      ],
      "text/plain": [
       "    Level    CS  Kill  Death  Assist  wardPlaced  visionwardPlaced  \\\n",
       "me   46.7  37.2  30.1   54.5    25.0        39.8              12.2   \n",
       "\n",
       "    wardkilled  Gold  Damage  \n",
       "me        22.1  27.0    26.4  "
      ]
     },
     "execution_count": 146,
     "metadata": {},
     "output_type": "execute_result"
    }
   ],
   "source": [
    "# 이상치 제거 후 내가 상위 몇퍼인가 결과\n",
    "my_rank_data"
   ]
  },
  {
   "cell_type": "code",
   "execution_count": null,
   "metadata": {
    "id": "l2NvojopOb2h"
   },
   "outputs": [],
   "source": []
  },
  {
   "cell_type": "code",
   "execution_count": null,
   "metadata": {
    "id": "DiCNLgUVOb2i"
   },
   "outputs": [],
   "source": []
  },
  {
   "cell_type": "code",
   "execution_count": null,
   "metadata": {
    "id": "T7NYjbBGOb2i"
   },
   "outputs": [],
   "source": []
  },
  {
   "cell_type": "code",
   "execution_count": null,
   "metadata": {
    "id": "pFrmnj0AOb2i"
   },
   "outputs": [],
   "source": []
  },
  {
   "cell_type": "code",
   "execution_count": null,
   "metadata": {
    "id": "OxmIN5rMOb2i"
   },
   "outputs": [],
   "source": []
  },
  {
   "cell_type": "code",
   "execution_count": null,
   "metadata": {
    "id": "CVhTu12SOb2j"
   },
   "outputs": [],
   "source": []
  },
  {
   "cell_type": "code",
   "execution_count": null,
   "metadata": {
    "id": "tHMuoP6aOb2j"
   },
   "outputs": [],
   "source": []
  },
  {
   "cell_type": "code",
   "execution_count": null,
   "metadata": {
    "id": "1vC2gcoBOb2j"
   },
   "outputs": [],
   "source": [
    "########################################################################################################"
   ]
  }
 ],
 "metadata": {
  "colab": {
   "name": "opgg9.ipynb",
   "provenance": []
  },
  "kernelspec": {
   "display_name": "Python 3 (ipykernel)",
   "language": "python",
   "name": "python3"
  },
  "language_info": {
   "codemirror_mode": {
    "name": "ipython",
    "version": 3
   },
   "file_extension": ".py",
   "mimetype": "text/x-python",
   "name": "python",
   "nbconvert_exporter": "python",
   "pygments_lexer": "ipython3",
   "version": "3.8.11"
  }
 },
 "nbformat": 4,
 "nbformat_minor": 1
}
