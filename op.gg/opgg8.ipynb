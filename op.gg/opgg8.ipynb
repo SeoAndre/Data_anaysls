{
 "cells": [
  {
   "cell_type": "code",
   "execution_count": 1,
   "metadata": {
    "executionInfo": {
     "elapsed": 394,
     "status": "ok",
     "timestamp": 1638436324243,
     "user": {
      "displayName": "정현준",
      "photoUrl": "https://lh3.googleusercontent.com/a-/AOh14GjblSrmpHoQbtrPVJi5oCCrPNEqYZxMhuA8MFP_sw=s64",
      "userId": "17851274337180756350"
     },
     "user_tz": -540
    },
    "id": "CazjlXg72oJ2"
   },
   "outputs": [],
   "source": [
    "import requests\n",
    "import time\n",
    "import pandas as pd\n",
    "import numpy as np\n",
    "import matplotlib.pyplot as plt\n",
    "import seaborn as sns\n",
    "from scipy.stats import norm\n",
    "import math\n",
    "from bs4 import BeautifulSoup\n",
    "from selenium import webdriver\n",
    "from selenium.webdriver.support.ui import Select"
   ]
  },
  {
   "cell_type": "code",
   "execution_count": 19,
   "metadata": {
    "colab": {
     "base_uri": "https://localhost:8080/"
    },
    "executionInfo": {
     "elapsed": 3,
     "status": "ok",
     "timestamp": 1638433558900,
     "user": {
      "displayName": "정현준",
      "photoUrl": "https://lh3.googleusercontent.com/a-/AOh14GjblSrmpHoQbtrPVJi5oCCrPNEqYZxMhuA8MFP_sw=s64",
      "userId": "17851274337180756350"
     },
     "user_tz": -540
    },
    "id": "abVi65Ps3hsJ",
    "outputId": "22c38e9e-53c9-42df-a796-d4d2dc586bc5"
   },
   "outputs": [
    {
     "name": "stdout",
     "output_type": "stream",
     "text": [
      "Drive already mounted at ./mount; to attempt to forcibly remount, call drive.mount(\"./mount\", force_remount=True).\n"
     ]
    }
   ],
   "source": [
    "#from google.colab import drive\n",
    "#drive.mount('./mount')"
   ]
  },
  {
   "cell_type": "code",
   "execution_count": 147,
   "metadata": {
    "executionInfo": {
     "elapsed": 4511,
     "status": "ok",
     "timestamp": 1638441410141,
     "user": {
      "displayName": "정현준",
      "photoUrl": "https://lh3.googleusercontent.com/a-/AOh14GjblSrmpHoQbtrPVJi5oCCrPNEqYZxMhuA8MFP_sw=s64",
      "userId": "17851274337180756350"
     },
     "user_tz": -540
    },
    "id": "6I1CV1S93iDu"
   },
   "outputs": [],
   "source": [
    "#data = pd.read_csv('mount/My Drive/esport/6+7/BIPA_data.csv',index_col = 0)\n",
    "#champStat = pd.read_csv('mount/MyDrive/esport/6+7/champ_stats.csv',index_col=0)\n",
    "\n",
    "data = pd.read_csv('C:/Users/Brena-29/Desktop/BIPA_data.csv',index_col = 0)\n",
    "champStat = pd.read_csv('C:/Users/Brena-29/Desktop/champ_stats.csv',index_col=0)"
   ]
  },
  {
   "cell_type": "code",
   "execution_count": 148,
   "metadata": {
    "id": "2MuGyXgztXgC"
   },
   "outputs": [
    {
     "data": {
      "text/plain": [
       "1000000"
      ]
     },
     "execution_count": 148,
     "metadata": {},
     "output_type": "execute_result"
    }
   ],
   "source": [
    "data.shape[0]"
   ]
  },
  {
   "cell_type": "code",
   "execution_count": 151,
   "metadata": {},
   "outputs": [
    {
     "data": {
      "text/plain": [
       "Index(['gameId', 'createDate', 'tierRank', 'position', 'teamId', 'summonerId',\n",
       "       'championId', 'result', 'level', 'championsKilled', 'numDeaths',\n",
       "       'assists', 'neutralMinionsKilled', 'turretsKilled', 'barracksKilled',\n",
       "       'minionsKilled', 'goldEarned', 'physicalDamageDealtToChampions',\n",
       "       'magicDamageDealtPlayer', 'physicalDamageTaken',\n",
       "       'sightWardsBoughtInGame', 'visionWardsBoughtInGame', 'wardKilled',\n",
       "       'wardPlaced', 'totalHeal', 'totalDamageDealtToChampions',\n",
       "       'totalDamageDealt', 'totalDamageTaken',\n",
       "       'neutralMinionsKilledEnemyJungle', 'neutralMinionsKilledTeamJungle',\n",
       "       'visionScore', 'damageSelfMitigated', 'damageDealtToObjectives',\n",
       "       'damageDealtToTurrets', 'lane', 'gameLength', 'version'],\n",
       "      dtype='object')"
      ]
     },
     "execution_count": 151,
     "metadata": {},
     "output_type": "execute_result"
    }
   ],
   "source": [
    "data.columns"
   ]
  },
  {
   "cell_type": "code",
   "execution_count": null,
   "metadata": {},
   "outputs": [],
   "source": []
  },
  {
   "cell_type": "code",
   "execution_count": 155,
   "metadata": {},
   "outputs": [
    {
     "name": "stdout",
     "output_type": "stream",
     "text": [
      "200000\n",
      "200000\n",
      "200000\n",
      "200000\n",
      "200000\n"
     ]
    }
   ],
   "source": [
    "for i in data['position'].unique():\n",
    "    print(len(data[data['position']==i]))"
   ]
  },
  {
   "cell_type": "code",
   "execution_count": null,
   "metadata": {},
   "outputs": [],
   "source": []
  },
  {
   "cell_type": "code",
   "execution_count": 4,
   "metadata": {
    "executionInfo": {
     "elapsed": 423,
     "status": "ok",
     "timestamp": 1638441415798,
     "user": {
      "displayName": "정현준",
      "photoUrl": "https://lh3.googleusercontent.com/a-/AOh14GjblSrmpHoQbtrPVJi5oCCrPNEqYZxMhuA8MFP_sw=s64",
      "userId": "17851274337180756350"
     },
     "user_tz": -540
    },
    "id": "apY-_Dk1iGqq"
   },
   "outputs": [],
   "source": [
    "tierPoint = {'I':0 , 'B':400, 'S':800, 'G':1200, 'P':1600, 'D':2000, 'M':2400, 'R':2800, 'C':3200}\n",
    "inv_tierPoint = {0:'I',  1:'B', 2:'S', 3:'G', 4:'P', 5:'D', 6:'M', 7:'R', 8:'C'}"
   ]
  },
  {
   "cell_type": "code",
   "execution_count": 5,
   "metadata": {
    "executionInfo": {
     "elapsed": 2,
     "status": "ok",
     "timestamp": 1638441416344,
     "user": {
      "displayName": "정현준",
      "photoUrl": "https://lh3.googleusercontent.com/a-/AOh14GjblSrmpHoQbtrPVJi5oCCrPNEqYZxMhuA8MFP_sw=s64",
      "userId": "17851274337180756350"
     },
     "user_tz": -540
    },
    "id": "QevThse5byAS"
   },
   "outputs": [],
   "source": [
    "def get_meanTier(gameId):\n",
    "    \n",
    "    summonerRank = data[data['gameId']==gameId]['tierRank']\n",
    "    cnt = 0\n",
    "    pointSum = 0\n",
    "    \n",
    "    for tier in summonerRank:\n",
    "        try:\n",
    "            pointSum += tierPoint[tier[0]]\n",
    "            pointSum += (4-int(tier[1]))*100\n",
    "            cnt += 1\n",
    "        except:\n",
    "            pass\n",
    "    \n",
    "    if cnt == 0:\n",
    "        return \"0000\"\n",
    "        \n",
    "    pointSum /= cnt\n",
    "    tier = inv_tierPoint[int(pointSum/400)]\n",
    "    division = math.ceil((400-pointSum%400)/100)\n",
    "    temp = tier + str(division)\n",
    "\n",
    "    return temp"
   ]
  },
  {
   "cell_type": "code",
   "execution_count": 75,
   "metadata": {
    "executionInfo": {
     "elapsed": 2,
     "status": "ok",
     "timestamp": 1638441416344,
     "user": {
      "displayName": "정현준",
      "photoUrl": "https://lh3.googleusercontent.com/a-/AOh14GjblSrmpHoQbtrPVJi5oCCrPNEqYZxMhuA8MFP_sw=s64",
      "userId": "17851274337180756350"
     },
     "user_tz": -540
    },
    "id": "9TFTN0n9cLhW"
   },
   "outputs": [],
   "source": [
    "nanTierList_idx = data[data['tierRank'].isnull()].index"
   ]
  },
  {
   "cell_type": "code",
   "execution_count": 76,
   "metadata": {
    "executionInfo": {
     "elapsed": 54891,
     "status": "ok",
     "timestamp": 1638441471233,
     "user": {
      "displayName": "정현준",
      "photoUrl": "https://lh3.googleusercontent.com/a-/AOh14GjblSrmpHoQbtrPVJi5oCCrPNEqYZxMhuA8MFP_sw=s64",
      "userId": "17851274337180756350"
     },
     "user_tz": -540
    },
    "id": "GSPmti9KeE5l"
   },
   "outputs": [],
   "source": [
    "for idx in nanTierList_idx:\n",
    "    data.at[idx, 'tierRank'] = get_meanTier(data.iloc[idx]['gameId'])"
   ]
  },
  {
   "cell_type": "code",
   "execution_count": 77,
   "metadata": {
    "colab": {
     "base_uri": "https://localhost:8080/",
     "height": 268
    },
    "executionInfo": {
     "elapsed": 1484,
     "status": "ok",
     "timestamp": 1638441472710,
     "user": {
      "displayName": "정현준",
      "photoUrl": "https://lh3.googleusercontent.com/a-/AOh14GjblSrmpHoQbtrPVJi5oCCrPNEqYZxMhuA8MFP_sw=s64",
      "userId": "17851274337180756350"
     },
     "user_tz": -540
    },
    "id": "JUz_7fbzkRH-",
    "outputId": "f75db47b-d5d1-4126-f00d-ac9345aa0b94"
   },
   "outputs": [
    {
     "data": {
      "text/html": [
       "<div>\n",
       "<style scoped>\n",
       "    .dataframe tbody tr th:only-of-type {\n",
       "        vertical-align: middle;\n",
       "    }\n",
       "\n",
       "    .dataframe tbody tr th {\n",
       "        vertical-align: top;\n",
       "    }\n",
       "\n",
       "    .dataframe thead th {\n",
       "        text-align: right;\n",
       "    }\n",
       "</style>\n",
       "<table border=\"1\" class=\"dataframe\">\n",
       "  <thead>\n",
       "    <tr style=\"text-align: right;\">\n",
       "      <th></th>\n",
       "      <th>gameId</th>\n",
       "      <th>createDate</th>\n",
       "      <th>position</th>\n",
       "      <th>teamId</th>\n",
       "      <th>summonerId</th>\n",
       "      <th>championId</th>\n",
       "      <th>result</th>\n",
       "      <th>level</th>\n",
       "      <th>championsKilled</th>\n",
       "      <th>numDeaths</th>\n",
       "      <th>...</th>\n",
       "      <th>neutralMinionsKilledTeamJungle</th>\n",
       "      <th>visionScore</th>\n",
       "      <th>damageSelfMitigated</th>\n",
       "      <th>damageDealtToObjectives</th>\n",
       "      <th>damageDealtToTurrets</th>\n",
       "      <th>lane</th>\n",
       "      <th>gameLength</th>\n",
       "      <th>version</th>\n",
       "      <th>tier</th>\n",
       "      <th>division</th>\n",
       "    </tr>\n",
       "  </thead>\n",
       "  <tbody>\n",
       "    <tr>\n",
       "      <th>0</th>\n",
       "      <td>5383880006</td>\n",
       "      <td>2021-08-11 06:59:31</td>\n",
       "      <td>S</td>\n",
       "      <td>200</td>\n",
       "      <td>3210877</td>\n",
       "      <td>99</td>\n",
       "      <td>WIN</td>\n",
       "      <td>10</td>\n",
       "      <td>4</td>\n",
       "      <td>1</td>\n",
       "      <td>...</td>\n",
       "      <td>0</td>\n",
       "      <td>11</td>\n",
       "      <td>2830</td>\n",
       "      <td>2181</td>\n",
       "      <td>2181</td>\n",
       "      <td>NONE</td>\n",
       "      <td>972</td>\n",
       "      <td>11.16.390.1945</td>\n",
       "      <td>P</td>\n",
       "      <td>3</td>\n",
       "    </tr>\n",
       "    <tr>\n",
       "      <th>1</th>\n",
       "      <td>5383880006</td>\n",
       "      <td>2021-08-11 06:59:31</td>\n",
       "      <td>S</td>\n",
       "      <td>100</td>\n",
       "      <td>7550211</td>\n",
       "      <td>35</td>\n",
       "      <td>LOSE</td>\n",
       "      <td>8</td>\n",
       "      <td>1</td>\n",
       "      <td>3</td>\n",
       "      <td>...</td>\n",
       "      <td>2</td>\n",
       "      <td>24</td>\n",
       "      <td>2013</td>\n",
       "      <td>0</td>\n",
       "      <td>0</td>\n",
       "      <td>NONE</td>\n",
       "      <td>972</td>\n",
       "      <td>11.16.390.1945</td>\n",
       "      <td>P</td>\n",
       "      <td>4</td>\n",
       "    </tr>\n",
       "    <tr>\n",
       "      <th>2</th>\n",
       "      <td>5383880006</td>\n",
       "      <td>2021-08-11 06:59:31</td>\n",
       "      <td>M</td>\n",
       "      <td>200</td>\n",
       "      <td>9306696</td>\n",
       "      <td>266</td>\n",
       "      <td>WIN</td>\n",
       "      <td>11</td>\n",
       "      <td>5</td>\n",
       "      <td>1</td>\n",
       "      <td>...</td>\n",
       "      <td>0</td>\n",
       "      <td>15</td>\n",
       "      <td>6158</td>\n",
       "      <td>585</td>\n",
       "      <td>585</td>\n",
       "      <td>NONE</td>\n",
       "      <td>972</td>\n",
       "      <td>11.16.390.1945</td>\n",
       "      <td>P</td>\n",
       "      <td>3</td>\n",
       "    </tr>\n",
       "  </tbody>\n",
       "</table>\n",
       "<p>3 rows × 38 columns</p>\n",
       "</div>"
      ],
      "text/plain": [
       "       gameId           createDate position  teamId  summonerId  championId  \\\n",
       "0  5383880006  2021-08-11 06:59:31        S     200     3210877          99   \n",
       "1  5383880006  2021-08-11 06:59:31        S     100     7550211          35   \n",
       "2  5383880006  2021-08-11 06:59:31        M     200     9306696         266   \n",
       "\n",
       "  result  level  championsKilled  numDeaths  ...  \\\n",
       "0    WIN     10                4          1  ...   \n",
       "1   LOSE      8                1          3  ...   \n",
       "2    WIN     11                5          1  ...   \n",
       "\n",
       "   neutralMinionsKilledTeamJungle  visionScore  damageSelfMitigated  \\\n",
       "0                               0           11                 2830   \n",
       "1                               2           24                 2013   \n",
       "2                               0           15                 6158   \n",
       "\n",
       "   damageDealtToObjectives  damageDealtToTurrets  lane  gameLength  \\\n",
       "0                     2181                  2181  NONE         972   \n",
       "1                        0                     0  NONE         972   \n",
       "2                      585                   585  NONE         972   \n",
       "\n",
       "          version  tier  division  \n",
       "0  11.16.390.1945     P         3  \n",
       "1  11.16.390.1945     P         4  \n",
       "2  11.16.390.1945     P         3  \n",
       "\n",
       "[3 rows x 38 columns]"
      ]
     },
     "execution_count": 77,
     "metadata": {},
     "output_type": "execute_result"
    }
   ],
   "source": [
    "data['tier'] = data['tierRank'].str[0]\n",
    "data['division'] = data['tierRank'].str[1]\n",
    "data = data.drop(['tierRank'], axis=1)\n",
    "data.head(3)"
   ]
  },
  {
   "cell_type": "code",
   "execution_count": 78,
   "metadata": {
    "colab": {
     "base_uri": "https://localhost:8080/",
     "height": 143
    },
    "executionInfo": {
     "elapsed": 10,
     "status": "ok",
     "timestamp": 1638441472710,
     "user": {
      "displayName": "정현준",
      "photoUrl": "https://lh3.googleusercontent.com/a-/AOh14GjblSrmpHoQbtrPVJi5oCCrPNEqYZxMhuA8MFP_sw=s64",
      "userId": "17851274337180756350"
     },
     "user_tz": -540
    },
    "id": "zYSQYyBJSayP",
    "outputId": "5c29c85d-b669-409b-f6ac-ba50d4894212"
   },
   "outputs": [
    {
     "data": {
      "text/html": [
       "<div>\n",
       "<style scoped>\n",
       "    .dataframe tbody tr th:only-of-type {\n",
       "        vertical-align: middle;\n",
       "    }\n",
       "\n",
       "    .dataframe tbody tr th {\n",
       "        vertical-align: top;\n",
       "    }\n",
       "\n",
       "    .dataframe thead th {\n",
       "        text-align: right;\n",
       "    }\n",
       "</style>\n",
       "<table border=\"1\" class=\"dataframe\">\n",
       "  <thead>\n",
       "    <tr style=\"text-align: right;\">\n",
       "      <th></th>\n",
       "      <th>tier</th>\n",
       "      <th>division</th>\n",
       "      <th>position</th>\n",
       "      <th>level</th>\n",
       "      <th>minionsKilled</th>\n",
       "      <th>championsKilled</th>\n",
       "      <th>numDeaths</th>\n",
       "      <th>assists</th>\n",
       "      <th>wardPlaced</th>\n",
       "      <th>visionWardsBoughtInGame</th>\n",
       "      <th>wardKilled</th>\n",
       "      <th>goldEarned</th>\n",
       "      <th>totalDamageDealtToChampions</th>\n",
       "      <th>gameLength</th>\n",
       "    </tr>\n",
       "  </thead>\n",
       "  <tbody>\n",
       "    <tr>\n",
       "      <th>0</th>\n",
       "      <td>P</td>\n",
       "      <td>3</td>\n",
       "      <td>S</td>\n",
       "      <td>10</td>\n",
       "      <td>15</td>\n",
       "      <td>4</td>\n",
       "      <td>1</td>\n",
       "      <td>5</td>\n",
       "      <td>5</td>\n",
       "      <td>1</td>\n",
       "      <td>1</td>\n",
       "      <td>6083</td>\n",
       "      <td>5590</td>\n",
       "      <td>972</td>\n",
       "    </tr>\n",
       "    <tr>\n",
       "      <th>1</th>\n",
       "      <td>P</td>\n",
       "      <td>4</td>\n",
       "      <td>S</td>\n",
       "      <td>8</td>\n",
       "      <td>7</td>\n",
       "      <td>1</td>\n",
       "      <td>3</td>\n",
       "      <td>3</td>\n",
       "      <td>6</td>\n",
       "      <td>3</td>\n",
       "      <td>3</td>\n",
       "      <td>4118</td>\n",
       "      <td>3827</td>\n",
       "      <td>972</td>\n",
       "    </tr>\n",
       "    <tr>\n",
       "      <th>2</th>\n",
       "      <td>P</td>\n",
       "      <td>3</td>\n",
       "      <td>M</td>\n",
       "      <td>11</td>\n",
       "      <td>100</td>\n",
       "      <td>5</td>\n",
       "      <td>1</td>\n",
       "      <td>5</td>\n",
       "      <td>7</td>\n",
       "      <td>4</td>\n",
       "      <td>5</td>\n",
       "      <td>6769</td>\n",
       "      <td>9467</td>\n",
       "      <td>972</td>\n",
       "    </tr>\n",
       "  </tbody>\n",
       "</table>\n",
       "</div>"
      ],
      "text/plain": [
       "  tier division position  level  minionsKilled  championsKilled  numDeaths  \\\n",
       "0    P        3        S     10             15                4          1   \n",
       "1    P        4        S      8              7                1          3   \n",
       "2    P        3        M     11            100                5          1   \n",
       "\n",
       "   assists  wardPlaced  visionWardsBoughtInGame  wardKilled  goldEarned  \\\n",
       "0        5           5                        1           1        6083   \n",
       "1        3           6                        3           3        4118   \n",
       "2        5           7                        4           5        6769   \n",
       "\n",
       "   totalDamageDealtToChampions  gameLength  \n",
       "0                         5590         972  \n",
       "1                         3827         972  \n",
       "2                         9467         972  "
      ]
     },
     "execution_count": 78,
     "metadata": {},
     "output_type": "execute_result"
    }
   ],
   "source": [
    "data = data[['tier', 'division', 'position', 'level', 'minionsKilled', 'championsKilled', 'numDeaths', 'assists', 'wardPlaced', 'visionWardsBoughtInGame', 'wardKilled', 'goldEarned', 'totalDamageDealtToChampions', 'gameLength']]\n",
    "data.head(3)"
   ]
  },
  {
   "cell_type": "code",
   "execution_count": 79,
   "metadata": {
    "colab": {
     "base_uri": "https://localhost:8080/"
    },
    "executionInfo": {
     "elapsed": 10,
     "status": "ok",
     "timestamp": 1638441472711,
     "user": {
      "displayName": "정현준",
      "photoUrl": "https://lh3.googleusercontent.com/a-/AOh14GjblSrmpHoQbtrPVJi5oCCrPNEqYZxMhuA8MFP_sw=s64",
      "userId": "17851274337180756350"
     },
     "user_tz": -540
    },
    "id": "_hXbV29FnKd6",
    "outputId": "98ea8dee-dfe8-4a78-b4b9-aa7d35a2526c"
   },
   "outputs": [
    {
     "data": {
      "text/plain": [
       "1000000"
      ]
     },
     "execution_count": 79,
     "metadata": {},
     "output_type": "execute_result"
    }
   ],
   "source": [
    "data.shape[0]"
   ]
  },
  {
   "cell_type": "code",
   "execution_count": 80,
   "metadata": {
    "colab": {
     "base_uri": "https://localhost:8080/"
    },
    "executionInfo": {
     "elapsed": 8,
     "status": "ok",
     "timestamp": 1638441472711,
     "user": {
      "displayName": "정현준",
      "photoUrl": "https://lh3.googleusercontent.com/a-/AOh14GjblSrmpHoQbtrPVJi5oCCrPNEqYZxMhuA8MFP_sw=s64",
      "userId": "17851274337180756350"
     },
     "user_tz": -540
    },
    "id": "V7w889y4nh2A",
    "outputId": "563d6787-09be-4859-f74a-04c67e68517e"
   },
   "outputs": [
    {
     "name": "stdout",
     "output_type": "stream",
     "text": [
      "1960\n"
     ]
    }
   ],
   "source": [
    "print(data[data['tier']=='0'].shape[0])\n",
    "nanidx = data[data['tier']=='0'].index"
   ]
  },
  {
   "cell_type": "code",
   "execution_count": 81,
   "metadata": {
    "executionInfo": {
     "elapsed": 7,
     "status": "ok",
     "timestamp": 1638441472711,
     "user": {
      "displayName": "정현준",
      "photoUrl": "https://lh3.googleusercontent.com/a-/AOh14GjblSrmpHoQbtrPVJi5oCCrPNEqYZxMhuA8MFP_sw=s64",
      "userId": "17851274337180756350"
     },
     "user_tz": -540
    },
    "id": "peAm_3yikRKQ"
   },
   "outputs": [],
   "source": [
    "data = data.drop(nanidx)"
   ]
  },
  {
   "cell_type": "code",
   "execution_count": 82,
   "metadata": {
    "colab": {
     "base_uri": "https://localhost:8080/"
    },
    "executionInfo": {
     "elapsed": 7,
     "status": "ok",
     "timestamp": 1638441472712,
     "user": {
      "displayName": "정현준",
      "photoUrl": "https://lh3.googleusercontent.com/a-/AOh14GjblSrmpHoQbtrPVJi5oCCrPNEqYZxMhuA8MFP_sw=s64",
      "userId": "17851274337180756350"
     },
     "user_tz": -540
    },
    "id": "OLesYA3pegKN",
    "outputId": "1bf98ae7-ab99-468a-f0d2-7e2f6d2d857b"
   },
   "outputs": [
    {
     "data": {
      "text/plain": [
       "998040"
      ]
     },
     "execution_count": 82,
     "metadata": {},
     "output_type": "execute_result"
    }
   ],
   "source": [
    "data.shape[0]"
   ]
  },
  {
   "cell_type": "code",
   "execution_count": 83,
   "metadata": {
    "colab": {
     "base_uri": "https://localhost:8080/",
     "height": 143
    },
    "executionInfo": {
     "elapsed": 6,
     "status": "ok",
     "timestamp": 1638441472712,
     "user": {
      "displayName": "정현준",
      "photoUrl": "https://lh3.googleusercontent.com/a-/AOh14GjblSrmpHoQbtrPVJi5oCCrPNEqYZxMhuA8MFP_sw=s64",
      "userId": "17851274337180756350"
     },
     "user_tz": -540
    },
    "id": "zbkXhHduoZxB",
    "outputId": "c3f7f289-895c-4696-994a-1b2bb66d7af6"
   },
   "outputs": [
    {
     "data": {
      "text/html": [
       "<div>\n",
       "<style scoped>\n",
       "    .dataframe tbody tr th:only-of-type {\n",
       "        vertical-align: middle;\n",
       "    }\n",
       "\n",
       "    .dataframe tbody tr th {\n",
       "        vertical-align: top;\n",
       "    }\n",
       "\n",
       "    .dataframe thead th {\n",
       "        text-align: right;\n",
       "    }\n",
       "</style>\n",
       "<table border=\"1\" class=\"dataframe\">\n",
       "  <thead>\n",
       "    <tr style=\"text-align: right;\">\n",
       "      <th></th>\n",
       "      <th>tier</th>\n",
       "      <th>division</th>\n",
       "      <th>position</th>\n",
       "      <th>level</th>\n",
       "      <th>minionsKilled</th>\n",
       "      <th>championsKilled</th>\n",
       "      <th>numDeaths</th>\n",
       "      <th>assists</th>\n",
       "      <th>wardPlaced</th>\n",
       "      <th>visionWardsBoughtInGame</th>\n",
       "      <th>wardKilled</th>\n",
       "      <th>goldEarned</th>\n",
       "      <th>totalDamageDealtToChampions</th>\n",
       "      <th>gameLength</th>\n",
       "    </tr>\n",
       "  </thead>\n",
       "  <tbody>\n",
       "    <tr>\n",
       "      <th>0</th>\n",
       "      <td>P</td>\n",
       "      <td>3</td>\n",
       "      <td>S</td>\n",
       "      <td>10</td>\n",
       "      <td>15</td>\n",
       "      <td>4</td>\n",
       "      <td>1</td>\n",
       "      <td>5</td>\n",
       "      <td>5</td>\n",
       "      <td>1</td>\n",
       "      <td>1</td>\n",
       "      <td>6083</td>\n",
       "      <td>5590</td>\n",
       "      <td>972</td>\n",
       "    </tr>\n",
       "    <tr>\n",
       "      <th>1</th>\n",
       "      <td>P</td>\n",
       "      <td>4</td>\n",
       "      <td>S</td>\n",
       "      <td>8</td>\n",
       "      <td>7</td>\n",
       "      <td>1</td>\n",
       "      <td>3</td>\n",
       "      <td>3</td>\n",
       "      <td>6</td>\n",
       "      <td>3</td>\n",
       "      <td>3</td>\n",
       "      <td>4118</td>\n",
       "      <td>3827</td>\n",
       "      <td>972</td>\n",
       "    </tr>\n",
       "    <tr>\n",
       "      <th>2</th>\n",
       "      <td>P</td>\n",
       "      <td>3</td>\n",
       "      <td>M</td>\n",
       "      <td>11</td>\n",
       "      <td>100</td>\n",
       "      <td>5</td>\n",
       "      <td>1</td>\n",
       "      <td>5</td>\n",
       "      <td>7</td>\n",
       "      <td>4</td>\n",
       "      <td>5</td>\n",
       "      <td>6769</td>\n",
       "      <td>9467</td>\n",
       "      <td>972</td>\n",
       "    </tr>\n",
       "  </tbody>\n",
       "</table>\n",
       "</div>"
      ],
      "text/plain": [
       "  tier division position  level  minionsKilled  championsKilled  numDeaths  \\\n",
       "0    P        3        S     10             15                4          1   \n",
       "1    P        4        S      8              7                1          3   \n",
       "2    P        3        M     11            100                5          1   \n",
       "\n",
       "   assists  wardPlaced  visionWardsBoughtInGame  wardKilled  goldEarned  \\\n",
       "0        5           5                        1           1        6083   \n",
       "1        3           6                        3           3        4118   \n",
       "2        5           7                        4           5        6769   \n",
       "\n",
       "   totalDamageDealtToChampions  gameLength  \n",
       "0                         5590         972  \n",
       "1                         3827         972  \n",
       "2                         9467         972  "
      ]
     },
     "execution_count": 83,
     "metadata": {},
     "output_type": "execute_result"
    }
   ],
   "source": [
    "data.head(3)"
   ]
  },
  {
   "cell_type": "code",
   "execution_count": null,
   "metadata": {},
   "outputs": [],
   "source": [
    "################################################################"
   ]
  },
  {
   "cell_type": "code",
   "execution_count": 65,
   "metadata": {},
   "outputs": [
    {
     "data": {
      "text/plain": [
       "998040"
      ]
     },
     "execution_count": 65,
     "metadata": {},
     "output_type": "execute_result"
    }
   ],
   "source": [
    "data.shape[0]"
   ]
  },
  {
   "cell_type": "code",
   "execution_count": 90,
   "metadata": {},
   "outputs": [],
   "source": [
    "data = data[data['gameLength'] >= 600]"
   ]
  },
  {
   "cell_type": "code",
   "execution_count": 91,
   "metadata": {},
   "outputs": [
    {
     "data": {
      "text/plain": [
       "983960"
      ]
     },
     "execution_count": 91,
     "metadata": {},
     "output_type": "execute_result"
    }
   ],
   "source": [
    "data.shape[0]"
   ]
  },
  {
   "cell_type": "code",
   "execution_count": 92,
   "metadata": {},
   "outputs": [
    {
     "data": {
      "text/html": [
       "<div>\n",
       "<style scoped>\n",
       "    .dataframe tbody tr th:only-of-type {\n",
       "        vertical-align: middle;\n",
       "    }\n",
       "\n",
       "    .dataframe tbody tr th {\n",
       "        vertical-align: top;\n",
       "    }\n",
       "\n",
       "    .dataframe thead th {\n",
       "        text-align: right;\n",
       "    }\n",
       "</style>\n",
       "<table border=\"1\" class=\"dataframe\">\n",
       "  <thead>\n",
       "    <tr style=\"text-align: right;\">\n",
       "      <th></th>\n",
       "      <th>tier</th>\n",
       "      <th>division</th>\n",
       "      <th>position</th>\n",
       "      <th>level</th>\n",
       "      <th>minionsKilled</th>\n",
       "      <th>championsKilled</th>\n",
       "      <th>numDeaths</th>\n",
       "      <th>assists</th>\n",
       "      <th>wardPlaced</th>\n",
       "      <th>visionWardsBoughtInGame</th>\n",
       "      <th>wardKilled</th>\n",
       "      <th>goldEarned</th>\n",
       "      <th>totalDamageDealtToChampions</th>\n",
       "      <th>gameLength</th>\n",
       "    </tr>\n",
       "  </thead>\n",
       "  <tbody>\n",
       "    <tr>\n",
       "      <th>0</th>\n",
       "      <td>P</td>\n",
       "      <td>3</td>\n",
       "      <td>S</td>\n",
       "      <td>10</td>\n",
       "      <td>15</td>\n",
       "      <td>4</td>\n",
       "      <td>1</td>\n",
       "      <td>5</td>\n",
       "      <td>5</td>\n",
       "      <td>1</td>\n",
       "      <td>1</td>\n",
       "      <td>6083</td>\n",
       "      <td>5590</td>\n",
       "      <td>972</td>\n",
       "    </tr>\n",
       "    <tr>\n",
       "      <th>1</th>\n",
       "      <td>P</td>\n",
       "      <td>4</td>\n",
       "      <td>S</td>\n",
       "      <td>8</td>\n",
       "      <td>7</td>\n",
       "      <td>1</td>\n",
       "      <td>3</td>\n",
       "      <td>3</td>\n",
       "      <td>6</td>\n",
       "      <td>3</td>\n",
       "      <td>3</td>\n",
       "      <td>4118</td>\n",
       "      <td>3827</td>\n",
       "      <td>972</td>\n",
       "    </tr>\n",
       "    <tr>\n",
       "      <th>2</th>\n",
       "      <td>P</td>\n",
       "      <td>3</td>\n",
       "      <td>M</td>\n",
       "      <td>11</td>\n",
       "      <td>100</td>\n",
       "      <td>5</td>\n",
       "      <td>1</td>\n",
       "      <td>5</td>\n",
       "      <td>7</td>\n",
       "      <td>4</td>\n",
       "      <td>5</td>\n",
       "      <td>6769</td>\n",
       "      <td>9467</td>\n",
       "      <td>972</td>\n",
       "    </tr>\n",
       "  </tbody>\n",
       "</table>\n",
       "</div>"
      ],
      "text/plain": [
       "  tier division position  level  minionsKilled  championsKilled  numDeaths  \\\n",
       "0    P        3        S     10             15                4          1   \n",
       "1    P        4        S      8              7                1          3   \n",
       "2    P        3        M     11            100                5          1   \n",
       "\n",
       "   assists  wardPlaced  visionWardsBoughtInGame  wardKilled  goldEarned  \\\n",
       "0        5           5                        1           1        6083   \n",
       "1        3           6                        3           3        4118   \n",
       "2        5           7                        4           5        6769   \n",
       "\n",
       "   totalDamageDealtToChampions  gameLength  \n",
       "0                         5590         972  \n",
       "1                         3827         972  \n",
       "2                         9467         972  "
      ]
     },
     "execution_count": 92,
     "metadata": {},
     "output_type": "execute_result"
    }
   ],
   "source": [
    "data.head(3)"
   ]
  },
  {
   "cell_type": "code",
   "execution_count": null,
   "metadata": {},
   "outputs": [],
   "source": []
  },
  {
   "cell_type": "code",
   "execution_count": 93,
   "metadata": {},
   "outputs": [
    {
     "data": {
      "image/png": "[encoded data removed]",
      "text/plain": [
       "<Figure size 1152x1152 with 8 Axes>"
      ]
     },
     "metadata": {
      "needs_background": "light"
     },
     "output_type": "display_data"
    }
   ],
   "source": [
    "ind = 1\n",
    "plt.figure(figsize=(16,16))\n",
    "plt.subplots_adjust(bottom=0.001)\n",
    "\n",
    "for col in ['level', 'minionsKilled', 'championsKilled', 'numDeaths', 'assists', 'wardPlaced','visionWardsBoughtInGame', 'wardKilled']: \n",
    "    plt.subplot(6, 2, ind)\n",
    "    plt.title(col)\n",
    "    \n",
    "    d = data[col]\n",
    "    d_len = len(d.unique())\n",
    "    d_num = [0 for i in range(d_len+1)]\n",
    "\n",
    "    for i in range(d_len+1):\n",
    "      d_num[i]=len(d[d==i])\n",
    "\n",
    "    num = range(d_len+1)\n",
    "    plt.bar(num, d_num)\n",
    "    ind += 1"
   ]
  },
  {
   "cell_type": "code",
   "execution_count": 94,
   "metadata": {},
   "outputs": [
    {
     "data": {
      "text/plain": [
       "<BarContainer object of 22305 artists>"
      ]
     },
     "execution_count": 94,
     "metadata": {},
     "output_type": "execute_result"
    },
    {
     "data": {
      "image/png": "[encoded data removed]",
      "text/plain": [
       "<Figure size 1152x1152 with 1 Axes>"
      ]
     },
     "metadata": {
      "needs_background": "light"
     },
     "output_type": "display_data"
    }
   ],
   "source": [
    "plt.figure(figsize=(16,16))\n",
    "\n",
    "col = 'goldEarned'\n",
    "d = data[col]\n",
    "d_len = len(d.unique())\n",
    "d_num = [0 for i in range(d_len+1)]\n",
    "\n",
    "for i in range(d_len+1):\n",
    "  d_num[i]=len(d[d==i])\n",
    "\n",
    "num = range(d_len+1)\n",
    "plt.bar(num, d_num)"
   ]
  },
  {
   "cell_type": "code",
   "execution_count": 95,
   "metadata": {},
   "outputs": [],
   "source": [
    "# 위에 그래프들을 통해서 --> 이상치 제거 기준을 세울 수 있다\n",
    "# level : 하위 0.3퍼 제거\n",
    "# 'minionsKilled', 'championsKilled', 'numDeaths', 'assists', 'wardPlaced','visionWardsBoughtInGame', 'wardKilled' : 상위 0.3퍼 제거\n",
    "# 'goldEarned', 'totalDamageDealtToChampions', 'gameLength' : 하위, 상위 0.3퍼 제거"
   ]
  },
  {
   "cell_type": "code",
   "execution_count": 96,
   "metadata": {},
   "outputs": [
    {
     "name": "stderr",
     "output_type": "stream",
     "text": [
      "C:\\Users\\Brena-29\\AppData\\Local\\Temp/ipykernel_11600/1059969200.py:11: UserWarning: Boolean Series key will be reindexed to match DataFrame index.\n",
      "  processed_data = processed_data[data[col] < maximum]\n"
     ]
    },
    {
     "data": {
      "text/html": [
       "<div>\n",
       "<style scoped>\n",
       "    .dataframe tbody tr th:only-of-type {\n",
       "        vertical-align: middle;\n",
       "    }\n",
       "\n",
       "    .dataframe tbody tr th {\n",
       "        vertical-align: top;\n",
       "    }\n",
       "\n",
       "    .dataframe thead th {\n",
       "        text-align: right;\n",
       "    }\n",
       "</style>\n",
       "<table border=\"1\" class=\"dataframe\">\n",
       "  <thead>\n",
       "    <tr style=\"text-align: right;\">\n",
       "      <th></th>\n",
       "      <th>tier</th>\n",
       "      <th>division</th>\n",
       "      <th>position</th>\n",
       "      <th>level</th>\n",
       "      <th>minionsKilled</th>\n",
       "      <th>championsKilled</th>\n",
       "      <th>numDeaths</th>\n",
       "      <th>assists</th>\n",
       "      <th>wardPlaced</th>\n",
       "      <th>visionWardsBoughtInGame</th>\n",
       "      <th>wardKilled</th>\n",
       "      <th>goldEarned</th>\n",
       "      <th>totalDamageDealtToChampions</th>\n",
       "      <th>gameLength</th>\n",
       "    </tr>\n",
       "  </thead>\n",
       "  <tbody>\n",
       "    <tr>\n",
       "      <th>0</th>\n",
       "      <td>P</td>\n",
       "      <td>3</td>\n",
       "      <td>S</td>\n",
       "      <td>10</td>\n",
       "      <td>15</td>\n",
       "      <td>4</td>\n",
       "      <td>1</td>\n",
       "      <td>5</td>\n",
       "      <td>5</td>\n",
       "      <td>1</td>\n",
       "      <td>1</td>\n",
       "      <td>6083</td>\n",
       "      <td>5590</td>\n",
       "      <td>972</td>\n",
       "    </tr>\n",
       "    <tr>\n",
       "      <th>1</th>\n",
       "      <td>P</td>\n",
       "      <td>4</td>\n",
       "      <td>S</td>\n",
       "      <td>8</td>\n",
       "      <td>7</td>\n",
       "      <td>1</td>\n",
       "      <td>3</td>\n",
       "      <td>3</td>\n",
       "      <td>6</td>\n",
       "      <td>3</td>\n",
       "      <td>3</td>\n",
       "      <td>4118</td>\n",
       "      <td>3827</td>\n",
       "      <td>972</td>\n",
       "    </tr>\n",
       "    <tr>\n",
       "      <th>2</th>\n",
       "      <td>P</td>\n",
       "      <td>3</td>\n",
       "      <td>M</td>\n",
       "      <td>11</td>\n",
       "      <td>100</td>\n",
       "      <td>5</td>\n",
       "      <td>1</td>\n",
       "      <td>5</td>\n",
       "      <td>7</td>\n",
       "      <td>4</td>\n",
       "      <td>5</td>\n",
       "      <td>6769</td>\n",
       "      <td>9467</td>\n",
       "      <td>972</td>\n",
       "    </tr>\n",
       "    <tr>\n",
       "      <th>3</th>\n",
       "      <td>P</td>\n",
       "      <td>4</td>\n",
       "      <td>T</td>\n",
       "      <td>11</td>\n",
       "      <td>115</td>\n",
       "      <td>8</td>\n",
       "      <td>2</td>\n",
       "      <td>1</td>\n",
       "      <td>5</td>\n",
       "      <td>1</td>\n",
       "      <td>0</td>\n",
       "      <td>7972</td>\n",
       "      <td>10963</td>\n",
       "      <td>972</td>\n",
       "    </tr>\n",
       "    <tr>\n",
       "      <th>4</th>\n",
       "      <td>P</td>\n",
       "      <td>3</td>\n",
       "      <td>A</td>\n",
       "      <td>10</td>\n",
       "      <td>110</td>\n",
       "      <td>3</td>\n",
       "      <td>2</td>\n",
       "      <td>9</td>\n",
       "      <td>5</td>\n",
       "      <td>1</td>\n",
       "      <td>2</td>\n",
       "      <td>7552</td>\n",
       "      <td>6465</td>\n",
       "      <td>972</td>\n",
       "    </tr>\n",
       "    <tr>\n",
       "      <th>...</th>\n",
       "      <td>...</td>\n",
       "      <td>...</td>\n",
       "      <td>...</td>\n",
       "      <td>...</td>\n",
       "      <td>...</td>\n",
       "      <td>...</td>\n",
       "      <td>...</td>\n",
       "      <td>...</td>\n",
       "      <td>...</td>\n",
       "      <td>...</td>\n",
       "      <td>...</td>\n",
       "      <td>...</td>\n",
       "      <td>...</td>\n",
       "      <td>...</td>\n",
       "    </tr>\n",
       "    <tr>\n",
       "      <th>999995</th>\n",
       "      <td>S</td>\n",
       "      <td>1</td>\n",
       "      <td>S</td>\n",
       "      <td>15</td>\n",
       "      <td>29</td>\n",
       "      <td>1</td>\n",
       "      <td>11</td>\n",
       "      <td>7</td>\n",
       "      <td>29</td>\n",
       "      <td>4</td>\n",
       "      <td>7</td>\n",
       "      <td>8451</td>\n",
       "      <td>10019</td>\n",
       "      <td>2379</td>\n",
       "    </tr>\n",
       "    <tr>\n",
       "      <th>999996</th>\n",
       "      <td>G</td>\n",
       "      <td>4</td>\n",
       "      <td>M</td>\n",
       "      <td>18</td>\n",
       "      <td>251</td>\n",
       "      <td>10</td>\n",
       "      <td>6</td>\n",
       "      <td>3</td>\n",
       "      <td>8</td>\n",
       "      <td>0</td>\n",
       "      <td>1</td>\n",
       "      <td>18291</td>\n",
       "      <td>37581</td>\n",
       "      <td>2379</td>\n",
       "    </tr>\n",
       "    <tr>\n",
       "      <th>999997</th>\n",
       "      <td>G</td>\n",
       "      <td>4</td>\n",
       "      <td>J</td>\n",
       "      <td>17</td>\n",
       "      <td>40</td>\n",
       "      <td>5</td>\n",
       "      <td>5</td>\n",
       "      <td>22</td>\n",
       "      <td>13</td>\n",
       "      <td>3</td>\n",
       "      <td>2</td>\n",
       "      <td>12986</td>\n",
       "      <td>20994</td>\n",
       "      <td>2379</td>\n",
       "    </tr>\n",
       "    <tr>\n",
       "      <th>999998</th>\n",
       "      <td>S</td>\n",
       "      <td>1</td>\n",
       "      <td>A</td>\n",
       "      <td>17</td>\n",
       "      <td>260</td>\n",
       "      <td>6</td>\n",
       "      <td>5</td>\n",
       "      <td>3</td>\n",
       "      <td>11</td>\n",
       "      <td>1</td>\n",
       "      <td>4</td>\n",
       "      <td>15674</td>\n",
       "      <td>37078</td>\n",
       "      <td>2379</td>\n",
       "    </tr>\n",
       "    <tr>\n",
       "      <th>999999</th>\n",
       "      <td>G</td>\n",
       "      <td>4</td>\n",
       "      <td>T</td>\n",
       "      <td>18</td>\n",
       "      <td>235</td>\n",
       "      <td>3</td>\n",
       "      <td>6</td>\n",
       "      <td>5</td>\n",
       "      <td>15</td>\n",
       "      <td>2</td>\n",
       "      <td>2</td>\n",
       "      <td>14304</td>\n",
       "      <td>38181</td>\n",
       "      <td>2379</td>\n",
       "    </tr>\n",
       "  </tbody>\n",
       "</table>\n",
       "<p>950476 rows × 14 columns</p>\n",
       "</div>"
      ],
      "text/plain": [
       "       tier division position  level  minionsKilled  championsKilled  \\\n",
       "0         P        3        S     10             15                4   \n",
       "1         P        4        S      8              7                1   \n",
       "2         P        3        M     11            100                5   \n",
       "3         P        4        T     11            115                8   \n",
       "4         P        3        A     10            110                3   \n",
       "...     ...      ...      ...    ...            ...              ...   \n",
       "999995    S        1        S     15             29                1   \n",
       "999996    G        4        M     18            251               10   \n",
       "999997    G        4        J     17             40                5   \n",
       "999998    S        1        A     17            260                6   \n",
       "999999    G        4        T     18            235                3   \n",
       "\n",
       "        numDeaths  assists  wardPlaced  visionWardsBoughtInGame  wardKilled  \\\n",
       "0               1        5           5                        1           1   \n",
       "1               3        3           6                        3           3   \n",
       "2               1        5           7                        4           5   \n",
       "3               2        1           5                        1           0   \n",
       "4               2        9           5                        1           2   \n",
       "...           ...      ...         ...                      ...         ...   \n",
       "999995         11        7          29                        4           7   \n",
       "999996          6        3           8                        0           1   \n",
       "999997          5       22          13                        3           2   \n",
       "999998          5        3          11                        1           4   \n",
       "999999          6        5          15                        2           2   \n",
       "\n",
       "        goldEarned  totalDamageDealtToChampions  gameLength  \n",
       "0             6083                         5590         972  \n",
       "1             4118                         3827         972  \n",
       "2             6769                         9467         972  \n",
       "3             7972                        10963         972  \n",
       "4             7552                         6465         972  \n",
       "...            ...                          ...         ...  \n",
       "999995        8451                        10019        2379  \n",
       "999996       18291                        37581        2379  \n",
       "999997       12986                        20994        2379  \n",
       "999998       15674                        37078        2379  \n",
       "999999       14304                        38181        2379  \n",
       "\n",
       "[950476 rows x 14 columns]"
      ]
     },
     "execution_count": 96,
     "metadata": {},
     "output_type": "execute_result"
    }
   ],
   "source": [
    "processed_data = data\n",
    "\n",
    "# 하위 0.3퍼, 상위 0.3퍼 데이터를 제거한다\n",
    "for col in want_data:\n",
    "    minimum = data[col].quantile(0.003)\n",
    "    maximum = data[col].quantile(0.997)\n",
    "    if col == 'level':\n",
    "        processed_data = processed_data[data[col] > minimum]\n",
    "    \n",
    "    elif col in ['minionsKilled', 'championsKilled', 'numDeaths', 'assists', 'wardPlaced','visionWardsBoughtInGame', 'wardKilled']:\n",
    "        processed_data = processed_data[data[col] < maximum]\n",
    "    \n",
    "    else:\n",
    "         processed_data = processed_data[processed_data[col] < maximum]\n",
    "         processed_data = processed_data[processed_data[col] > minimum]\n",
    "\n",
    "        \n",
    "# processed_data : 이상치가 제거된 데이터 \n",
    "processed_data"
   ]
  },
  {
   "cell_type": "code",
   "execution_count": 134,
   "metadata": {},
   "outputs": [],
   "source": [
    "processed_data['gameLength'] /= 60"
   ]
  },
  {
   "cell_type": "code",
   "execution_count": 137,
   "metadata": {},
   "outputs": [],
   "source": [
    "for it in processed_data.columns[3:len(processed_data.columns)-1]:\n",
    "    processed_data[it] /= processed_data['gameLength']"
   ]
  },
  {
   "cell_type": "code",
   "execution_count": 138,
   "metadata": {},
   "outputs": [
    {
     "data": {
      "text/html": [
       "<div>\n",
       "<style scoped>\n",
       "    .dataframe tbody tr th:only-of-type {\n",
       "        vertical-align: middle;\n",
       "    }\n",
       "\n",
       "    .dataframe tbody tr th {\n",
       "        vertical-align: top;\n",
       "    }\n",
       "\n",
       "    .dataframe thead th {\n",
       "        text-align: right;\n",
       "    }\n",
       "</style>\n",
       "<table border=\"1\" class=\"dataframe\">\n",
       "  <thead>\n",
       "    <tr style=\"text-align: right;\">\n",
       "      <th></th>\n",
       "      <th>tier</th>\n",
       "      <th>division</th>\n",
       "      <th>position</th>\n",
       "      <th>level</th>\n",
       "      <th>minionsKilled</th>\n",
       "      <th>championsKilled</th>\n",
       "      <th>numDeaths</th>\n",
       "      <th>assists</th>\n",
       "      <th>wardPlaced</th>\n",
       "      <th>visionWardsBoughtInGame</th>\n",
       "      <th>wardKilled</th>\n",
       "      <th>goldEarned</th>\n",
       "      <th>totalDamageDealtToChampions</th>\n",
       "      <th>gameLength</th>\n",
       "    </tr>\n",
       "  </thead>\n",
       "  <tbody>\n",
       "    <tr>\n",
       "      <th>0</th>\n",
       "      <td>P</td>\n",
       "      <td>3</td>\n",
       "      <td>S</td>\n",
       "      <td>0.617284</td>\n",
       "      <td>0.925926</td>\n",
       "      <td>0.246914</td>\n",
       "      <td>0.061728</td>\n",
       "      <td>0.308642</td>\n",
       "      <td>0.308642</td>\n",
       "      <td>0.061728</td>\n",
       "      <td>0.061728</td>\n",
       "      <td>375.493827</td>\n",
       "      <td>345.061728</td>\n",
       "      <td>16.2</td>\n",
       "    </tr>\n",
       "    <tr>\n",
       "      <th>1</th>\n",
       "      <td>P</td>\n",
       "      <td>4</td>\n",
       "      <td>S</td>\n",
       "      <td>0.493827</td>\n",
       "      <td>0.432099</td>\n",
       "      <td>0.061728</td>\n",
       "      <td>0.185185</td>\n",
       "      <td>0.185185</td>\n",
       "      <td>0.370370</td>\n",
       "      <td>0.185185</td>\n",
       "      <td>0.185185</td>\n",
       "      <td>254.197531</td>\n",
       "      <td>236.234568</td>\n",
       "      <td>16.2</td>\n",
       "    </tr>\n",
       "    <tr>\n",
       "      <th>2</th>\n",
       "      <td>P</td>\n",
       "      <td>3</td>\n",
       "      <td>M</td>\n",
       "      <td>0.679012</td>\n",
       "      <td>6.172840</td>\n",
       "      <td>0.308642</td>\n",
       "      <td>0.061728</td>\n",
       "      <td>0.308642</td>\n",
       "      <td>0.432099</td>\n",
       "      <td>0.246914</td>\n",
       "      <td>0.308642</td>\n",
       "      <td>417.839506</td>\n",
       "      <td>584.382716</td>\n",
       "      <td>16.2</td>\n",
       "    </tr>\n",
       "  </tbody>\n",
       "</table>\n",
       "</div>"
      ],
      "text/plain": [
       "  tier division position     level  minionsKilled  championsKilled  numDeaths  \\\n",
       "0    P        3        S  0.617284       0.925926         0.246914   0.061728   \n",
       "1    P        4        S  0.493827       0.432099         0.061728   0.185185   \n",
       "2    P        3        M  0.679012       6.172840         0.308642   0.061728   \n",
       "\n",
       "    assists  wardPlaced  visionWardsBoughtInGame  wardKilled  goldEarned  \\\n",
       "0  0.308642    0.308642                 0.061728    0.061728  375.493827   \n",
       "1  0.185185    0.370370                 0.185185    0.185185  254.197531   \n",
       "2  0.308642    0.432099                 0.246914    0.308642  417.839506   \n",
       "\n",
       "   totalDamageDealtToChampions  gameLength  \n",
       "0                   345.061728        16.2  \n",
       "1                   236.234568        16.2  \n",
       "2                   584.382716        16.2  "
      ]
     },
     "execution_count": 138,
     "metadata": {},
     "output_type": "execute_result"
    }
   ],
   "source": [
    "processed_data.head(3)"
   ]
  },
  {
   "cell_type": "code",
   "execution_count": null,
   "metadata": {},
   "outputs": [],
   "source": [
    "#data.describe(include=['number'])"
   ]
  },
  {
   "cell_type": "code",
   "execution_count": 139,
   "metadata": {},
   "outputs": [
    {
     "data": {
      "text/html": [
       "<div>\n",
       "<style scoped>\n",
       "    .dataframe tbody tr th:only-of-type {\n",
       "        vertical-align: middle;\n",
       "    }\n",
       "\n",
       "    .dataframe tbody tr th {\n",
       "        vertical-align: top;\n",
       "    }\n",
       "\n",
       "    .dataframe thead th {\n",
       "        text-align: right;\n",
       "    }\n",
       "</style>\n",
       "<table border=\"1\" class=\"dataframe\">\n",
       "  <thead>\n",
       "    <tr style=\"text-align: right;\">\n",
       "      <th></th>\n",
       "      <th>tier</th>\n",
       "      <th>division</th>\n",
       "      <th>position</th>\n",
       "      <th>level</th>\n",
       "      <th>minionsKilled</th>\n",
       "      <th>championsKilled</th>\n",
       "      <th>numDeaths</th>\n",
       "      <th>assists</th>\n",
       "      <th>wardPlaced</th>\n",
       "      <th>visionWardsBoughtInGame</th>\n",
       "      <th>wardKilled</th>\n",
       "      <th>goldEarned</th>\n",
       "      <th>totalDamageDealtToChampions</th>\n",
       "    </tr>\n",
       "  </thead>\n",
       "  <tbody>\n",
       "    <tr>\n",
       "      <th>0</th>\n",
       "      <td>P</td>\n",
       "      <td>3</td>\n",
       "      <td>S</td>\n",
       "      <td>0.617284</td>\n",
       "      <td>0.925926</td>\n",
       "      <td>0.246914</td>\n",
       "      <td>0.061728</td>\n",
       "      <td>0.308642</td>\n",
       "      <td>0.308642</td>\n",
       "      <td>0.061728</td>\n",
       "      <td>0.061728</td>\n",
       "      <td>375.493827</td>\n",
       "      <td>345.061728</td>\n",
       "    </tr>\n",
       "    <tr>\n",
       "      <th>1</th>\n",
       "      <td>P</td>\n",
       "      <td>4</td>\n",
       "      <td>S</td>\n",
       "      <td>0.493827</td>\n",
       "      <td>0.432099</td>\n",
       "      <td>0.061728</td>\n",
       "      <td>0.185185</td>\n",
       "      <td>0.185185</td>\n",
       "      <td>0.370370</td>\n",
       "      <td>0.185185</td>\n",
       "      <td>0.185185</td>\n",
       "      <td>254.197531</td>\n",
       "      <td>236.234568</td>\n",
       "    </tr>\n",
       "    <tr>\n",
       "      <th>2</th>\n",
       "      <td>P</td>\n",
       "      <td>3</td>\n",
       "      <td>M</td>\n",
       "      <td>0.679012</td>\n",
       "      <td>6.172840</td>\n",
       "      <td>0.308642</td>\n",
       "      <td>0.061728</td>\n",
       "      <td>0.308642</td>\n",
       "      <td>0.432099</td>\n",
       "      <td>0.246914</td>\n",
       "      <td>0.308642</td>\n",
       "      <td>417.839506</td>\n",
       "      <td>584.382716</td>\n",
       "    </tr>\n",
       "  </tbody>\n",
       "</table>\n",
       "</div>"
      ],
      "text/plain": [
       "  tier division position     level  minionsKilled  championsKilled  numDeaths  \\\n",
       "0    P        3        S  0.617284       0.925926         0.246914   0.061728   \n",
       "1    P        4        S  0.493827       0.432099         0.061728   0.185185   \n",
       "2    P        3        M  0.679012       6.172840         0.308642   0.061728   \n",
       "\n",
       "    assists  wardPlaced  visionWardsBoughtInGame  wardKilled  goldEarned  \\\n",
       "0  0.308642    0.308642                 0.061728    0.061728  375.493827   \n",
       "1  0.185185    0.370370                 0.185185    0.185185  254.197531   \n",
       "2  0.308642    0.432099                 0.246914    0.308642  417.839506   \n",
       "\n",
       "   totalDamageDealtToChampions  \n",
       "0                   345.061728  \n",
       "1                   236.234568  \n",
       "2                   584.382716  "
      ]
     },
     "execution_count": 139,
     "metadata": {},
     "output_type": "execute_result"
    }
   ],
   "source": [
    "processed_data = processed_data.drop(columns='gameLength')\n",
    "processed_data.head(3)"
   ]
  },
  {
   "cell_type": "code",
   "execution_count": null,
   "metadata": {},
   "outputs": [],
   "source": []
  },
  {
   "cell_type": "code",
   "execution_count": 103,
   "metadata": {},
   "outputs": [],
   "source": [
    "# 확인하고 싶은 아이디 입력\n",
    "summoner_name = 'bbo bbo'"
   ]
  },
  {
   "cell_type": "code",
   "execution_count": 104,
   "metadata": {
    "id": "MCIceFt1sLmL"
   },
   "outputs": [],
   "source": [
    "# selenium을 백그라운드로 실행하기 위해 옵션 설정\n",
    "options = webdriver.ChromeOptions()\n",
    "options.add_argument('headless')\n",
    "options.add_argument('window-size=1920x1080')"
   ]
  },
  {
   "cell_type": "code",
   "execution_count": 105,
   "metadata": {
    "id": "5c6iarBqsLoE"
   },
   "outputs": [
    {
     "name": "stderr",
     "output_type": "stream",
     "text": [
      "C:\\Users\\Brena-29\\AppData\\Local\\Temp/ipykernel_11600/2448644556.py:4: DeprecationWarning: executable_path has been deprecated, please pass in a Service object\n",
      "  driver = webdriver.Chrome(chrome_driver_path)\n"
     ]
    }
   ],
   "source": [
    "# selenium으로 실행시킬 url설정\n",
    "summoner_url = 'https://poro.gg/summoner/kr/' + summoner_name\n",
    "chrome_driver_path = \"C:/Users/Brena-29/Desktop/chromedriver_win32/chromedriver\"\n",
    "driver = webdriver.Chrome(chrome_driver_path)\n",
    "\n",
    "driver.get(summoner_url)"
   ]
  },
  {
   "cell_type": "code",
   "execution_count": 106,
   "metadata": {
    "id": "5aaHSBoJrkKo"
   },
   "outputs": [
    {
     "name": "stderr",
     "output_type": "stream",
     "text": [
      "C:\\Users\\Brena-29\\AppData\\Local\\Temp/ipykernel_11600/2064555884.py:2: DeprecationWarning: find_element_by_* commands are deprecated. Please use find_element() instead\n",
      "  solo_rank_button = driver.find_element_by_css_selector(\"#vue-profile > div.match-history-container.mt-3 > div:nth-child(1) > div.summoner-box__content > div > div.match-history-filter__queue-types > button:nth-child(2)\")\n"
     ]
    }
   ],
   "source": [
    "# 솔로랭크의 자료만을 원하므로, 솔로랭크 버튼 클릭\n",
    "solo_rank_button = driver.find_element_by_css_selector(\"#vue-profile > div.match-history-container.mt-3 > div:nth-child(1) > div.summoner-box__content > div > div.match-history-filter__queue-types > button:nth-child(2)\")\n",
    "solo_rank_button.click()\n",
    "time.sleep(2)"
   ]
  },
  {
   "cell_type": "code",
   "execution_count": 107,
   "metadata": {
    "id": "aISP_lFYrkM3"
   },
   "outputs": [
    {
     "name": "stderr",
     "output_type": "stream",
     "text": [
      "C:\\Users\\Brena-29\\AppData\\Local\\Temp/ipykernel_11600/3105641016.py:6: DeprecationWarning: find_element_by_* commands are deprecated. Please use find_element() instead\n",
      "  driver.find_element_by_css_selector(\"#vue-profile > div.match-history-container.mt-3 > div:nth-child(\" + str(start) + \") > div > div.match-history__expand-toggle\").click()\n"
     ]
    }
   ],
   "source": [
    "# 컨테이너의 정보들은, start가 3부터 시작해서, 1씩 더해지며 쌓인다.\n",
    "# 각 컨테이너 마다 (+) 버튼 눌러주는 코드\n",
    "start = 3\n",
    "while True:\n",
    "    try:\n",
    "        driver.find_element_by_css_selector(\"#vue-profile > div.match-history-container.mt-3 > div:nth-child(\" + str(start) + \") > div > div.match-history__expand-toggle\").click()\n",
    "        time.sleep(0.5)\n",
    "        start += 1\n",
    "    \n",
    "    except Exception as e:\n",
    "        pass\n",
    "        break"
   ]
  },
  {
   "cell_type": "code",
   "execution_count": 108,
   "metadata": {
    "id": "4Zr_-B8IR9fN"
   },
   "outputs": [],
   "source": [
    "# 전체 펼친 html\n",
    "summoner_html = driver.page_source\n",
    "summoner_soup = BeautifulSoup(summoner_html, 'html.parser')"
   ]
  },
  {
   "cell_type": "code",
   "execution_count": 109,
   "metadata": {
    "id": "fe9xPIiPR9hJ"
   },
   "outputs": [],
   "source": [
    "driver.quit()"
   ]
  },
  {
   "cell_type": "code",
   "execution_count": 110,
   "metadata": {},
   "outputs": [],
   "source": [
    "summoner_games_html = summoner_soup.select('div.match-history__content')"
   ]
  },
  {
   "cell_type": "code",
   "execution_count": 111,
   "metadata": {},
   "outputs": [],
   "source": [
    "# 불러오는 게임의 수\n",
    "# games_len = len(summoner_games_html)\n",
    "games_len = 13"
   ]
  },
  {
   "cell_type": "code",
   "execution_count": 112,
   "metadata": {},
   "outputs": [],
   "source": [
    "# 확인하고 싶은 자료 선정\n",
    "Damage = []\n",
    "CS = []\n",
    "Tower = []\n",
    "Wardplaced = []\n",
    "visionWardplaced = []\n",
    "WardKilled = []\n",
    "Kill = []\n",
    "Death = []\n",
    "Assist = []\n",
    "Level = []\n",
    "Gold = []\n",
    "#\n",
    "Gamelength = []"
   ]
  },
  {
   "cell_type": "code",
   "execution_count": 113,
   "metadata": {},
   "outputs": [],
   "source": [
    "# 각각의 정보들을 각 리스트에 담아준다.\n",
    "for i in range(games_len):\n",
    "    Level.append(int(list(summoner_games_html[i].select_one('div.champion').stripped_strings)[0]))\n",
    "    CS.append(int(list(summoner_games_html[i].select_one('div.info').stripped_strings)[3]))\n",
    "    Kill.append(int(list(summoner_games_html[i].select_one('div.kda').stripped_strings)[0]))\n",
    "    Death.append(int(list(summoner_games_html[i].select_one('div.kda').stripped_strings)[2]))\n",
    "    Assist.append(int(list(summoner_games_html[i].select_one('div.kda').stripped_strings)[4]))\n",
    "    Wardplaced.append(int(list(summoner_games_html[i].select_one(' div.wards.mt-1').stripped_strings)[1]))\n",
    "    visionWardplaced.append(int(list(summoner_games_html[i].select_one(' div.wards.mt-1').stripped_strings)[0]))\n",
    "    WardKilled.append(int(list(summoner_games_html[i].select_one(' div.wards.mt-1').stripped_strings)[2]))\n",
    "    \n",
    "    #\n",
    "    gl = list(summoner_games_html[i].select_one('span.mt-md-1'))[0].split(':')\n",
    "    Gamelength.append(int(gl[0])*60 + int(gl[1]))"
   ]
  },
  {
   "cell_type": "code",
   "execution_count": 114,
   "metadata": {},
   "outputs": [],
   "source": [
    "# 게임의 결과가 승리인지 패배인지 알려주는 html\n",
    "# 각 게임의 '자세히보기' 버튼을 눌러야 나오는 정보들을 담는 코드\n",
    "\n",
    "for i in range(games_len):\n",
    "    summoner_games_html = summoner_soup.select('div.match-history__result')\n",
    "    if list(summoner_games_html[i].stripped_strings)[0] == '패배':\n",
    "        summoner_games_html = summoner_soup.select('div.match-history-detail__content')\n",
    "        selector1 = '#vue-profile > div.match-history-container.mt-3 > div:nth-child(' + str(i+3) + ') > div.match-history-detail > div.match-history-detail__content > div > div > div.col-12.col-lg-6.border-e6-left-md > div > div.match-detail-overview__summoners > div.match-detail-overview__summoner.match-detail-overview__summoner--me > div > div.match-detail-overview__summoner__column.stats > div.wards > div:nth-child(2) > span'\n",
    "        selector2 = '#vue-profile > div.match-history-container.mt-3 > div:nth-child(' + str(i+3) + ') > div.match-history-detail > div.match-history-detail__content > div > div > div.col-12.col-lg-6.border-e6-left-md > div > div.match-detail-overview__summoners > div.match-detail-overview__summoner.match-detail-overview__summoner--me > div > div.match-detail-overview__summoner__column.stats > div.graph > span'\n",
    "    elif list(summoner_games_html[i].stripped_strings)[0] == '승리':\n",
    "        summoner_games_html = summoner_soup.select('div.match-history-detail__content')\n",
    "        selector1 = '#vue-profile > div.match-history-container.mt-3 > div:nth-child(' + str(i+3) + ') > div.match-history-detail > div.match-history-detail__content > div > div > div:nth-child(1) > div > div.match-detail-overview__summoners > div.match-detail-overview__summoner.match-detail-overview__summoner--me > div > div.match-detail-overview__summoner__column.stats > div.wards > div:nth-child(2) > span'\n",
    "        selector2 = '#vue-profile > div.match-history-container.mt-3 > div:nth-child(' + str(i+3) + ') > div.match-history-detail > div.match-history-detail__content > div > div > div:nth-child(1) > div > div.match-detail-overview__summoners > div.match-detail-overview__summoner.match-detail-overview__summoner--me > div > div.match-detail-overview__summoner__column.stats > div.graph > span'\n",
    "        \n",
    "    gold = list(summoner_games_html[i].select_one(selector1).stripped_strings)[0]\n",
    "    damage = list(summoner_games_html[i].select_one(selector2).stripped_strings)[0]\n",
    "    if gold[-1] == '천':\n",
    "        g = float(gold[:-1])\n",
    "        g = int(g * 1000)\n",
    "        Gold.append(g)\n",
    "        \n",
    "    elif gold[-1] == '만':\n",
    "        g = float(gold[:-1])\n",
    "        g = int(g * 10000)\n",
    "        Gold.append(g)\n",
    "        \n",
    "    if ',' in damage:\n",
    "        damage = damage.replace(',', '')\n",
    "        damage = int(damage)\n",
    "        Damage.append(damage)\n",
    "    \n",
    "    time.sleep(0.5)"
   ]
  },
  {
   "cell_type": "code",
   "execution_count": 115,
   "metadata": {},
   "outputs": [],
   "source": [
    "# 내 평균 데이터들을 구하는 코드\n",
    "# 각 데이터의 합을 (60/게임시간) 즉, 분으로 나누어서 나타낸다.\n",
    "\n",
    "my_average_cs = round((sum(CS) * 60) / (sum(Gamelength)), 3)\n",
    "my_average_kill = round((sum(Kill) * 60) / (sum(Gamelength)), 3)\n",
    "my_average_death = round((sum(Death) * 60) / (sum(Gamelength)), 3)\n",
    "my_average_Assist = round((sum(Assist) * 60) / (sum(Gamelength)), 3)\n",
    "my_level = round((sum(Level) * 60) / (sum(Gamelength)), 3)\n",
    "my_wardplaced = round((sum(Wardplaced) * 60) / (sum(Gamelength)), 3)\n",
    "my_visionWardplaced = round((sum(visionWardplaced) * 60) / (sum(Gamelength)), 3)\n",
    "my_wardkilled = round((sum(WardKilled) * 60) / (sum(Gamelength)), 3)\n",
    "my_gold = round((sum(Gold) * 60) / (sum(Gamelength)), 3)\n",
    "my_damage = round((sum(Damage) * 60) / (sum(Gamelength)), 3)\n",
    "\n",
    "dataindex = [\"Level\", \"CS\", \"Kill\", \"Death\", \"Assist\", \"wardPlaced\", \n",
    "             \"visionwardPlaced\", \"wardkilled\", \"Gold\", \"Damage\"]\n",
    "mydatacol = [my_level, my_average_cs, my_average_kill, my_average_death, \n",
    "                   my_average_Assist, my_wardplaced, my_visionWardplaced, my_wardkilled,\n",
    "                  my_gold, my_damage]"
   ]
  },
  {
   "cell_type": "code",
   "execution_count": 140,
   "metadata": {},
   "outputs": [
    {
     "data": {
      "text/html": [
       "<div>\n",
       "<style scoped>\n",
       "    .dataframe tbody tr th:only-of-type {\n",
       "        vertical-align: middle;\n",
       "    }\n",
       "\n",
       "    .dataframe tbody tr th {\n",
       "        vertical-align: top;\n",
       "    }\n",
       "\n",
       "    .dataframe thead th {\n",
       "        text-align: right;\n",
       "    }\n",
       "</style>\n",
       "<table border=\"1\" class=\"dataframe\">\n",
       "  <thead>\n",
       "    <tr style=\"text-align: right;\">\n",
       "      <th></th>\n",
       "      <th>Level</th>\n",
       "      <th>CS</th>\n",
       "      <th>Kill</th>\n",
       "      <th>Death</th>\n",
       "      <th>Assist</th>\n",
       "      <th>wardPlaced</th>\n",
       "      <th>visionwardPlaced</th>\n",
       "      <th>wardkilled</th>\n",
       "      <th>Gold</th>\n",
       "      <th>Damage</th>\n",
       "    </tr>\n",
       "  </thead>\n",
       "  <tbody>\n",
       "    <tr>\n",
       "      <th>me</th>\n",
       "      <td>0.504</td>\n",
       "      <td>5.393</td>\n",
       "      <td>0.256</td>\n",
       "      <td>0.185</td>\n",
       "      <td>0.351</td>\n",
       "      <td>0.319</td>\n",
       "      <td>0.185</td>\n",
       "      <td>0.15</td>\n",
       "      <td>423.36</td>\n",
       "      <td>702.927</td>\n",
       "    </tr>\n",
       "  </tbody>\n",
       "</table>\n",
       "</div>"
      ],
      "text/plain": [
       "    Level     CS   Kill  Death  Assist  wardPlaced  visionwardPlaced  \\\n",
       "me  0.504  5.393  0.256  0.185   0.351       0.319             0.185   \n",
       "\n",
       "    wardkilled    Gold   Damage  \n",
       "me        0.15  423.36  702.927  "
      ]
     },
     "execution_count": 140,
     "metadata": {},
     "output_type": "execute_result"
    }
   ],
   "source": [
    "# 데이터 프레임으로 그 정보들을 확인한다.\n",
    "mydata = pd.DataFrame(mydatacol, index = dataindex).T\n",
    "mydata.index = ['me']\n",
    "mydata"
   ]
  },
  {
   "cell_type": "code",
   "execution_count": 141,
   "metadata": {},
   "outputs": [],
   "source": [
    "data.head(1)\n",
    "asd_data = processed_data[['level', 'minionsKilled', 'championsKilled', 'numDeaths', 'assists', 'wardPlaced', 'visionWardsBoughtInGame', 'wardKilled', 'goldEarned', 'totalDamageDealtToChampions']]\n",
    "asd_data.columns = dataindex\n",
    "total = pd.concat([mydata, asd_data])"
   ]
  },
  {
   "cell_type": "code",
   "execution_count": 142,
   "metadata": {},
   "outputs": [
    {
     "data": {
      "text/html": [
       "<div>\n",
       "<style scoped>\n",
       "    .dataframe tbody tr th:only-of-type {\n",
       "        vertical-align: middle;\n",
       "    }\n",
       "\n",
       "    .dataframe tbody tr th {\n",
       "        vertical-align: top;\n",
       "    }\n",
       "\n",
       "    .dataframe thead th {\n",
       "        text-align: right;\n",
       "    }\n",
       "</style>\n",
       "<table border=\"1\" class=\"dataframe\">\n",
       "  <thead>\n",
       "    <tr style=\"text-align: right;\">\n",
       "      <th></th>\n",
       "      <th>Level</th>\n",
       "      <th>CS</th>\n",
       "      <th>Kill</th>\n",
       "      <th>Death</th>\n",
       "      <th>Assist</th>\n",
       "      <th>wardPlaced</th>\n",
       "      <th>visionwardPlaced</th>\n",
       "      <th>wardkilled</th>\n",
       "      <th>Gold</th>\n",
       "      <th>Damage</th>\n",
       "    </tr>\n",
       "  </thead>\n",
       "  <tbody>\n",
       "    <tr>\n",
       "      <th>me</th>\n",
       "      <td>0.504000</td>\n",
       "      <td>5.393000</td>\n",
       "      <td>0.256000</td>\n",
       "      <td>0.185000</td>\n",
       "      <td>0.351000</td>\n",
       "      <td>0.319000</td>\n",
       "      <td>0.185000</td>\n",
       "      <td>0.150000</td>\n",
       "      <td>423.360000</td>\n",
       "      <td>702.927000</td>\n",
       "    </tr>\n",
       "    <tr>\n",
       "      <th>0</th>\n",
       "      <td>0.617284</td>\n",
       "      <td>0.925926</td>\n",
       "      <td>0.246914</td>\n",
       "      <td>0.061728</td>\n",
       "      <td>0.308642</td>\n",
       "      <td>0.308642</td>\n",
       "      <td>0.061728</td>\n",
       "      <td>0.061728</td>\n",
       "      <td>375.493827</td>\n",
       "      <td>345.061728</td>\n",
       "    </tr>\n",
       "    <tr>\n",
       "      <th>1</th>\n",
       "      <td>0.493827</td>\n",
       "      <td>0.432099</td>\n",
       "      <td>0.061728</td>\n",
       "      <td>0.185185</td>\n",
       "      <td>0.185185</td>\n",
       "      <td>0.370370</td>\n",
       "      <td>0.185185</td>\n",
       "      <td>0.185185</td>\n",
       "      <td>254.197531</td>\n",
       "      <td>236.234568</td>\n",
       "    </tr>\n",
       "    <tr>\n",
       "      <th>2</th>\n",
       "      <td>0.679012</td>\n",
       "      <td>6.172840</td>\n",
       "      <td>0.308642</td>\n",
       "      <td>0.061728</td>\n",
       "      <td>0.308642</td>\n",
       "      <td>0.432099</td>\n",
       "      <td>0.246914</td>\n",
       "      <td>0.308642</td>\n",
       "      <td>417.839506</td>\n",
       "      <td>584.382716</td>\n",
       "    </tr>\n",
       "    <tr>\n",
       "      <th>3</th>\n",
       "      <td>0.679012</td>\n",
       "      <td>7.098765</td>\n",
       "      <td>0.493827</td>\n",
       "      <td>0.123457</td>\n",
       "      <td>0.061728</td>\n",
       "      <td>0.308642</td>\n",
       "      <td>0.061728</td>\n",
       "      <td>0.000000</td>\n",
       "      <td>492.098765</td>\n",
       "      <td>676.728395</td>\n",
       "    </tr>\n",
       "    <tr>\n",
       "      <th>...</th>\n",
       "      <td>...</td>\n",
       "      <td>...</td>\n",
       "      <td>...</td>\n",
       "      <td>...</td>\n",
       "      <td>...</td>\n",
       "      <td>...</td>\n",
       "      <td>...</td>\n",
       "      <td>...</td>\n",
       "      <td>...</td>\n",
       "      <td>...</td>\n",
       "    </tr>\n",
       "    <tr>\n",
       "      <th>999995</th>\n",
       "      <td>0.378310</td>\n",
       "      <td>0.731400</td>\n",
       "      <td>0.025221</td>\n",
       "      <td>0.277427</td>\n",
       "      <td>0.176545</td>\n",
       "      <td>0.731400</td>\n",
       "      <td>0.100883</td>\n",
       "      <td>0.176545</td>\n",
       "      <td>213.139975</td>\n",
       "      <td>252.686003</td>\n",
       "    </tr>\n",
       "    <tr>\n",
       "      <th>999996</th>\n",
       "      <td>0.453972</td>\n",
       "      <td>6.330391</td>\n",
       "      <td>0.252207</td>\n",
       "      <td>0.151324</td>\n",
       "      <td>0.075662</td>\n",
       "      <td>0.201765</td>\n",
       "      <td>0.000000</td>\n",
       "      <td>0.025221</td>\n",
       "      <td>461.311475</td>\n",
       "      <td>947.818411</td>\n",
       "    </tr>\n",
       "    <tr>\n",
       "      <th>999997</th>\n",
       "      <td>0.428752</td>\n",
       "      <td>1.008827</td>\n",
       "      <td>0.126103</td>\n",
       "      <td>0.126103</td>\n",
       "      <td>0.554855</td>\n",
       "      <td>0.327869</td>\n",
       "      <td>0.075662</td>\n",
       "      <td>0.050441</td>\n",
       "      <td>327.515763</td>\n",
       "      <td>529.482976</td>\n",
       "    </tr>\n",
       "    <tr>\n",
       "      <th>999998</th>\n",
       "      <td>0.428752</td>\n",
       "      <td>6.557377</td>\n",
       "      <td>0.151324</td>\n",
       "      <td>0.126103</td>\n",
       "      <td>0.075662</td>\n",
       "      <td>0.277427</td>\n",
       "      <td>0.025221</td>\n",
       "      <td>0.100883</td>\n",
       "      <td>395.308953</td>\n",
       "      <td>935.132409</td>\n",
       "    </tr>\n",
       "    <tr>\n",
       "      <th>999999</th>\n",
       "      <td>0.453972</td>\n",
       "      <td>5.926860</td>\n",
       "      <td>0.075662</td>\n",
       "      <td>0.151324</td>\n",
       "      <td>0.126103</td>\n",
       "      <td>0.378310</td>\n",
       "      <td>0.050441</td>\n",
       "      <td>0.050441</td>\n",
       "      <td>360.756620</td>\n",
       "      <td>962.950820</td>\n",
       "    </tr>\n",
       "  </tbody>\n",
       "</table>\n",
       "<p>950477 rows × 10 columns</p>\n",
       "</div>"
      ],
      "text/plain": [
       "           Level        CS      Kill     Death    Assist  wardPlaced  \\\n",
       "me      0.504000  5.393000  0.256000  0.185000  0.351000    0.319000   \n",
       "0       0.617284  0.925926  0.246914  0.061728  0.308642    0.308642   \n",
       "1       0.493827  0.432099  0.061728  0.185185  0.185185    0.370370   \n",
       "2       0.679012  6.172840  0.308642  0.061728  0.308642    0.432099   \n",
       "3       0.679012  7.098765  0.493827  0.123457  0.061728    0.308642   \n",
       "...          ...       ...       ...       ...       ...         ...   \n",
       "999995  0.378310  0.731400  0.025221  0.277427  0.176545    0.731400   \n",
       "999996  0.453972  6.330391  0.252207  0.151324  0.075662    0.201765   \n",
       "999997  0.428752  1.008827  0.126103  0.126103  0.554855    0.327869   \n",
       "999998  0.428752  6.557377  0.151324  0.126103  0.075662    0.277427   \n",
       "999999  0.453972  5.926860  0.075662  0.151324  0.126103    0.378310   \n",
       "\n",
       "        visionwardPlaced  wardkilled        Gold      Damage  \n",
       "me              0.185000    0.150000  423.360000  702.927000  \n",
       "0               0.061728    0.061728  375.493827  345.061728  \n",
       "1               0.185185    0.185185  254.197531  236.234568  \n",
       "2               0.246914    0.308642  417.839506  584.382716  \n",
       "3               0.061728    0.000000  492.098765  676.728395  \n",
       "...                  ...         ...         ...         ...  \n",
       "999995          0.100883    0.176545  213.139975  252.686003  \n",
       "999996          0.000000    0.025221  461.311475  947.818411  \n",
       "999997          0.075662    0.050441  327.515763  529.482976  \n",
       "999998          0.025221    0.100883  395.308953  935.132409  \n",
       "999999          0.050441    0.050441  360.756620  962.950820  \n",
       "\n",
       "[950477 rows x 10 columns]"
      ]
     },
     "execution_count": 142,
     "metadata": {},
     "output_type": "execute_result"
    }
   ],
   "source": [
    "total"
   ]
  },
  {
   "cell_type": "code",
   "execution_count": 144,
   "metadata": {},
   "outputs": [
    {
     "data": {
      "text/html": [
       "<div>\n",
       "<style scoped>\n",
       "    .dataframe tbody tr th:only-of-type {\n",
       "        vertical-align: middle;\n",
       "    }\n",
       "\n",
       "    .dataframe tbody tr th {\n",
       "        vertical-align: top;\n",
       "    }\n",
       "\n",
       "    .dataframe thead th {\n",
       "        text-align: right;\n",
       "    }\n",
       "</style>\n",
       "<table border=\"1\" class=\"dataframe\">\n",
       "  <thead>\n",
       "    <tr style=\"text-align: right;\">\n",
       "      <th></th>\n",
       "      <th>Level</th>\n",
       "      <th>CS</th>\n",
       "      <th>Kill</th>\n",
       "      <th>Death</th>\n",
       "      <th>Assist</th>\n",
       "      <th>wardPlaced</th>\n",
       "      <th>visionwardPlaced</th>\n",
       "      <th>wardkilled</th>\n",
       "      <th>Gold</th>\n",
       "      <th>Damage</th>\n",
       "    </tr>\n",
       "  </thead>\n",
       "  <tbody>\n",
       "    <tr>\n",
       "      <th>me</th>\n",
       "      <td>0.466942</td>\n",
       "      <td>0.371863</td>\n",
       "      <td>0.300634</td>\n",
       "      <td>0.545072</td>\n",
       "      <td>0.250205</td>\n",
       "      <td>0.397638</td>\n",
       "      <td>0.122370</td>\n",
       "      <td>0.220829</td>\n",
       "      <td>0.270474</td>\n",
       "      <td>0.264076</td>\n",
       "    </tr>\n",
       "    <tr>\n",
       "      <th>0</th>\n",
       "      <td>0.073556</td>\n",
       "      <td>0.839753</td>\n",
       "      <td>0.319947</td>\n",
       "      <td>0.916357</td>\n",
       "      <td>0.325655</td>\n",
       "      <td>0.431872</td>\n",
       "      <td>0.499500</td>\n",
       "      <td>0.570011</td>\n",
       "      <td>0.459493</td>\n",
       "      <td>0.770042</td>\n",
       "    </tr>\n",
       "    <tr>\n",
       "      <th>1</th>\n",
       "      <td>0.525709</td>\n",
       "      <td>0.955053</td>\n",
       "      <td>0.827504</td>\n",
       "      <td>0.544260</td>\n",
       "      <td>0.617585</td>\n",
       "      <td>0.279216</td>\n",
       "      <td>0.122022</td>\n",
       "      <td>0.147597</td>\n",
       "      <td>0.919938</td>\n",
       "      <td>0.908381</td>\n",
       "    </tr>\n",
       "    <tr>\n",
       "      <th>2</th>\n",
       "      <td>0.020803</td>\n",
       "      <td>0.230407</td>\n",
       "      <td>0.211613</td>\n",
       "      <td>0.916357</td>\n",
       "      <td>0.325655</td>\n",
       "      <td>0.206454</td>\n",
       "      <td>0.054748</td>\n",
       "      <td>0.027969</td>\n",
       "      <td>0.290131</td>\n",
       "      <td>0.410337</td>\n",
       "    </tr>\n",
       "    <tr>\n",
       "      <th>3</th>\n",
       "      <td>0.020803</td>\n",
       "      <td>0.091938</td>\n",
       "      <td>0.050379</td>\n",
       "      <td>0.764873</td>\n",
       "      <td>0.904254</td>\n",
       "      <td>0.431872</td>\n",
       "      <td>0.499500</td>\n",
       "      <td>0.899211</td>\n",
       "      <td>0.094604</td>\n",
       "      <td>0.292847</td>\n",
       "    </tr>\n",
       "    <tr>\n",
       "      <th>...</th>\n",
       "      <td>...</td>\n",
       "      <td>...</td>\n",
       "      <td>...</td>\n",
       "      <td>...</td>\n",
       "      <td>...</td>\n",
       "      <td>...</td>\n",
       "      <td>...</td>\n",
       "      <td>...</td>\n",
       "      <td>...</td>\n",
       "      <td>...</td>\n",
       "    </tr>\n",
       "    <tr>\n",
       "      <th>999995</th>\n",
       "      <td>0.985342</td>\n",
       "      <td>0.891255</td>\n",
       "      <td>0.934231</td>\n",
       "      <td>0.229204</td>\n",
       "      <td>0.640618</td>\n",
       "      <td>0.096960</td>\n",
       "      <td>0.331076</td>\n",
       "      <td>0.164183</td>\n",
       "      <td>0.986185</td>\n",
       "      <td>0.890022</td>\n",
       "    </tr>\n",
       "    <tr>\n",
       "      <th>999996</th>\n",
       "      <td>0.758398</td>\n",
       "      <td>0.202877</td>\n",
       "      <td>0.308648</td>\n",
       "      <td>0.665177</td>\n",
       "      <td>0.877793</td>\n",
       "      <td>0.749114</td>\n",
       "      <td>0.855436</td>\n",
       "      <td>0.794450</td>\n",
       "      <td>0.157986</td>\n",
       "      <td>0.087274</td>\n",
       "    </tr>\n",
       "    <tr>\n",
       "      <th>999997</th>\n",
       "      <td>0.876150</td>\n",
       "      <td>0.815301</td>\n",
       "      <td>0.632116</td>\n",
       "      <td>0.755296</td>\n",
       "      <td>0.059765</td>\n",
       "      <td>0.369910</td>\n",
       "      <td>0.432902</td>\n",
       "      <td>0.618557</td>\n",
       "      <td>0.667068</td>\n",
       "      <td>0.489974</td>\n",
       "    </tr>\n",
       "    <tr>\n",
       "      <th>999998</th>\n",
       "      <td>0.876150</td>\n",
       "      <td>0.165395</td>\n",
       "      <td>0.553713</td>\n",
       "      <td>0.755296</td>\n",
       "      <td>0.877793</td>\n",
       "      <td>0.534301</td>\n",
       "      <td>0.705193</td>\n",
       "      <td>0.382554</td>\n",
       "      <td>0.376232</td>\n",
       "      <td>0.092918</td>\n",
       "    </tr>\n",
       "    <tr>\n",
       "      <th>999999</th>\n",
       "      <td>0.758398</td>\n",
       "      <td>0.274308</td>\n",
       "      <td>0.783991</td>\n",
       "      <td>0.665177</td>\n",
       "      <td>0.768535</td>\n",
       "      <td>0.265927</td>\n",
       "      <td>0.543454</td>\n",
       "      <td>0.618557</td>\n",
       "      <td>0.522924</td>\n",
       "      <td>0.081036</td>\n",
       "    </tr>\n",
       "  </tbody>\n",
       "</table>\n",
       "<p>950477 rows × 10 columns</p>\n",
       "</div>"
      ],
      "text/plain": [
       "           Level        CS      Kill     Death    Assist  wardPlaced  \\\n",
       "me      0.466942  0.371863  0.300634  0.545072  0.250205    0.397638   \n",
       "0       0.073556  0.839753  0.319947  0.916357  0.325655    0.431872   \n",
       "1       0.525709  0.955053  0.827504  0.544260  0.617585    0.279216   \n",
       "2       0.020803  0.230407  0.211613  0.916357  0.325655    0.206454   \n",
       "3       0.020803  0.091938  0.050379  0.764873  0.904254    0.431872   \n",
       "...          ...       ...       ...       ...       ...         ...   \n",
       "999995  0.985342  0.891255  0.934231  0.229204  0.640618    0.096960   \n",
       "999996  0.758398  0.202877  0.308648  0.665177  0.877793    0.749114   \n",
       "999997  0.876150  0.815301  0.632116  0.755296  0.059765    0.369910   \n",
       "999998  0.876150  0.165395  0.553713  0.755296  0.877793    0.534301   \n",
       "999999  0.758398  0.274308  0.783991  0.665177  0.768535    0.265927   \n",
       "\n",
       "        visionwardPlaced  wardkilled      Gold    Damage  \n",
       "me              0.122370    0.220829  0.270474  0.264076  \n",
       "0               0.499500    0.570011  0.459493  0.770042  \n",
       "1               0.122022    0.147597  0.919938  0.908381  \n",
       "2               0.054748    0.027969  0.290131  0.410337  \n",
       "3               0.499500    0.899211  0.094604  0.292847  \n",
       "...                  ...         ...       ...       ...  \n",
       "999995          0.331076    0.164183  0.986185  0.890022  \n",
       "999996          0.855436    0.794450  0.157986  0.087274  \n",
       "999997          0.432902    0.618557  0.667068  0.489974  \n",
       "999998          0.705193    0.382554  0.376232  0.092918  \n",
       "999999          0.543454    0.618557  0.522924  0.081036  \n",
       "\n",
       "[950477 rows x 10 columns]"
      ]
     },
     "execution_count": 144,
     "metadata": {},
     "output_type": "execute_result"
    }
   ],
   "source": [
    "# 데이터를 rank함수를 통해 상위 %로 바꾼다 \n",
    "rank_data = total.rank(ascending = False, pct = True)\n",
    "rank_data"
   ]
  },
  {
   "cell_type": "code",
   "execution_count": 145,
   "metadata": {},
   "outputs": [],
   "source": [
    "# 나의 데이터만을 추출한다.\n",
    "my_rank_data = rank_data[rank_data.index == 'me']\n",
    "my_rank_data = round(my_rank_data, 3)\n",
    "my_rank_data *= 100"
   ]
  },
  {
   "cell_type": "code",
   "execution_count": 146,
   "metadata": {},
   "outputs": [
    {
     "data": {
      "text/html": [
       "<div>\n",
       "<style scoped>\n",
       "    .dataframe tbody tr th:only-of-type {\n",
       "        vertical-align: middle;\n",
       "    }\n",
       "\n",
       "    .dataframe tbody tr th {\n",
       "        vertical-align: top;\n",
       "    }\n",
       "\n",
       "    .dataframe thead th {\n",
       "        text-align: right;\n",
       "    }\n",
       "</style>\n",
       "<table border=\"1\" class=\"dataframe\">\n",
       "  <thead>\n",
       "    <tr style=\"text-align: right;\">\n",
       "      <th></th>\n",
       "      <th>Level</th>\n",
       "      <th>CS</th>\n",
       "      <th>Kill</th>\n",
       "      <th>Death</th>\n",
       "      <th>Assist</th>\n",
       "      <th>wardPlaced</th>\n",
       "      <th>visionwardPlaced</th>\n",
       "      <th>wardkilled</th>\n",
       "      <th>Gold</th>\n",
       "      <th>Damage</th>\n",
       "    </tr>\n",
       "  </thead>\n",
       "  <tbody>\n",
       "    <tr>\n",
       "      <th>me</th>\n",
       "      <td>46.7</td>\n",
       "      <td>37.2</td>\n",
       "      <td>30.1</td>\n",
       "      <td>54.5</td>\n",
       "      <td>25.0</td>\n",
       "      <td>39.8</td>\n",
       "      <td>12.2</td>\n",
       "      <td>22.1</td>\n",
       "      <td>27.0</td>\n",
       "      <td>26.4</td>\n",
       "    </tr>\n",
       "  </tbody>\n",
       "</table>\n",
       "</div>"
      ],
      "text/plain": [
       "    Level    CS  Kill  Death  Assist  wardPlaced  visionwardPlaced  \\\n",
       "me   46.7  37.2  30.1   54.5    25.0        39.8              12.2   \n",
       "\n",
       "    wardkilled  Gold  Damage  \n",
       "me        22.1  27.0    26.4  "
      ]
     },
     "execution_count": 146,
     "metadata": {},
     "output_type": "execute_result"
    }
   ],
   "source": [
    "# 이상치 제거 후 내가 상위 몇퍼인가 결과\n",
    "my_rank_data"
   ]
  },
  {
   "cell_type": "code",
   "execution_count": null,
   "metadata": {},
   "outputs": [],
   "source": []
  },
  {
   "cell_type": "code",
   "execution_count": null,
   "metadata": {},
   "outputs": [],
   "source": []
  },
  {
   "cell_type": "code",
   "execution_count": null,
   "metadata": {},
   "outputs": [],
   "source": []
  },
  {
   "cell_type": "code",
   "execution_count": null,
   "metadata": {},
   "outputs": [],
   "source": []
  },
  {
   "cell_type": "code",
   "execution_count": null,
   "metadata": {},
   "outputs": [],
   "source": []
  },
  {
   "cell_type": "code",
   "execution_count": null,
   "metadata": {},
   "outputs": [],
   "source": []
  },
  {
   "cell_type": "code",
   "execution_count": null,
   "metadata": {},
   "outputs": [],
   "source": []
  },
  {
   "cell_type": "code",
   "execution_count": null,
   "metadata": {},
   "outputs": [],
   "source": [
    "########################################################################################################"
   ]
  }
 ],
 "metadata": {
  "colab": {
   "name": "opgg7.ipynb",
   "provenance": []
  },
  "kernelspec": {
   "display_name": "Python 3 (ipykernel)",
   "language": "python",
   "name": "python3"
  },
  "language_info": {
   "codemirror_mode": {
    "name": "ipython",
    "version": 3
   },
   "file_extension": ".py",
   "mimetype": "text/x-python",
   "name": "python",
   "nbconvert_exporter": "python",
   "pygments_lexer": "ipython3",
   "version": "3.9.7"
  }
 },
 "nbformat": 4,
 "nbformat_minor": 1
}
